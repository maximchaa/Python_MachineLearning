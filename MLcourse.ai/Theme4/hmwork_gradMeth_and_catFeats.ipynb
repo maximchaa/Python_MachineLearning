{
 "cells": [
  {
   "cell_type": "code",
   "execution_count": 1,
   "metadata": {},
   "outputs": [],
   "source": [
    "import numpy as np\n",
    "import pandas as pd\n",
    "import seaborn as sns\n",
    "\n",
    "from sklearn.base import BaseEstimator\n",
    "from sklearn.metrics import mean_squared_error, log_loss, roc_auc_score\n",
    "from sklearn.model_selection import train_test_split\n",
    "from sklearn.preprocessing import StandardScaler\n",
    "\n",
    "%matplotlib inline\n",
    "from matplotlib import pyplot as plt\n",
    "\n",
    "from tqdm import tqdm"
   ]
  },
  {
   "cell_type": "markdown",
   "metadata": {},
   "source": [
    "## 1. Линейная регрессия и SGD"
   ]
  },
  {
   "cell_type": "markdown",
   "metadata": {},
   "source": [
    "Реализуем класс `SGDRegressor`. Спецификация:\n",
    "\n",
    "* класс наследуется от `sklearn.base.BaseEstimator`\n",
    "* конструктор принимает параметры `eta` – шаг градиентного спуска (по умолчанию 10−3) и `n_iter` – число проходов по выборке (по умолчанию 10)\n",
    "* также в конструкторе должны создаваться списки `mse_` и `weights_` для отслеживания значений среднеквадратичной ошибки и вектора весов по итерациям градиентного спуска\n",
    "* Класс имеет методы `fit` и `predict`\n",
    "* Метод `fit` принимает матрицу `X` и вектор `y` (объекты `numpy.array`), добавляет к матрице `X` слева столбец из единиц, инициализирует вектор весов `w` нулями и в цикле с числом итераций `n_iter` обновляет веса, а также записывает получившиеся на данной итерации значения среднеквадратичной ошибки и вектор весов `w` в предназначенные для этого списки.\n",
    "* В конце метод `fit` создает переменную `w_opt`, в которой хранится тот вектор весов, при котором ошибка минимальна\n",
    "* Метод `fit` должен возвращать текущий экземпляр класса `SGDRegressor`, т.е. `self`\n",
    "* Метод `predict` принимает матрицу `X`, добавляет к ней слева столбец из единиц и возвращает вектор прогнозов модели, используя созданный методом `fit` вектор весов `w_`."
   ]
  },
  {
   "cell_type": "code",
   "execution_count": 2,
   "metadata": {},
   "outputs": [],
   "source": [
    "class SGDRegressor(BaseEstimator):\n",
    "    def __init__(self, n_iter=10, eta=1e-3, tolerance=1e-4, w0=None,):\n",
    "        self.n_iter = n_iter\n",
    "        self.eta = eta\n",
    "        self.tolerance = tolerance\n",
    "        self.w0 = w0\n",
    "        self.w_opt = None\n",
    "        self.weights_ = None\n",
    "        self.mse_ = None\n",
    "    \n",
    "    def fit(self, X, y):\n",
    "        # X = np.append(X, np.ones((X.shape[0], 1)), axis=1) # Добавляем столбец из единиц справа\n",
    "        min_mse = np.inf\n",
    "        self.mse_ = []\n",
    "        self.weights_ = self.w0.copy() if self.w0 is not None else np.zeros(X.shape[1])\n",
    "        \n",
    "        for it in range(self.n_iter): \n",
    "            mse_tmp = self.calc_mse(X,y)\n",
    "            self.mse_.append(mse_tmp)\n",
    "                \n",
    "            rand_index = np.random.randint(0, y.shape[0])            \n",
    "            gradient = 1/X[rand_index].shape[0] *  X[rand_index].T.dot(\n",
    "                                                                X[rand_index] @ self.weights_.T - y[rand_index].T\n",
    "                                                                      )\n",
    "            w_tmp = self.weights_ - self.eta * gradient\n",
    "            \n",
    "            if (mse_tmp - min_mse) < 1e-10:\n",
    "                min_mse = mse_tmp\n",
    "                self.w_opt = w_tmp\n",
    "            \n",
    "            if np.linalg.norm(w_tmp - self.weights_, 2) < self.tolerance:\n",
    "                break\n",
    "                \n",
    "            self.weights_ = w_tmp\n",
    "            \n",
    "        return self\n",
    "    \n",
    "    def predict(self, X):\n",
    "        if self.weights_ is None:\n",
    "            raise Exception('Not trained yet')\n",
    "            \n",
    "        return X @ self.weights_.T\n",
    "            \n",
    "    def calc_mse(self, X, y):\n",
    "        tmp = X @ self.weights_.T - y.T  \n",
    "        \n",
    "        return 1 / y.shape[0] * tmp @ tmp.T"
   ]
  },
  {
   "cell_type": "markdown",
   "metadata": {},
   "source": [
    "Проверим работу алгоритма на данных по росту и весу. Будем прогнозировать рост (в дюймах) по весу (в фунтах):"
   ]
  },
  {
   "cell_type": "code",
   "execution_count": 3,
   "metadata": {},
   "outputs": [
    {
     "data": {
      "text/html": [
       "<div>\n",
       "<style scoped>\n",
       "    .dataframe tbody tr th:only-of-type {\n",
       "        vertical-align: middle;\n",
       "    }\n",
       "\n",
       "    .dataframe tbody tr th {\n",
       "        vertical-align: top;\n",
       "    }\n",
       "\n",
       "    .dataframe thead th {\n",
       "        text-align: right;\n",
       "    }\n",
       "</style>\n",
       "<table border=\"1\" class=\"dataframe\">\n",
       "  <thead>\n",
       "    <tr style=\"text-align: right;\">\n",
       "      <th></th>\n",
       "      <th>Index</th>\n",
       "      <th>Height</th>\n",
       "      <th>Weight</th>\n",
       "    </tr>\n",
       "  </thead>\n",
       "  <tbody>\n",
       "    <tr>\n",
       "      <th>0</th>\n",
       "      <td>1</td>\n",
       "      <td>65.78331</td>\n",
       "      <td>112.9925</td>\n",
       "    </tr>\n",
       "    <tr>\n",
       "      <th>1</th>\n",
       "      <td>2</td>\n",
       "      <td>71.51521</td>\n",
       "      <td>136.4873</td>\n",
       "    </tr>\n",
       "    <tr>\n",
       "      <th>2</th>\n",
       "      <td>3</td>\n",
       "      <td>69.39874</td>\n",
       "      <td>153.0269</td>\n",
       "    </tr>\n",
       "    <tr>\n",
       "      <th>3</th>\n",
       "      <td>4</td>\n",
       "      <td>68.21660</td>\n",
       "      <td>142.3354</td>\n",
       "    </tr>\n",
       "    <tr>\n",
       "      <th>4</th>\n",
       "      <td>5</td>\n",
       "      <td>67.78781</td>\n",
       "      <td>144.2971</td>\n",
       "    </tr>\n",
       "  </tbody>\n",
       "</table>\n",
       "</div>"
      ],
      "text/plain": [
       "   Index    Height    Weight\n",
       "0      1  65.78331  112.9925\n",
       "1      2  71.51521  136.4873\n",
       "2      3  69.39874  153.0269\n",
       "3      4  68.21660  142.3354\n",
       "4      5  67.78781  144.2971"
      ]
     },
     "execution_count": 3,
     "metadata": {},
     "output_type": "execute_result"
    }
   ],
   "source": [
    "data_demo = pd.read_csv('weights_heights.csv')\n",
    "data_demo.head()"
   ]
  },
  {
   "cell_type": "code",
   "execution_count": 4,
   "metadata": {},
   "outputs": [
    {
     "name": "stdout",
     "output_type": "stream",
     "text": [
      "<class 'pandas.core.frame.DataFrame'>\n",
      "RangeIndex: 25000 entries, 0 to 24999\n",
      "Data columns (total 3 columns):\n",
      "Index     25000 non-null int64\n",
      "Height    25000 non-null float64\n",
      "Weight    25000 non-null float64\n",
      "dtypes: float64(2), int64(1)\n",
      "memory usage: 586.0 KB\n"
     ]
    }
   ],
   "source": [
    "data_demo.info()"
   ]
  },
  {
   "cell_type": "code",
   "execution_count": 5,
   "metadata": {},
   "outputs": [
    {
     "data": {
      "image/png": "[encoded data removed]",
      "text/plain": [
       "<Figure size 432x288 with 1 Axes>"
      ]
     },
     "metadata": {
      "needs_background": "light"
     },
     "output_type": "display_data"
    }
   ],
   "source": [
    "plt.scatter(data_demo['Weight'], data_demo['Height']);\n",
    "plt.xlabel('Вес (фунты)')\n",
    "plt.ylabel('Рост (дюймы)');"
   ]
  },
  {
   "cell_type": "code",
   "execution_count": 6,
   "metadata": {},
   "outputs": [],
   "source": [
    "X, y = data_demo['Weight'].values, data_demo['Height'].values\n",
    "\n",
    "X_train, X_test, y_train, y_test = train_test_split(X, y, test_size=0.3, random_state=17)\n",
    "\n",
    "#X_train['const'] = 1\n",
    "#X_test['const'] = 1"
   ]
  },
  {
   "cell_type": "code",
   "execution_count": 7,
   "metadata": {},
   "outputs": [],
   "source": [
    "scaler = StandardScaler()\n",
    "X_train_scaled = scaler.fit_transform(X_train.reshape([X_train.shape[0], 1]))\n",
    "X_test_scaled = scaler.transform(X_test.reshape([X_test.shape[0], 1]))"
   ]
  },
  {
   "cell_type": "markdown",
   "metadata": {},
   "source": [
    "Обучим созданный SGDRegressor на выборке (X_train_scaled, y_train). Параметры оставим по умолчанию:"
   ]
  },
  {
   "cell_type": "code",
   "execution_count": 8,
   "metadata": {},
   "outputs": [],
   "source": [
    "def MSE(bar_y, y):\n",
    "    return 1 / y.shape[0] * (bar_y - y) @ (bar_y - y).T"
   ]
  },
  {
   "cell_type": "code",
   "execution_count": 9,
   "metadata": {},
   "outputs": [
    {
     "name": "stdout",
     "output_type": "stream",
     "text": [
      "MSE = 4626.5488\n"
     ]
    }
   ],
   "source": [
    "regressor = SGDRegressor()\n",
    "regressor.fit(X_train_scaled, y_train)\n",
    "\n",
    "print('MSE = %.4f' % MSE(regressor.predict(X_train_scaled), y_train))"
   ]
  },
  {
   "cell_type": "markdown",
   "metadata": {},
   "source": [
    "Изобразим на графике процесс обучения – как среднеквадратичная ошибка зависит от номера итерации стохастического градиентного спуска:"
   ]
  },
  {
   "cell_type": "code",
   "execution_count": 10,
   "metadata": {},
   "outputs": [],
   "source": [
    "sns.set(style=\"darkgrid\")\n",
    "\n",
    "def DrawLoss(regressor, y, skip=0):\n",
    "    title_tmp = f'Learning of linear regressor with SGD. Parameters: n_iter={regressor.n_iter}, eta={regressor.eta}'\n",
    "    \n",
    "    fig, ax = plt.subplots(nrows=1, ncols=1, figsize=(20,8))\n",
    "    \n",
    "    ax.set_title(title_tmp)\n",
    "    ax.set_xlabel('iterations')\n",
    "    ax.set_ylabel('MSE')\n",
    "    ax.plot([regressor.mse_[skip]] * skip + regressor.mse_[skip:])\n",
    "\n",
    "    plt.show()"
   ]
  },
  {
   "cell_type": "code",
   "execution_count": 11,
   "metadata": {},
   "outputs": [
    {
     "data": {
      "image/png": "[encoded data removed]",
      "text/plain": [
       "<Figure size 1440x576 with 1 Axes>"
      ]
     },
     "metadata": {},
     "output_type": "display_data"
    }
   ],
   "source": [
    "DrawLoss(regressor, np.array(y_train))"
   ]
  },
  {
   "cell_type": "markdown",
   "metadata": {},
   "source": [
    "Выведем наименьшее значение среднеквадратичной ошибки и лучший вектор весов модели:"
   ]
  },
  {
   "cell_type": "code",
   "execution_count": 12,
   "metadata": {},
   "outputs": [
    {
     "name": "stdout",
     "output_type": "stream",
     "text": [
      "Min MSE = 4626.1549\n",
      "Weights when MSE is min: -0.0046\n"
     ]
    }
   ],
   "source": [
    "print('Min MSE = %.4f' % min(regressor.mse_))\n",
    "print('Weights when MSE is min: %.4f' % regressor.w_opt)"
   ]
  },
  {
   "cell_type": "markdown",
   "metadata": {},
   "source": [
    "Сделаем прогноз для отложенной выборки (X_test_scaled, y_test) и посмотрим на MSE:"
   ]
  },
  {
   "cell_type": "code",
   "execution_count": 13,
   "metadata": {},
   "outputs": [
    {
     "name": "stdout",
     "output_type": "stream",
     "text": [
      "MSE = 4628.7348\n"
     ]
    }
   ],
   "source": [
    "print('MSE = %.4f' % MSE(regressor.predict(X_test_scaled), y_test))"
   ]
  },
  {
   "cell_type": "markdown",
   "metadata": {},
   "source": [
    "Теперь следаем то же самое, но с LinearRegression из sklearn.linear_model. Посчитаем MSE для отложенной выборки:"
   ]
  },
  {
   "cell_type": "code",
   "execution_count": 14,
   "metadata": {},
   "outputs": [],
   "source": [
    "from sklearn import linear_model\n",
    "from sklearn.metrics import mean_squared_error"
   ]
  },
  {
   "cell_type": "code",
   "execution_count": 15,
   "metadata": {},
   "outputs": [
    {
     "name": "stdout",
     "output_type": "stream",
     "text": [
      "Train MSE = 2.7151\n",
      "Test MSE = 2.6708\n"
     ]
    }
   ],
   "source": [
    "model = linear_model.LinearRegression().fit(X_train_scaled, y_train)\n",
    "\n",
    "y_pred = model.predict(X_train_scaled)\n",
    "print(\"Train MSE = %.4f\" % mean_squared_error(y_train, y_pred))\n",
    "y_pred = model.predict(X_test_scaled)\n",
    "print(\"Test MSE = %.4f\" % mean_squared_error(y_test, y_pred))"
   ]
  },
  {
   "cell_type": "markdown",
   "metadata": {},
   "source": [
    "---\n",
    "---\n",
    "---"
   ]
  },
  {
   "cell_type": "markdown",
   "metadata": {},
   "source": [
    "## 2. Логистическая регрессия и SGD"
   ]
  },
  {
   "cell_type": "markdown",
   "metadata": {},
   "source": [
    "Задача классификации, $X$ – обучающая выборка размеров $\\ell \\times (d+1)$ (первый столбец – вектор из единиц), $y$ – вектор ответов, $y_i \\in \\{-1, 1\\}$.\n",
    "Логистическая регрессия с $L_2$-регуляризацией сводится к задаче минимизации:\n",
    "$$ C\\sum_{i=1}^\\ell \\log{(1 + e^{-y_iw^Tx_i})} + \\frac{1}{2}\\sum_{j=1}^d w_j^2 \\rightarrow min_w$$"
   ]
  },
  {
   "cell_type": "markdown",
   "metadata": {},
   "source": [
    "<font color='red'>Формула 2.</font> Пересчитываем веса логистической регрессии при обучении стохастическим градиентным спуском:\n",
    " $$w_j^{(t+1)} = w_j^{(t)} - \\eta (Cy_i x_{ij} \\sigma(-y_iw^Tx_i) -  \\delta_{j\\neq0}w_j )$$"
   ]
  },
  {
   "cell_type": "markdown",
   "metadata": {},
   "source": [
    "Реализуем класс `SGDClassifier`. Спецификация:\n",
    "\n",
    "- класс наследуется от `sklearn.base.BaseEstimator`\n",
    "- конструктор принимает параметры `eta` – шаг градиентного спуска (по умолчанию $10^{-3}$), `n_iter` – число проходов по выборке (по умолчанию 10) и `C` – коэффициент регуляризации\n",
    "- также в конструкторе должны создаваться списки `loss_` и `weights_` для отслеживания значений логистических потерь и вектора весов по итерациям градиентного спуска\n",
    "- Класс имеет методы `fit`, `predict` и `predict_proba`\n",
    "- Метод `fit` принимает матрицу `X` и вектор `y` (рассматриваем только случай бинарной классификации, и значения в векторе `y` могут быть -1 и 1), добавляет к матрице `X` слева столбец из единиц, инициализирует вектор весов `w` нулями и в цикле с числом итераций `n_iter` обновляет веса по выведенной формуле, а также записывает получившиеся на данной итерации значения log_loss и вектор весов `w` в предназначенные для этого списки. \n",
    "- В конце метод `fit` создает переменную `w_opt`, в которой хранится тот вектор весов, при котором ошибка минимальна\n",
    "- Метод `fit` должен возвращать текущий экземпляр класса `SGDClassifier`, т.е. `self`\n",
    "- Метод `predict_proba` принимает матрицу `X`, добавляет к ней слева столбец из единиц и возвращает матрицу прогнозов модели, используя созданный методом `fit` вектор весов `w_`\n",
    "- Метод `predict` вызывает метод  `predict_proba` и возвращает вектор ответов: -1, если предсказанная вероятность *класса 1* меньше 0.5 <br>и 1 – в противном случае\n",
    "- Во избежание вычислительных проблем из-за слишком больших или малых значений под экспонентной (overflow & underflow) будем использовать написанную ниже функцию `sigma`"
   ]
  },
  {
   "cell_type": "code",
   "execution_count": 16,
   "metadata": {},
   "outputs": [],
   "source": [
    "def sigma(z):\n",
    "    z = z.flatten()\n",
    "    z[z > 100] = 100\n",
    "    z[z < -100] = -100\n",
    "    return 1. / (1 + np.exp(-z))"
   ]
  },
  {
   "cell_type": "code",
   "execution_count": 17,
   "metadata": {},
   "outputs": [],
   "source": [
    "class SGDClassifier(BaseEstimator):\n",
    "    def __init__(self, n_iter=10, eta=1e-3, C=None, tolerance=1e-4, w0=None):\n",
    "        self.n_iter = n_iter\n",
    "        self.eta = eta\n",
    "        self.C=C\n",
    "        self.tolerance = tolerance\n",
    "        self.w0 = w0\n",
    "        self.w_opt = None\n",
    "        self.weights_ = None\n",
    "        self.loss_ = None\n",
    "    \n",
    "    def fit(self, X, y):\n",
    "        X = np.append(X, np.ones((X.shape[0], 1)), axis=1) # Добавляем столбец из единиц справа\n",
    "        X[:, 0], X[:, 1:] = X[:, -1], X[:, 0:-1].copy() # Переставляем его в начало\n",
    "        min_loss = np.inf\n",
    "        self.loss_ = []\n",
    "        self.weights_ = self.w0.copy() if self.w0 is not None else np.zeros(X.shape[1])\n",
    "        \n",
    "        for it in range(self.n_iter): \n",
    "            loss_tmp = self.calc_loss(X,y)\n",
    "            self.loss_.append(loss_tmp)\n",
    "                \n",
    "            rand_index = np.random.randint(0, y.shape[0])            \n",
    "            tmp = -y[rand_index].T * (X[rand_index].T @ self.weights_)\n",
    "            \n",
    "            # В формуле 2 ошибка: ни по какой из этих формул не вычисляется градиент\n",
    "            gradient = self.C * y[rand_index] * X[rand_index] @ sigma(tmp).T - self.weights_[0]\n",
    "            w_tmp = self.weights_ - self.eta * gradient\n",
    "            \n",
    "            if (loss_tmp - min_loss) < 1e-10:\n",
    "                min_loss = loss_tmp\n",
    "                self.w_opt = w_tmp\n",
    "            \n",
    "            if np.linalg.norm(w_tmp - self.weights_, 2) < self.tolerance:\n",
    "                break\n",
    "                \n",
    "            self.weights_ = w_tmp\n",
    "            \n",
    "        return self\n",
    "    \n",
    "    def predict(self, X):\n",
    "        if self.weights_ is None:\n",
    "            raise Exception('Not trained yet')\n",
    "        \n",
    "        class_proba = predict_proba(self, X)\n",
    "            \n",
    "        return 1 if (0.5 - class_proba) <= 1e-14 else -1\n",
    "    \n",
    "    def predict_proba(self, X):\n",
    "        X = np.append(X, np.ones((X.shape[0], 1)), axis=1) # Добавляем столбец из единиц справа\n",
    "        X[:, 0], X[:, 1:] = X[:, -1], X[:, 0:-1].copy() # Переставляем его в начало\n",
    "        \n",
    "        return sigma(self.weights_.T @ X)\n",
    "            \n",
    "    def calc_loss(self, X, y):\n",
    "        tmp = -y.T.dot(X @ self.weights_)\n",
    "        \n",
    "        return self.C * np.log1p( np.exp(tmp) ) + 1/2 * self.weights_.T @ self.weights_"
   ]
  },
  {
   "cell_type": "markdown",
   "metadata": {},
   "source": [
    "Проверим `SGDClassifier` на данных UCI по раку молочной железы:"
   ]
  },
  {
   "cell_type": "code",
   "execution_count": 18,
   "metadata": {},
   "outputs": [],
   "source": [
    "from sklearn.datasets import load_breast_cancer"
   ]
  },
  {
   "cell_type": "code",
   "execution_count": 19,
   "metadata": {},
   "outputs": [],
   "source": [
    "cancer = load_breast_cancer()\n",
    "# поменяем метки в y с 0 на -1\n",
    "X, y = cancer.data, [-1 if i == 0 else 1 for i in cancer.target]"
   ]
  },
  {
   "cell_type": "code",
   "execution_count": 20,
   "metadata": {},
   "outputs": [],
   "source": [
    "X_train, X_test, y_train, y_test = train_test_split(X, y, test_size=0.3, random_state=17)\n",
    "\n",
    "y_train = np.array(y_train)\n",
    "y_test = np.array(y_test)"
   ]
  },
  {
   "cell_type": "code",
   "execution_count": 21,
   "metadata": {},
   "outputs": [],
   "source": [
    "scaler = StandardScaler()\n",
    "X_train_scaled = scaler.fit_transform(X_train)\n",
    "X_test_scaled = scaler.transform(X_test)"
   ]
  },
  {
   "cell_type": "markdown",
   "metadata": {},
   "source": [
    "Обучим на масштибированной выборке `SGDClassifier` с параметрами `n_iter=3`, `eta=1e-3` и `C=1`:"
   ]
  },
  {
   "cell_type": "code",
   "execution_count": 22,
   "metadata": {},
   "outputs": [],
   "source": [
    "def loss(bar_y, y):\n",
    "    tmp = -y.dot(bar_y)\n",
    "        \n",
    "    return np.log1p( np.exp(tmp) ) # self.C * ... + 1/2 * self.weights_.T @ self.weights_"
   ]
  },
  {
   "cell_type": "code",
   "execution_count": null,
   "metadata": {},
   "outputs": [],
   "source": [
    "classifier = SGDClassifier(n_iter=3, eta=1e-3, C=1)\n",
    "classifier.fit(X_train_scaled, y_train)\n",
    "\n",
    "print('Log loss = %.4f' % loss(classifier.predict(X_train_scaled), y_train))"
   ]
  },
  {
   "cell_type": "markdown",
   "metadata": {},
   "source": [
    "> В формуле 2 ошибка: ни по какой из этих формул не вычисляется градиент.\n",
    "<br> Пересчитать потом нужно будет заново все аналитические выкладки, пока хватит log-регрессий."
   ]
  },
  {
   "cell_type": "markdown",
   "metadata": {},
   "source": [
    "---\n",
    "---\n",
    "---"
   ]
  },
  {
   "cell_type": "markdown",
   "metadata": {},
   "source": [
    "## 3. Логистическая регрессия и SGDClassifier в задаче классификации отзывов к фильмам"
   ]
  },
  {
   "cell_type": "markdown",
   "metadata": {},
   "source": [
    "Теперь посмотрим на логистическую регрессию и ее же версию, но обучаемую стохастическим градиентным спуском, в задаче классификации отзывов IMDB. Данные можно скачать [отсюда](https://drive.google.com/open?id=1xq4l5c0JrcxJdyBwJWvy0u9Ad_pvkJ1l)."
   ]
  },
  {
   "cell_type": "code",
   "execution_count": 23,
   "metadata": {},
   "outputs": [],
   "source": [
    "from sklearn.datasets import load_files\n",
    "from sklearn.feature_extraction.text import CountVectorizer\n",
    "from sklearn.linear_model import SGDClassifier"
   ]
  },
  {
   "cell_type": "code",
   "execution_count": 24,
   "metadata": {},
   "outputs": [],
   "source": [
    "reviews_train = load_files(\".../aclImdb/train\")\n",
    "text_train, y_train = reviews_train.data, reviews_train.target"
   ]
  },
  {
   "cell_type": "code",
   "execution_count": 25,
   "metadata": {},
   "outputs": [],
   "source": [
    "reviews_test = load_files(\".../aclImdb/test\")\n",
    "text_test, y_test = reviews_test.data, reviews_test.target"
   ]
  },
  {
   "cell_type": "markdown",
   "metadata": {},
   "source": [
    "Обучим на имеющихся данных `CountVectorizer`, считая биграммы, то есть перейдем к разреженному представлению данных, где каждому уникальному слову и паре подряд идущих слов в обучающей выборке соответсвует признак:"
   ]
  },
  {
   "cell_type": "code",
   "execution_count": 26,
   "metadata": {},
   "outputs": [
    {
     "name": "stdout",
     "output_type": "stream",
     "text": [
      "CPU times: user 1min 20s, sys: 3.09 s, total: 1min 23s\n",
      "Wall time: 1min 24s\n"
     ]
    }
   ],
   "source": [
    "%%time\n",
    "cv = CountVectorizer(ngram_range=(1, 2))\n",
    "X_train = cv.fit_transform(text_train)\n",
    "X_test = cv.transform(text_test)"
   ]
  },
  {
   "cell_type": "code",
   "execution_count": 27,
   "metadata": {},
   "outputs": [
    {
     "data": {
      "text/plain": [
       "((398, 30), (171, 30))"
      ]
     },
     "execution_count": 27,
     "metadata": {},
     "output_type": "execute_result"
    }
   ],
   "source": [
    "X_train.shape, X_test.shape"
   ]
  },
  {
   "cell_type": "markdown",
   "metadata": {},
   "source": [
    "Чего-то пошло не так и размер выборки крайне ничтожный :/"
   ]
  },
  {
   "cell_type": "code",
   "execution_count": 28,
   "metadata": {},
   "outputs": [
    {
     "data": {
      "text/plain": [
       "((75000,), (25000,))"
      ]
     },
     "execution_count": 28,
     "metadata": {},
     "output_type": "execute_result"
    }
   ],
   "source": [
    "y_train.shape, y_test.shape"
   ]
  },
  {
   "cell_type": "markdown",
   "metadata": {},
   "source": [
    "Обучим на выборке `(X_train, y_train)` логистическую регрессию с параметрами по умолчанию (только с `random_state`=17) и посчитаем ROC AUC на тестовой выборке. Данные можно не масштабировать, так как признаки – по сути, счетчики, и они уже все измеряются примерно в одном диапазоне:"
   ]
  },
  {
   "cell_type": "code",
   "execution_count": 29,
   "metadata": {},
   "outputs": [],
   "source": [
    "import warnings\n",
    "warnings.filterwarnings(\"ignore\")"
   ]
  },
  {
   "cell_type": "code",
   "execution_count": null,
   "metadata": {},
   "outputs": [],
   "source": [
    "model = linear_model.SGDClassifier(random_state=17).fit(X_train, y_train)\n",
    "\n",
    "y_pred = model.predict(X_train)\n",
    "print(\"Train MSE = %.4f\" % mean_squared_error(y_train, y_pred))\n",
    "y_pred = model.predict(X_test)\n",
    "print(\"Test MSE = %.4f\" % mean_squared_error(y_test, y_pred))"
   ]
  },
  {
   "cell_type": "markdown",
   "metadata": {},
   "source": [
    ">*Из-за несоответствующих размеров выборки, отладим модель позже..*"
   ]
  },
  {
   "cell_type": "markdown",
   "metadata": {},
   "source": [
    "Перейдем к `sklearn`-реализации SGD-алгоритма. \n",
    "<br>Проведем 100 итераций SGD-логрегрессии (`random_state`=17) на той же выборке:"
   ]
  },
  {
   "cell_type": "code",
   "execution_count": null,
   "metadata": {},
   "outputs": [],
   "source": []
  }
 ],
 "metadata": {
  "kernelspec": {
   "display_name": "Python 3",
   "language": "python",
   "name": "python3"
  },
  "language_info": {
   "codemirror_mode": {
    "name": "ipython",
    "version": 3
   },
   "file_extension": ".py",
   "mimetype": "text/x-python",
   "name": "python",
   "nbconvert_exporter": "python",
   "pygments_lexer": "ipython3",
   "version": "3.7.3"
  }
 },
 "nbformat": 4,
 "nbformat_minor": 2
}
