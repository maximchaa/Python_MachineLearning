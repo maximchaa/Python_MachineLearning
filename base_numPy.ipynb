{
 "cells": [
  {
   "cell_type": "markdown",
   "metadata": {},
   "source": [
    "## NumPy\n",
    "\n",
    "**NumPy** — библиотека языка Python, позволяющая [удобно] работать с многомерными массивами и матрицами, содержащая математические функции. Кроме того, NumPy позволяет векторизовать многие вычисления, имеющие место в машинном обучении.\n",
    "\n",
    " - [numpy](http://www.numpy.org)\n",
    " - [numpy tutorial](http://cs231n.github.io/python-numpy-tutorial/)\n",
    " - [100 numpy exercises](http://www.labri.fr/perso/nrougier/teaching/numpy.100/)"
   ]
  },
  {
   "cell_type": "code",
   "execution_count": 1,
   "metadata": {},
   "outputs": [],
   "source": [
    "from numpy import array\n",
    "from numpy import empty\n",
    "from numpy import zeros\n",
    "from numpy import ones\n",
    "from numpy import vstack, hstack"
   ]
  },
  {
   "cell_type": "markdown",
   "metadata": {},
   "source": [
    "Основным типом данных NumPy является многомерный массив элементов одного типа — [numpy.ndarray](http://docs.scipy.org/doc/numpy-1.10.0/reference/generated/numpy.array.html). Каждый подобный массив имеет несколько *измерений* или *осей* — в частности, вектор (в классическом понимании) является одномерным массивом и имеет 1 ось, матрица является двумерным массивом и имеет 2 оси и т.д."
   ]
  },
  {
   "cell_type": "code",
   "execution_count": 2,
   "metadata": {},
   "outputs": [
    {
     "name": "stdout",
     "output_type": "stream",
     "text": [
      "[1. 2. 3.]\n",
      "(3,)\n",
      "float64\n"
     ]
    }
   ],
   "source": [
    "# create array\n",
    "l = [1.0, 2.0, 3.0]\n",
    "a = array(l)\n",
    "\n",
    "# display array\n",
    "print(a)\n",
    "# display array shape\n",
    "print(a.shape)\n",
    "# display array data type\n",
    "print(a.dtype)"
   ]
  },
  {
   "cell_type": "markdown",
   "metadata": {},
   "source": [
    "an empty 3 \u0002 3 two-dimensional array:"
   ]
  },
  {
   "cell_type": "code",
   "execution_count": 3,
   "metadata": {},
   "outputs": [
    {
     "name": "stdout",
     "output_type": "stream",
     "text": [
      "[[ 6.17779239e-31 -1.23555848e-30  3.08889620e-31]\n",
      " [-1.23555848e-30  2.68733969e-30 -8.34001973e-31]\n",
      " [ 3.08889620e-31 -8.34001973e-31  4.78778910e-31]]\n"
     ]
    }
   ],
   "source": [
    "a = empty([3,3])\n",
    "print(a)"
   ]
  },
  {
   "cell_type": "markdown",
   "metadata": {},
   "source": [
    "The argument to the function is an array or tuple that speci\f",
    "es the length of each\n",
    "dimension of the array to create. The example below creates a 3 \u0002 5 zero two-dimensional array:"
   ]
  },
  {
   "cell_type": "code",
   "execution_count": 4,
   "metadata": {},
   "outputs": [],
   "source": [
    "import numpy as np"
   ]
  },
  {
   "cell_type": "code",
   "execution_count": 5,
   "metadata": {},
   "outputs": [
    {
     "name": "stdout",
     "output_type": "stream",
     "text": [
      "[[0. 0. 0. 0. 0.]\n",
      " [0. 0. 0. 0. 0.]\n",
      " [0. 0. 0. 0. 0.]]\n"
     ]
    }
   ],
   "source": [
    "a = zeros([3,5])\n",
    "print(a)"
   ]
  },
  {
   "cell_type": "markdown",
   "metadata": {},
   "source": [
    "The example below creates a 5-element one-dimensional array"
   ]
  },
  {
   "cell_type": "code",
   "execution_count": 6,
   "metadata": {
    "scrolled": true
   },
   "outputs": [
    {
     "name": "stdout",
     "output_type": "stream",
     "text": [
      "[1. 1. 1. 1. 1.]\n"
     ]
    }
   ],
   "source": [
    "a = ones([5])\n",
    "print(a)"
   ]
  },
  {
   "cell_type": "code",
   "execution_count": 7,
   "metadata": {
    "scrolled": true
   },
   "outputs": [
    {
     "data": {
      "text/plain": [
       "array([[1., 0., 0.],\n",
       "       [0., 1., 0.],\n",
       "       [0., 0., 1.]])"
      ]
     },
     "execution_count": 7,
     "metadata": {},
     "output_type": "execute_result"
    }
   ],
   "source": [
    "np.identity(3)"
   ]
  },
  {
   "cell_type": "markdown",
   "metadata": {},
   "source": [
    "Создание последовательностей при помощи функций arange (в качестве параметров принимает левую и правую границы последовательности и **шаг**) и linspace (принимает левую и правую границы и **количество элементов**):"
   ]
  },
  {
   "cell_type": "code",
   "execution_count": 8,
   "metadata": {},
   "outputs": [
    {
     "data": {
      "text/plain": [
       "array([ 2,  5,  8, 11, 14, 17])"
      ]
     },
     "execution_count": 8,
     "metadata": {},
     "output_type": "execute_result"
    }
   ],
   "source": [
    "np.arange(2, 20, 3) # аналогично стандартной функции range python, правая граница не включается"
   ]
  },
  {
   "cell_type": "code",
   "execution_count": 9,
   "metadata": {},
   "outputs": [
    {
     "data": {
      "text/plain": [
       "array([2.5, 3.4, 4.3, 5.2, 6.1, 7. , 7.9])"
      ]
     },
     "execution_count": 9,
     "metadata": {},
     "output_type": "execute_result"
    }
   ],
   "source": [
    "np.arange(2.5, 8.7, 0.9) # но может работать и с вещественными числами"
   ]
  },
  {
   "cell_type": "code",
   "execution_count": 10,
   "metadata": {},
   "outputs": [
    {
     "data": {
      "text/plain": [
       "array([ 2.        ,  3.23076923,  4.46153846,  5.69230769,  6.92307692,\n",
       "        8.15384615,  9.38461538, 10.61538462, 11.84615385, 13.07692308,\n",
       "       14.30769231, 15.53846154, 16.76923077, 18.        ])"
      ]
     },
     "execution_count": 10,
     "metadata": {},
     "output_type": "execute_result"
    }
   ],
   "source": [
    "np.linspace(2, 18, 14) # правая граница включается (по умолчанию)"
   ]
  },
  {
   "cell_type": "code",
   "execution_count": 11,
   "metadata": {},
   "outputs": [
    {
     "data": {
      "text/plain": [
       "2"
      ]
     },
     "execution_count": 11,
     "metadata": {},
     "output_type": "execute_result"
    }
   ],
   "source": [
    "mat = np.array([[1, 2, 3], [4, 5, 6]])\n",
    "mat.ndim # количество осей"
   ]
  },
  {
   "cell_type": "markdown",
   "metadata": {},
   "source": [
    "Чтобы узнать длину массива по каждой из осей, можно воспользоваться атрибутом shape:"
   ]
  },
  {
   "cell_type": "code",
   "execution_count": 12,
   "metadata": {},
   "outputs": [
    {
     "data": {
      "text/plain": [
       "(2, 3)"
      ]
     },
     "execution_count": 12,
     "metadata": {},
     "output_type": "execute_result"
    }
   ],
   "source": [
    "mat.shape"
   ]
  },
  {
   "cell_type": "markdown",
   "metadata": {},
   "source": [
    "Given two or more existing arrays, you can stack them vertically using the vstack() function:"
   ]
  },
  {
   "cell_type": "code",
   "execution_count": 13,
   "metadata": {},
   "outputs": [
    {
     "name": "stdout",
     "output_type": "stream",
     "text": [
      "[1 2 3]\n",
      "[4 5 6]\n",
      "\n",
      "[[1 2 3]\n",
      " [4 5 6]]\n",
      "(2, 3)\n"
     ]
    }
   ],
   "source": [
    "# create first array\n",
    "a1 = array([1,2,3])\n",
    "print(a1)\n",
    "# create second array\n",
    "a2 = array([4,5,6])\n",
    "print(a2)\n",
    "print()\n",
    "# vertical stack\n",
    "a3 = vstack((a1, a2))\n",
    "print(a3)\n",
    "print(a3.shape)"
   ]
  },
  {
   "cell_type": "markdown",
   "metadata": {},
   "source": [
    "Given two or more existing arrays, you can stack them horizontally using the hstack() function:"
   ]
  },
  {
   "cell_type": "code",
   "execution_count": 14,
   "metadata": {},
   "outputs": [
    {
     "name": "stdout",
     "output_type": "stream",
     "text": [
      "[1 2 3 4 5 6]\n",
      "(6,)\n"
     ]
    }
   ],
   "source": [
    "# create horizontal stack\n",
    "a3 = hstack((a1, a2))\n",
    "print(a3)\n",
    "print(a3.shape)"
   ]
  },
  {
   "cell_type": "markdown",
   "metadata": {},
   "source": [
    "------------------------\n",
    "---\n",
    "----"
   ]
  },
  {
   "cell_type": "markdown",
   "metadata": {},
   "source": [
    "Converting your data in lists to NumPy arrays:"
   ]
  },
  {
   "cell_type": "code",
   "execution_count": 15,
   "metadata": {},
   "outputs": [
    {
     "name": "stdout",
     "output_type": "stream",
     "text": [
      "[11, 22, 33, 44, 55]\n",
      "<class 'list'>\n",
      "\n",
      "[11 22 33 44 55]\n",
      "<class 'numpy.ndarray'>\n"
     ]
    }
   ],
   "source": [
    "# list of data\n",
    "data = [11, 22, 33, 44, 55]\n",
    "print(data, type(data), sep=\"\\n\", end='\\n\\n')\n",
    "# array of data\n",
    "data = array(data)\n",
    "print(data)\n",
    "print(type(data))"
   ]
  },
  {
   "cell_type": "code",
   "execution_count": 16,
   "metadata": {},
   "outputs": [
    {
     "name": "stdout",
     "output_type": "stream",
     "text": [
      "[[11, 22], [33, 44], [55, 66]]\n",
      "<class 'list'>\n",
      "\n",
      "[[11 22]\n",
      " [33 44]\n",
      " [55 66]]\n",
      "<class 'numpy.ndarray'>\n",
      "\n",
      "[55 66]\n",
      "66\n",
      "<class 'numpy.int64'>\n"
     ]
    }
   ],
   "source": [
    "# list of data\n",
    "data = [[11, 22], [33, 44], [55, 66]]\n",
    "print(data, type(data), sep=\"\\n\", end='\\n\\n')\n",
    "# array of data\n",
    "data = array(data)\n",
    "print(data)\n",
    "print(type(data), end='\\n\\n')\n",
    "print(data[2])\n",
    "print(data[2,1])\n",
    "print(type(data[2,1]))"
   ]
  },
  {
   "cell_type": "code",
   "execution_count": 17,
   "metadata": {},
   "outputs": [
    {
     "name": "stdout",
     "output_type": "stream",
     "text": [
      "[11 22]\n",
      "[11 22]\n"
     ]
    }
   ],
   "source": [
    "data = array([ [11, 22],[33, 44],[55, 66] ])\n",
    "# index data\n",
    "print(data[0])\n",
    "print(data[0,])"
   ]
  },
  {
   "cell_type": "markdown",
   "metadata": {},
   "source": [
    "One-Dimensional Slicing:"
   ]
  },
  {
   "cell_type": "code",
   "execution_count": 18,
   "metadata": {},
   "outputs": [
    {
     "name": "stdout",
     "output_type": "stream",
     "text": [
      "[22 44 66 88  0]\n"
     ]
    }
   ],
   "source": [
    "data = array([11, 22, 33, 44, 55, 66, 77, 88, 99, 00])\n",
    "print(data[1::2])"
   ]
  },
  {
   "cell_type": "markdown",
   "metadata": {},
   "source": [
    "Two-Dimensional Slicing:"
   ]
  },
  {
   "cell_type": "code",
   "execution_count": 19,
   "metadata": {},
   "outputs": [
    {
     "name": "stdout",
     "output_type": "stream",
     "text": [
      "data:\n",
      " [[11 22 33]\n",
      " [44 55 66]\n",
      " [77 88 99]\n",
      " [11 44 77]\n",
      " [22 55 88]\n",
      " [33 66 99]]\n",
      "\n",
      "x:\n",
      " [[11 22]\n",
      " [44 55]\n",
      " [77 88]\n",
      " [11 44]\n",
      " [22 55]\n",
      " [33 66]]\n",
      "\n",
      "y:\n",
      " [33 66 99 77 88 99]\n",
      "\n",
      "z:\n",
      " [[44 55 66]\n",
      " [11 44 77]]\n"
     ]
    }
   ],
   "source": [
    "data = array([ [11, 22, 33],[44, 55, 66],[77, 88, 99],[11,44,77],[22,55,88],[33,66,99] ])\n",
    "print(\"data:\\n\", data, end='\\n\\n')\n",
    "# separate data\n",
    "x, y, z = data[:, :-1], data[:, -1], data[1:4:2]\n",
    "print(\"x:\\n\", x)\n",
    "print()\n",
    "print(\"y:\\n\", y)\n",
    "print()\n",
    "print(\"z:\\n\", z)"
   ]
  },
  {
   "cell_type": "code",
   "execution_count": 20,
   "metadata": {},
   "outputs": [
    {
     "data": {
      "text/plain": [
       "array([[ 0,  1,  2,  3,  4,  5,  6,  7,  8],\n",
       "       [ 9, 10, 11, 12, 13, 14, 15, 16, 17],\n",
       "       [18, 19, 20, 21, 22, 23, 24, 25, 26],\n",
       "       [27, 28, 29, 30, 31, 32, 33, 34, 35],\n",
       "       [36, 37, 38, 39, 40, 41, 42, 43, 44],\n",
       "       [45, 46, 47, 48, 49, 50, 51, 52, 53],\n",
       "       [54, 55, 56, 57, 58, 59, 60, 61, 62],\n",
       "       [63, 64, 65, 66, 67, 68, 69, 70, 71],\n",
       "       [72, 73, 74, 75, 76, 77, 78, 79, 80]])"
      ]
     },
     "execution_count": 20,
     "metadata": {},
     "output_type": "execute_result"
    }
   ],
   "source": [
    "A = np.arange(81).reshape(9, -1)\n",
    "A"
   ]
  },
  {
   "cell_type": "code",
   "execution_count": 21,
   "metadata": {},
   "outputs": [
    {
     "data": {
      "text/plain": [
       "array([[18, 19, 20, 21, 22, 23, 24, 25, 26],\n",
       "       [27, 28, 29, 30, 31, 32, 33, 34, 35]])"
      ]
     },
     "execution_count": 21,
     "metadata": {},
     "output_type": "execute_result"
    }
   ],
   "source": [
    "A[2:4]"
   ]
  },
  {
   "cell_type": "code",
   "execution_count": 22,
   "metadata": {},
   "outputs": [
    {
     "data": {
      "text/plain": [
       "array([[ 2,  3],\n",
       "       [11, 12],\n",
       "       [20, 21],\n",
       "       [29, 30],\n",
       "       [38, 39],\n",
       "       [47, 48],\n",
       "       [56, 57],\n",
       "       [65, 66],\n",
       "       [74, 75]])"
      ]
     },
     "execution_count": 22,
     "metadata": {},
     "output_type": "execute_result"
    }
   ],
   "source": [
    "A[:, 2:4]"
   ]
  },
  {
   "cell_type": "code",
   "execution_count": 23,
   "metadata": {},
   "outputs": [
    {
     "data": {
      "text/plain": [
       "array([[20, 21],\n",
       "       [29, 30]])"
      ]
     },
     "execution_count": 23,
     "metadata": {},
     "output_type": "execute_result"
    }
   ],
   "source": [
    "A[2:4, 2:4]"
   ]
  },
  {
   "cell_type": "markdown",
   "metadata": {},
   "source": [
    "It is common to split a loaded dataset into separate train and test sets.\n",
    "This would involve slicing all columns by specifying :in the second dimension index. \n",
    "The training dataset would be all rows from the beginning to the split point:"
   ]
  },
  {
   "cell_type": "code",
   "execution_count": 24,
   "metadata": {},
   "outputs": [
    {
     "name": "stdout",
     "output_type": "stream",
     "text": [
      "[[ 10  20  30]\n",
      " [111 222 333]]\n",
      "\n",
      "[[ 40  50  60]\n",
      " [444 555 666]\n",
      " [ 70  80  90]\n",
      " [777 888 989]]\n"
     ]
    }
   ],
   "source": [
    "data = array([\n",
    "[10, 20, 30],\n",
    "[111, 222, 333],\n",
    "[40, 50, 60],\n",
    "[444, 555, 666],\n",
    "[70, 80, 90],\n",
    "[777, 888, 989]])\n",
    "# separate data\n",
    "split = 2\n",
    "train,test = data[:split,:],data[split:,:]\n",
    "print(train, end=\"\\n\\n\")\n",
    "print(test)"
   ]
  },
  {
   "cell_type": "code",
   "execution_count": 25,
   "metadata": {},
   "outputs": [
    {
     "name": "stdout",
     "output_type": "stream",
     "text": [
      "Rows: 6\n",
      "Cols: 3\n"
     ]
    }
   ],
   "source": [
    "print('Rows: %d' % data.shape[0])\n",
    "print('Cols: %d' % data.shape[1])"
   ]
  },
  {
   "cell_type": "markdown",
   "metadata": {},
   "source": [
    "Reshape 1D to 2D Array:"
   ]
  },
  {
   "cell_type": "code",
   "execution_count": 26,
   "metadata": {},
   "outputs": [
    {
     "name": "stdout",
     "output_type": "stream",
     "text": [
      "[11 22 33 44 55]\n",
      "(5,)\n",
      "\n",
      "[[11]\n",
      " [22]\n",
      " [33]\n",
      " [44]\n",
      " [55]]\n",
      "(5, 1)\n"
     ]
    }
   ],
   "source": [
    "data = array([11, 22, 33, 44, 55])\n",
    "print(data)\n",
    "print(data.shape)\n",
    "print()\n",
    "# reshape\n",
    "data = data.reshape((data.shape[0], 1))\n",
    "print(data)\n",
    "print(data.shape)"
   ]
  },
  {
   "cell_type": "code",
   "execution_count": 27,
   "metadata": {},
   "outputs": [
    {
     "name": "stdout",
     "output_type": "stream",
     "text": [
      "[[11 22]\n",
      " [33 44]\n",
      " [55 66]]\n",
      "(3, 2)\n",
      "----------\n",
      "[[[[11]]\n",
      "\n",
      "  [[22]]]\n",
      "\n",
      "\n",
      " [[[33]]\n",
      "\n",
      "  [[44]]]\n",
      "\n",
      "\n",
      " [[[55]]\n",
      "\n",
      "  [[66]]]]\n",
      "(3, 2, 1, 1)\n"
     ]
    }
   ],
   "source": [
    "data = [[11, 22],\n",
    "[33, 44],\n",
    "[55, 66]]\n",
    "# array of data\n",
    "data = array(data)\n",
    "print(data)\n",
    "print(data.shape)\n",
    "print('----------')\n",
    "# reshape\n",
    "data = data.reshape((data.shape[0], data.shape[1], 1, 1))\n",
    "print(data)\n",
    "print(data.shape)"
   ]
  },
  {
   "cell_type": "markdown",
   "metadata": {},
   "source": [
    "------\n",
    "---\n",
    "---"
   ]
  },
  {
   "cell_type": "markdown",
   "metadata": {},
   "source": [
    "#### Базовые операции\n",
    "\n",
    "* Базовые арифметические операции над массивами выполняются поэлементно:"
   ]
  },
  {
   "cell_type": "code",
   "execution_count": 28,
   "metadata": {},
   "outputs": [],
   "source": [
    "A = np.arange(9).reshape(3, 3)\n",
    "B = np.arange(1, 10).reshape(3, 3)"
   ]
  },
  {
   "cell_type": "code",
   "execution_count": 29,
   "metadata": {},
   "outputs": [
    {
     "name": "stdout",
     "output_type": "stream",
     "text": [
      "[[0 1 2]\n",
      " [3 4 5]\n",
      " [6 7 8]]\n",
      "[[1 2 3]\n",
      " [4 5 6]\n",
      " [7 8 9]]\n"
     ]
    }
   ],
   "source": [
    "print(A)\n",
    "print(B)"
   ]
  },
  {
   "cell_type": "code",
   "execution_count": 30,
   "metadata": {},
   "outputs": [
    {
     "data": {
      "text/plain": [
       "array([[ 1,  3,  5],\n",
       "       [ 7,  9, 11],\n",
       "       [13, 15, 17]])"
      ]
     },
     "execution_count": 30,
     "metadata": {},
     "output_type": "execute_result"
    }
   ],
   "source": [
    "A + B"
   ]
  },
  {
   "cell_type": "code",
   "execution_count": 31,
   "metadata": {},
   "outputs": [
    {
     "data": {
      "text/plain": [
       "array([[ 0,  2,  6],\n",
       "       [12, 20, 30],\n",
       "       [42, 56, 72]])"
      ]
     },
     "execution_count": 31,
     "metadata": {},
     "output_type": "execute_result"
    }
   ],
   "source": [
    "A * B"
   ]
  },
  {
   "cell_type": "code",
   "execution_count": 32,
   "metadata": {
    "scrolled": true
   },
   "outputs": [
    {
     "data": {
      "text/plain": [
       "array([[ 18,  21,  24],\n",
       "       [ 54,  66,  78],\n",
       "       [ 90, 111, 132]])"
      ]
     },
     "execution_count": 32,
     "metadata": {},
     "output_type": "execute_result"
    }
   ],
   "source": [
    "A.dot(B)"
   ]
  },
  {
   "cell_type": "code",
   "execution_count": 33,
   "metadata": {},
   "outputs": [
    {
     "name": "stdout",
     "output_type": "stream",
     "text": [
      "[2 4 6]\n"
     ]
    }
   ],
   "source": [
    "a = array([1, 2, 3])\n",
    "b = array([1, 2, 3])\n",
    "c = a + b\n",
    "print(c)"
   ]
  },
  {
   "cell_type": "markdown",
   "metadata": {},
   "source": [
    "Поскольку операции выполняются поэлементно, операнды бинарных операций должны иметь одинаковый размер. Тем не менее, операция может быть корректно выполнена, если размеры операндов таковы, что они могут быть расширены до одинаковых размеров. Данная возможность называется [broadcasting](http://www.scipy-lectures.org/intro/numpy/operations.html#broadcasting):\n",
    "![](https://jakevdp.github.io/PythonDataScienceHandbook/figures/02.05-broadcasting.png)"
   ]
  },
  {
   "cell_type": "markdown",
   "metadata": {},
   "source": [
    "Broadcasting is the name given to the method that NumPy uses to allow array arithmetic\n",
    "between arrays with a di\u000b",
    "erent shape or size.\n",
    "\n",
    "Broadcasting between scalar and one-dimensional array:"
   ]
  },
  {
   "cell_type": "code",
   "execution_count": 34,
   "metadata": {},
   "outputs": [
    {
     "name": "stdout",
     "output_type": "stream",
     "text": [
      "[1 2 3]\n",
      "2\n",
      "[3 4 5]\n"
     ]
    }
   ],
   "source": [
    "# define array\n",
    "a = array([1, 2, 3])\n",
    "print(a)\n",
    "# define scalar\n",
    "b = 2\n",
    "print(b)\n",
    "# broadcast\n",
    "c = a + b\n",
    "print(c)"
   ]
  },
  {
   "cell_type": "markdown",
   "metadata": {},
   "source": [
    "Broadcasting between scalar and two-dimensional array:"
   ]
  },
  {
   "cell_type": "code",
   "execution_count": 35,
   "metadata": {},
   "outputs": [
    {
     "name": "stdout",
     "output_type": "stream",
     "text": [
      "[[1 2 3]\n",
      " [4 5 6]]\n",
      "10\n",
      "[[11 12 13]\n",
      " [14 15 16]]\n"
     ]
    }
   ],
   "source": [
    "A = array([\n",
    "[1, 2, 3],\n",
    "[4, 5, 6]])\n",
    "print(A)\n",
    "# define scalar\n",
    "b = 10\n",
    "print(b)\n",
    "# broadcast\n",
    "C = A + b\n",
    "print(C)"
   ]
  },
  {
   "cell_type": "markdown",
   "metadata": {},
   "source": [
    "Broadcasting between one-dimensional and two-dimensional arrays:"
   ]
  },
  {
   "cell_type": "code",
   "execution_count": 36,
   "metadata": {
    "scrolled": true
   },
   "outputs": [
    {
     "name": "stdout",
     "output_type": "stream",
     "text": [
      "[[1 2 3]\n",
      " [4 5 6]]\n",
      "[-1 -2 -3]\n",
      "[[0 0 0]\n",
      " [3 3 3]]\n"
     ]
    }
   ],
   "source": [
    "A = array([\n",
    "[1, 2, 3],\n",
    "[4, 5, 6]])\n",
    "print(A)\n",
    "# define one-dimensional array\n",
    "b = array([-1, -2, -3])\n",
    "print(b)\n",
    "# broadcast\n",
    "C = A + b\n",
    "print(C)\n",
    "\n",
    "bb = array([-1, -2])\n",
    "#C = A + bb - Error"
   ]
  },
  {
   "cell_type": "code",
   "execution_count": 37,
   "metadata": {},
   "outputs": [
    {
     "data": {
      "text/plain": [
       "array([[1, 2, 3],\n",
       "       [4, 5, 6]])"
      ]
     },
     "execution_count": 37,
     "metadata": {},
     "output_type": "execute_result"
    }
   ],
   "source": [
    "A"
   ]
  },
  {
   "cell_type": "code",
   "execution_count": 38,
   "metadata": {},
   "outputs": [
    {
     "data": {
      "text/plain": [
       "1"
      ]
     },
     "execution_count": 38,
     "metadata": {},
     "output_type": "execute_result"
    }
   ],
   "source": [
    "A.min()"
   ]
  },
  {
   "cell_type": "code",
   "execution_count": 39,
   "metadata": {},
   "outputs": [
    {
     "data": {
      "text/plain": [
       "array([3, 6])"
      ]
     },
     "execution_count": 39,
     "metadata": {},
     "output_type": "execute_result"
    }
   ],
   "source": [
    "A.max(axis=1)"
   ]
  },
  {
   "cell_type": "code",
   "execution_count": 40,
   "metadata": {},
   "outputs": [
    {
     "data": {
      "text/plain": [
       "array([ 6, 15])"
      ]
     },
     "execution_count": 40,
     "metadata": {},
     "output_type": "execute_result"
    }
   ],
   "source": [
    "A.sum(axis=1)"
   ]
  },
  {
   "cell_type": "markdown",
   "metadata": {},
   "source": [
    "---\n",
    "----\n",
    "---"
   ]
  },
  {
   "cell_type": "markdown",
   "metadata": {},
   "source": [
    "#### Зачем?\n",
    "\n",
    "Зачем необходимо использовать NumPy, если существуют стандартные списки/кортежи и циклы?\n",
    "\n",
    "Причина заключается в скорости работы. Попробуем посчитать скалярное произведение 2 больших векторов:"
   ]
  },
  {
   "cell_type": "code",
   "execution_count": 41,
   "metadata": {},
   "outputs": [],
   "source": [
    "SIZE = 10000000\n",
    "\n",
    "A_quick_arr = np.random.normal(size = (SIZE,))\n",
    "B_quick_arr = np.random.normal(size = (SIZE,))\n",
    "\n",
    "A_slow_list, B_slow_list = list(A_quick_arr), list(B_quick_arr)"
   ]
  },
  {
   "cell_type": "code",
   "execution_count": 42,
   "metadata": {},
   "outputs": [
    {
     "name": "stdout",
     "output_type": "stream",
     "text": [
      "CPU times: user 4.53 s, sys: 31.1 ms, total: 4.56 s\n",
      "Wall time: 4.97 s\n"
     ]
    }
   ],
   "source": [
    "%%time\n",
    "ans = 0\n",
    "for i in range(len(A_slow_list)):\n",
    "    ans += A_slow_list[i] * B_slow_list[i]"
   ]
  },
  {
   "cell_type": "code",
   "execution_count": 43,
   "metadata": {},
   "outputs": [
    {
     "name": "stdout",
     "output_type": "stream",
     "text": [
      "CPU times: user 2.87 s, sys: 214 ms, total: 3.08 s\n",
      "Wall time: 3.16 s\n"
     ]
    }
   ],
   "source": [
    "%%time\n",
    "ans = sum([A_slow_list[i] * B_slow_list[i] for i in range(SIZE)])"
   ]
  },
  {
   "cell_type": "code",
   "execution_count": 44,
   "metadata": {},
   "outputs": [
    {
     "name": "stdout",
     "output_type": "stream",
     "text": [
      "CPU times: user 42.4 ms, sys: 39.2 ms, total: 81.6 ms\n",
      "Wall time: 81.2 ms\n"
     ]
    }
   ],
   "source": [
    "%%time\n",
    "ans = np.sum(A_quick_arr * B_quick_arr)"
   ]
  },
  {
   "cell_type": "code",
   "execution_count": 45,
   "metadata": {
    "scrolled": true
   },
   "outputs": [
    {
     "name": "stdout",
     "output_type": "stream",
     "text": [
      "CPU times: user 15.5 ms, sys: 1.8 ms, total: 17.3 ms\n",
      "Wall time: 11.5 ms\n"
     ]
    }
   ],
   "source": [
    "%%time\n",
    "ans = A_quick_arr.dot(B_quick_arr)"
   ]
  },
  {
   "cell_type": "markdown",
   "metadata": {},
   "source": [
    "---\n",
    "----\n",
    "---"
   ]
  },
  {
   "cell_type": "markdown",
   "metadata": {},
   "source": [
    "The $L_1$ norm of a vector can be calculated in NumPy using the `norm()` function with a\n",
    "parameter to specify the norm order, in this case 1:"
   ]
  },
  {
   "cell_type": "code",
   "execution_count": 46,
   "metadata": {},
   "outputs": [
    {
     "name": "stdout",
     "output_type": "stream",
     "text": [
      "[1 2 3]\n",
      "6.0\n"
     ]
    }
   ],
   "source": [
    "from numpy.linalg import norm\n",
    "\n",
    "a = array([1, 2, 3])\n",
    "print(a)\n",
    "\n",
    "l1 = norm(a, 1)\n",
    "print(l1)"
   ]
  },
  {
   "cell_type": "markdown",
   "metadata": {},
   "source": [
    "The $L_2$ norm of a vector can be calculated in NumPy using the `norm()` function with default\n",
    "parameters:"
   ]
  },
  {
   "cell_type": "code",
   "execution_count": 47,
   "metadata": {},
   "outputs": [
    {
     "name": "stdout",
     "output_type": "stream",
     "text": [
      "[1 3 4]\n",
      "5.0990195135927845\n"
     ]
    }
   ],
   "source": [
    "a = array([1, 3, 4])\n",
    "print(a)\n",
    "\n",
    "l2 = norm(a)\n",
    "print(l2)"
   ]
  },
  {
   "cell_type": "markdown",
   "metadata": {},
   "source": [
    "The length of a vector can be calculated using the maximum norm, also called max norm. Max\n",
    "norm of a vector is referred to as $L^{\\infty}$.\n",
    "<br>The max norm of a vector can be calculated in NumPy using the `norm()` function with the\n",
    "order parameter set to inf:"
   ]
  },
  {
   "cell_type": "code",
   "execution_count": 48,
   "metadata": {},
   "outputs": [
    {
     "name": "stdout",
     "output_type": "stream",
     "text": [
      "[1 2 3]\n",
      "3.0\n"
     ]
    }
   ],
   "source": [
    "from math import inf\n",
    "\n",
    "a = array([1, 2, 3])\n",
    "print(a)\n",
    "\n",
    "maxnorm = norm(a, inf)\n",
    "print(maxnorm)"
   ]
  },
  {
   "cell_type": "markdown",
   "metadata": {},
   "source": [
    "Норма по строчкам:"
   ]
  },
  {
   "cell_type": "code",
   "execution_count": 49,
   "metadata": {},
   "outputs": [
    {
     "name": "stdout",
     "output_type": "stream",
     "text": [
      "[[1 2 3]\n",
      " [3 4 5]]\n",
      "12.0\n"
     ]
    }
   ],
   "source": [
    "a = array([ [1, 2, 3], [3, 4, 5]])\n",
    "print(a)\n",
    "\n",
    "max_norm = norm(a, inf)\n",
    "print(max_norm)"
   ]
  },
  {
   "cell_type": "code",
   "execution_count": 50,
   "metadata": {},
   "outputs": [
    {
     "name": "stdout",
     "output_type": "stream",
     "text": [
      "[[1 2]\n",
      " [3 3]\n",
      " [4 5]]\n",
      "9.0\n"
     ]
    }
   ],
   "source": [
    "a = a.reshape(3, 2)\n",
    "print(a)\n",
    "\n",
    "max_norm = norm(a, inf)\n",
    "print(max_norm)"
   ]
  },
  {
   "cell_type": "code",
   "execution_count": 51,
   "metadata": {},
   "outputs": [
    {
     "name": "stdout",
     "output_type": "stream",
     "text": [
      "[[1 2 3]\n",
      " [3 4 5]]\n",
      "8.0\n"
     ]
    }
   ],
   "source": [
    "a = array([ [1, 2, 3], [3, 4, 5]])\n",
    "print(a)\n",
    "\n",
    "ell2 = norm(a)\n",
    "print(ell2)"
   ]
  },
  {
   "cell_type": "markdown",
   "metadata": {},
   "source": [
    "Норма по столбцам:"
   ]
  },
  {
   "cell_type": "code",
   "execution_count": 52,
   "metadata": {},
   "outputs": [
    {
     "name": "stdout",
     "output_type": "stream",
     "text": [
      "[[1 2 3]\n",
      " [3 4 5]]\n",
      "8.0\n"
     ]
    }
   ],
   "source": [
    "a = array([ [1, 2, 3], [3, 4, 5]])\n",
    "print(a)\n",
    "\n",
    "ell1 = norm(a, 1)\n",
    "print(ell1)"
   ]
  },
  {
   "cell_type": "code",
   "execution_count": 53,
   "metadata": {},
   "outputs": [
    {
     "name": "stdout",
     "output_type": "stream",
     "text": [
      "[[1 2]\n",
      " [3 3]\n",
      " [4 5]]\n",
      "10.0\n"
     ]
    }
   ],
   "source": [
    "a = a.reshape(3, 2)\n",
    "print(a)\n",
    "\n",
    "ell1 = norm(a, 1)\n",
    "print(ell1)"
   ]
  },
  {
   "cell_type": "markdown",
   "metadata": {},
   "source": [
    "NumPy provides functions to calculate a triangular matrix from an existing square matrix.\n",
    "The `tril()` function to calculate the lower triangular matrix from a given matrix and the\n",
    "triu() to calculate the upper triangular matrix from a given matrix:"
   ]
  },
  {
   "cell_type": "code",
   "execution_count": 54,
   "metadata": {},
   "outputs": [
    {
     "name": "stdout",
     "output_type": "stream",
     "text": [
      "[[1 2 3]\n",
      " [3 4 5]\n",
      " [5 6 7]]\n",
      "-----\n",
      "[[1 0 0]\n",
      " [3 4 0]\n",
      " [5 6 7]]\n",
      "-----\n",
      "[[1 2 3]\n",
      " [0 4 5]\n",
      " [0 0 7]]\n"
     ]
    }
   ],
   "source": [
    "from numpy import tril\n",
    "from numpy import triu\n",
    "\n",
    "M = array([\n",
    "        [1, 2, 3],\n",
    "        [3, 4, 5],\n",
    "        [5, 6, 7]\n",
    "         ])\n",
    "print(M)\n",
    "print('-----')\n",
    "\n",
    "# lower triangular matrix\n",
    "lower = tril(M)\n",
    "print(lower)\n",
    "print('-----')\n",
    "# upper triangular matrix\n",
    "upper = triu(M)\n",
    "print(upper)"
   ]
  },
  {
   "cell_type": "markdown",
   "metadata": {},
   "source": [
    "NumPy provides the function `diag()` that can create a diagonal matrix from an existing\n",
    "matrix, or transform a vector into a diagonal matrix:"
   ]
  },
  {
   "cell_type": "code",
   "execution_count": 55,
   "metadata": {},
   "outputs": [
    {
     "name": "stdout",
     "output_type": "stream",
     "text": [
      "[[1 2 3]\n",
      " [3 4 5]\n",
      " [5 6 7]]\n",
      "-----\n",
      "[1 4 7]\n",
      "-----\n",
      "[[1 0 0]\n",
      " [0 4 0]\n",
      " [0 0 7]]\n"
     ]
    }
   ],
   "source": [
    "from numpy import diag\n",
    "\n",
    "M = array([\n",
    "        [1, 2, 3],\n",
    "        [3, 4, 5],\n",
    "        [5, 6, 7]\n",
    "         ])\n",
    "print(M)\n",
    "print('-----')\n",
    "\n",
    "# extract diagonal vector\n",
    "d = diag(M)\n",
    "print(d)\n",
    "print('-----')\n",
    "# create diagonal matrix from vector\n",
    "D = diag(d)\n",
    "print(D)"
   ]
  },
  {
   "cell_type": "code",
   "execution_count": 56,
   "metadata": {},
   "outputs": [
    {
     "name": "stdout",
     "output_type": "stream",
     "text": [
      "[[ 1  0]\n",
      " [ 0 -1]]\n",
      "-----\n",
      "[[ 1  0]\n",
      " [ 0 -1]]\n",
      "[[ 1.  0.]\n",
      " [-0. -1.]]\n",
      "-----\n",
      "[[1 0]\n",
      " [0 1]]\n"
     ]
    }
   ],
   "source": [
    "# orthogonal matrix\n",
    "from numpy.linalg import inv\n",
    "\n",
    "# define orthogonal matrix\n",
    "Q = array([\n",
    "        [1, 0],\n",
    "        [0, -1]\n",
    "         ])\n",
    "print(Q)\n",
    "print('-----')\n",
    "\n",
    "# inverse equivalence\n",
    "V = inv(Q)\n",
    "print(Q.T)\n",
    "print(V)\n",
    "print('-----')\n",
    "\n",
    "# identity equivalence\n",
    "I = Q.dot(Q.T)\n",
    "print(I)"
   ]
  },
  {
   "cell_type": "markdown",
   "metadata": {},
   "source": [
    "-------\n",
    "-------\n",
    "-----"
   ]
  },
  {
   "cell_type": "code",
   "execution_count": 57,
   "metadata": {},
   "outputs": [
    {
     "data": {
      "text/plain": [
       "7.999999999999998"
      ]
     },
     "execution_count": 57,
     "metadata": {},
     "output_type": "execute_result"
    }
   ],
   "source": [
    "from numpy.linalg import det\n",
    "\n",
    "A = array([\n",
    "    [1, 2, 3],\n",
    "    [3, 2, 1],\n",
    "    [-1, 2, 3]])\n",
    "\n",
    "B = det(A)\n",
    "B"
   ]
  },
  {
   "cell_type": "code",
   "execution_count": 58,
   "metadata": {},
   "outputs": [
    {
     "name": "stdout",
     "output_type": "stream",
     "text": [
      "1\n",
      "0\n"
     ]
    }
   ],
   "source": [
    "from numpy.linalg import matrix_rank\n",
    "\n",
    "v1 = array([1,2,3])\n",
    "vr1 = matrix_rank(v1)\n",
    "print(vr1)\n",
    "\n",
    "v2 = array([0,0,0,0,0])\n",
    "vr2 = matrix_rank(v2)\n",
    "print(vr2)"
   ]
  },
  {
   "cell_type": "markdown",
   "metadata": {},
   "source": [
    "A **sparse matrix** is a matrix that is comprised of mostly zero values.\n",
    "<br>The **sparsity** of a matrix can be quanti\f",
    "ed with a score, which is the number of zero values\n",
    "in the matrix divided by the total number of elements in the matrix."
   ]
  },
  {
   "cell_type": "markdown",
   "metadata": {},
   "source": [
    "The solution to representing and working with sparse matrices is to use an alternate data\n",
    "structure to represent the sparse data. The zero values can be ignored and only the data or\n",
    "non-zero values in the sparse matrix need to be stored or acted upon. There are multiple data\n",
    "structures that can be used to e\u000eciently construct a sparse matrix; three common examples are\n",
    "listed below.\n",
    "\n",
    "- **Dictionary of Keys**. A dictionary is used where a row and column index is mapped to\n",
    "a value.\n",
    "- **List of Lists**. Each row of the matrix is stored as a list, with each sublist containing the\n",
    "column index and the value.\n",
    "- **Coordinate List**. A list of tuples is stored with each tuple containing the row index,\n",
    "column index, and the value."
   ]
  },
  {
   "cell_type": "markdown",
   "metadata": {},
   "source": [
    "SciPy provides tools for creating sparse matrices using multiple data structures, as well as\n",
    "tools for converting a dense matrix to a sparse matrix. Many linear algebra NumPy and\n",
    "SciPy functions that operate on NumPy arrays can transparently operate on SciPy sparse\n",
    "arrays.\n",
    "\n",
    "A dense matrix stored in a NumPy array can be converted into a sparse matrix using the\n",
    "CSR representation by calling the csr matrix() function"
   ]
  },
  {
   "cell_type": "code",
   "execution_count": 59,
   "metadata": {},
   "outputs": [
    {
     "name": "stdout",
     "output_type": "stream",
     "text": [
      "[[1 0 0 1 0 0]\n",
      " [0 0 2 0 0 1]\n",
      " [0 0 0 2 0 0]]\n",
      "-----\n",
      "  (0, 0)\t1\n",
      "  (0, 3)\t1\n",
      "  (1, 2)\t2\n",
      "  (1, 5)\t1\n",
      "  (2, 3)\t2\n",
      "-----\n",
      "[[1 0 0 1 0 0]\n",
      " [0 0 2 0 0 1]\n",
      " [0 0 0 2 0 0]]\n"
     ]
    }
   ],
   "source": [
    "# sparse matrix\n",
    "from numpy import array\n",
    "from scipy.sparse import csr_matrix\n",
    "\n",
    "# create dense matrix\n",
    "A = array([\n",
    "[1, 0, 0, 1, 0, 0],\n",
    "[0, 0, 2, 0, 0, 1],\n",
    "[0, 0, 0, 2, 0, 0]])\n",
    "print(A)\n",
    "print('-----')\n",
    "\n",
    "# convert to sparse matrix (CSR method)\n",
    "S = csr_matrix(A)\n",
    "print(S)\n",
    "print('-----')\n",
    "\n",
    "# reconstruct dense matrix\n",
    "B = S.todense()\n",
    "print(B)"
   ]
  },
  {
   "cell_type": "code",
   "execution_count": 60,
   "metadata": {},
   "outputs": [
    {
     "data": {
      "text/plain": [
       "0.7222222222222222"
      ]
     },
     "execution_count": 60,
     "metadata": {},
     "output_type": "execute_result"
    }
   ],
   "source": [
    "sparsity = 1.0 - np.count_nonzero(A) / A.size\n",
    "sparsity"
   ]
  },
  {
   "cell_type": "markdown",
   "metadata": {},
   "source": [
    "-------\n",
    "-------\n",
    "-----"
   ]
  },
  {
   "cell_type": "markdown",
   "metadata": {},
   "source": [
    "Many complex matrix operations cannot be solved e\u000eciently or with stability using the limited\n",
    "precision of computers. **Matrix decompositions** are methods that reduce a matrix into constituent\n",
    "parts that make it easier to calculate more complex matrix operations. Matrix decomposition\n",
    "methods, also called matrix factorization methods, are a foundation of linear algebra in computers,\n",
    "even for basic operations such as solving systems of linear equations, calculating the inverse, and\n",
    "calculating the determinant of a matrix."
   ]
  },
  {
   "cell_type": "markdown",
   "metadata": {},
   "source": [
    "The LU decomposition is for square matrices and decomposes a matrix into L and U components.\n",
    "$$A = LU$$ \n",
    "Where A is the square matrix that we wish to decompose, L is the lower triangle matrix\n",
    "and U is the upper triangle matrix."
   ]
  },
  {
   "cell_type": "markdown",
   "metadata": {},
   "source": [
    "The LU decomposition is found using an iterative numerical process and can fail for those\n",
    "matrices that cannot be decomposed or decomposed easily. A variation of this decomposition\n",
    "that is numerically more stable to solve in practice is called the LUP decomposition, or the LU\n",
    "decomposition with partial pivoting.\n",
    "$$A = LUP$$\n",
    "The rows of the parent matrix are re-ordered to simplify the decomposition process and the\n",
    "additional P matrix specifies a way to permute the result or return the result to the original\n",
    "order"
   ]
  },
  {
   "cell_type": "code",
   "execution_count": 61,
   "metadata": {},
   "outputs": [
    {
     "name": "stdout",
     "output_type": "stream",
     "text": [
      "[[1 2 3]\n",
      " [4 5 6]\n",
      " [7 8 9]]\n"
     ]
    }
   ],
   "source": [
    "from numpy import array\n",
    "from scipy.linalg import lu\n",
    "\n",
    "\n",
    "A = array([\n",
    "            [1, 2, 3],\n",
    "            [4, 5, 6],\n",
    "            [7, 8, 9]\n",
    "        ])\n",
    "print(A)"
   ]
  },
  {
   "cell_type": "code",
   "execution_count": 62,
   "metadata": {},
   "outputs": [
    {
     "name": "stdout",
     "output_type": "stream",
     "text": [
      "[[0. 1. 0.]\n",
      " [0. 0. 1.]\n",
      " [1. 0. 0.]]\n",
      "[[1.         0.         0.        ]\n",
      " [0.14285714 1.         0.        ]\n",
      " [0.57142857 0.5        1.        ]]\n",
      "[[7.         8.         9.        ]\n",
      " [0.         0.85714286 1.71428571]\n",
      " [0.         0.         0.        ]]\n"
     ]
    }
   ],
   "source": [
    "P, L, U = lu(A)\n",
    "print(P)\n",
    "print(L)\n",
    "print(U)"
   ]
  },
  {
   "cell_type": "code",
   "execution_count": 63,
   "metadata": {},
   "outputs": [
    {
     "name": "stdout",
     "output_type": "stream",
     "text": [
      "[[1. 2. 3.]\n",
      " [4. 5. 6.]\n",
      " [7. 8. 9.]]\n"
     ]
    }
   ],
   "source": [
    "# reconstruct\n",
    "B = P.dot(L).dot(U)\n",
    "print(B)"
   ]
  },
  {
   "cell_type": "markdown",
   "metadata": {},
   "source": [
    "The QR decomposition is for n \u0002 m matrices (not limited to square matrices) and decomposes\n",
    "a matrix into Q and R components.\n",
    "$$A = QR$$\n",
    "Where A is the matrix that we wish to decompose, Q a matrix with the size $m \\times m$, and R is\n",
    "an upper triangle matrix with the size $m \\times n$. The QR decomposition is found using an iterative\n",
    "numerical method that can fail for those matrices that cannot be decomposed, or decomposed\n",
    "easily. Like the LU decomposition, the QR decomposition is often used to solve systems of\n",
    "linear equations, although is not limited to square matrices."
   ]
  },
  {
   "cell_type": "code",
   "execution_count": 64,
   "metadata": {},
   "outputs": [
    {
     "name": "stdout",
     "output_type": "stream",
     "text": [
      "[[1 2]\n",
      " [3 4]\n",
      " [5 6]]\n"
     ]
    }
   ],
   "source": [
    "from numpy import array\n",
    "from numpy.linalg import qr\n",
    "\n",
    "\n",
    "A = array([\n",
    "[1, 2],\n",
    "[3, 4],\n",
    "[5, 6]])\n",
    "print(A)"
   ]
  },
  {
   "cell_type": "code",
   "execution_count": 65,
   "metadata": {},
   "outputs": [
    {
     "name": "stdout",
     "output_type": "stream",
     "text": [
      "[[-0.16903085  0.89708523  0.40824829]\n",
      " [-0.50709255  0.27602622 -0.81649658]\n",
      " [-0.84515425 -0.34503278  0.40824829]]\n",
      "[[-5.91607978 -7.43735744]\n",
      " [ 0.          0.82807867]\n",
      " [ 0.          0.        ]]\n"
     ]
    }
   ],
   "source": [
    "Q, R = qr(A, 'complete')\n",
    "print(Q)\n",
    "print(R)"
   ]
  },
  {
   "cell_type": "code",
   "execution_count": 66,
   "metadata": {},
   "outputs": [
    {
     "name": "stdout",
     "output_type": "stream",
     "text": [
      "[[1. 2.]\n",
      " [3. 4.]\n",
      " [5. 6.]]\n"
     ]
    }
   ],
   "source": [
    "# reconstruct\n",
    "B = Q.dot(R)\n",
    "print(B)"
   ]
  },
  {
   "cell_type": "markdown",
   "metadata": {},
   "source": [
    "The Cholesky decomposition is for square symmetric matrices where all values are greater than\n",
    "zero, so-called positive definite matrices.\n",
    "$$A = LL^T$$\n",
    "Where A is the matrix being decomposed, $L$ is the lower triangular matrix and $L^T$ is the\n",
    "transpose of $L$.\n",
    "\n",
    "The Cholesky decomposition is used for solving\n",
    "linear least squares for linear regression, as well as simulation and optimization methods. When\n",
    "decomposing symmetric matrices, the Cholesky decomposition is nearly twice as e\u000ecient as the\n",
    "LU decomposition and should be preferred in these cases."
   ]
  },
  {
   "cell_type": "code",
   "execution_count": 67,
   "metadata": {},
   "outputs": [
    {
     "name": "stdout",
     "output_type": "stream",
     "text": [
      "[[2 1 1]\n",
      " [1 2 1]\n",
      " [1 1 2]]\n"
     ]
    }
   ],
   "source": [
    "from numpy import array\n",
    "from numpy.linalg import cholesky\n",
    "\n",
    "\n",
    "A = array([\n",
    "[2, 1, 1],\n",
    "[1, 2, 1],\n",
    "[1, 1, 2]])\n",
    "print(A)"
   ]
  },
  {
   "cell_type": "code",
   "execution_count": 68,
   "metadata": {},
   "outputs": [
    {
     "name": "stdout",
     "output_type": "stream",
     "text": [
      "[[1.41421356 0.         0.        ]\n",
      " [0.70710678 1.22474487 0.        ]\n",
      " [0.70710678 0.40824829 1.15470054]]\n"
     ]
    }
   ],
   "source": [
    "L = cholesky(A)\n",
    "print(L)"
   ]
  },
  {
   "cell_type": "code",
   "execution_count": 69,
   "metadata": {},
   "outputs": [
    {
     "name": "stdout",
     "output_type": "stream",
     "text": [
      "[[2. 1. 1.]\n",
      " [1. 2. 1.]\n",
      " [1. 1. 2.]]\n"
     ]
    }
   ],
   "source": [
    "# reconstruct\n",
    "B = L.dot(L.T)\n",
    "print(B)"
   ]
  },
  {
   "cell_type": "markdown",
   "metadata": {},
   "source": [
    "---\n",
    "---\n",
    "---"
   ]
  },
  {
   "cell_type": "markdown",
   "metadata": {},
   "source": [
    "Matrix decompositions are a useful tool for reducing a matrix to their constituent parts in\n",
    "order to simplify a range of more complex operations. Perhaps the most used type of matrix\n",
    "decomposition is the eigendecomposition that decomposes a matrix into eigenvectors and\n",
    "eigenvalues. This decomposition also plays a role in methods used in machine learning, such\n",
    "as in the Principal Component Analysis method or PCA."
   ]
  },
  {
   "cell_type": "markdown",
   "metadata": {},
   "source": [
    "Eigendecomposition of a matrix is a type of decomposition that involves decomposing a square\n",
    "matrix into a set of eigenvectors and eigenvalues.\n",
    "\n",
    "A matrix could have one eigenvector and eigenvalue for each dimension of the parent matrix.\n",
    "Not all square matrices can be decomposed into eigenvectors and eigenvalues, and some can\n",
    "only be decomposed in a way that requires complex numbers. The parent matrix can be shown\n",
    "to be a product of the eigenvectors and eigenvalues.\n",
    "$$A = Q \\Lambda Q^T$$\n",
    "Where $Q$ is a matrix comprised of the eigenvectors, $\\Lambda$ is the uppercase Greek letter lambda\n",
    "and is the diagonal matrix comprised of the eigenvalues, and $Q^T$ is the transpose of the matrix\n",
    "comprised of the eigenvectors."
   ]
  },
  {
   "cell_type": "code",
   "execution_count": 70,
   "metadata": {},
   "outputs": [
    {
     "name": "stdout",
     "output_type": "stream",
     "text": [
      "[[1 2 3]\n",
      " [4 5 6]\n",
      " [7 8 9]]\n"
     ]
    }
   ],
   "source": [
    "from numpy import array\n",
    "from numpy.linalg import eig\n",
    "\n",
    "\n",
    "A = array([\n",
    "[1, 2, 3],\n",
    "[4, 5, 6],\n",
    "[7, 8, 9]])\n",
    "print(A)"
   ]
  },
  {
   "cell_type": "code",
   "execution_count": 71,
   "metadata": {},
   "outputs": [
    {
     "name": "stdout",
     "output_type": "stream",
     "text": [
      "[ 1.61168440e+01 -1.11684397e+00 -9.75918483e-16]\n",
      "\n",
      "[[-0.23197069 -0.78583024  0.40824829]\n",
      " [-0.52532209 -0.08675134 -0.81649658]\n",
      " [-0.8186735   0.61232756  0.40824829]]\n"
     ]
    }
   ],
   "source": [
    "values, vectors = eig(A)\n",
    "print(values)\n",
    "print()\n",
    "print(vectors)"
   ]
  },
  {
   "cell_type": "code",
   "execution_count": 72,
   "metadata": {},
   "outputs": [
    {
     "name": "stdout",
     "output_type": "stream",
     "text": [
      "[[1 2 3]\n",
      " [4 5 6]\n",
      " [7 8 9]]\n"
     ]
    }
   ],
   "source": [
    "# confirm eigenvector\n",
    "from numpy import array\n",
    "from numpy.linalg import eig\n",
    "\n",
    "\n",
    "A = array([\n",
    "[1, 2, 3],\n",
    "[4, 5, 6],\n",
    "[7, 8, 9]])\n",
    "print(A)"
   ]
  },
  {
   "cell_type": "code",
   "execution_count": 73,
   "metadata": {},
   "outputs": [
    {
     "name": "stdout",
     "output_type": "stream",
     "text": [
      "[ -3.73863537  -8.46653421 -13.19443305]\n",
      "[ -3.73863537  -8.46653421 -13.19443305]\n"
     ]
    }
   ],
   "source": [
    "values, vectors = eig(A)\n",
    "\n",
    "# confirm first eigenvector\n",
    "B = A.dot(vectors[:, 0])\n",
    "print(B)\n",
    "C = vectors[:, 0] * values[0]\n",
    "print(C)"
   ]
  },
  {
   "cell_type": "code",
   "execution_count": 74,
   "metadata": {},
   "outputs": [
    {
     "name": "stdout",
     "output_type": "stream",
     "text": [
      "[[1 2 3]\n",
      " [4 5 6]\n",
      " [7 8 9]]\n"
     ]
    }
   ],
   "source": [
    "# reconstruct matrix\n",
    "from numpy import diag\n",
    "from numpy.linalg import inv\n",
    "from numpy import array\n",
    "from numpy.linalg import eig\n",
    "\n",
    "\n",
    "A = array([\n",
    "[1, 2, 3],\n",
    "[4, 5, 6],\n",
    "[7, 8, 9]])\n",
    "print(A)"
   ]
  },
  {
   "cell_type": "code",
   "execution_count": 75,
   "metadata": {},
   "outputs": [
    {
     "name": "stdout",
     "output_type": "stream",
     "text": [
      "[[1. 2. 3.]\n",
      " [4. 5. 6.]\n",
      " [7. 8. 9.]]\n"
     ]
    }
   ],
   "source": [
    "values, vectors = eig(A)\n",
    "# create matrix from eigenvectors\n",
    "Q = vectors\n",
    "# create inverse of eigenvectors matrix\n",
    "R = inv(Q)\n",
    "# create diagonal matrix from eigenvalues\n",
    "L = diag(values)\n",
    "# reconstruct the original matrix\n",
    "B = Q.dot(L).dot(R)\n",
    "print(B)"
   ]
  },
  {
   "cell_type": "markdown",
   "metadata": {},
   "source": [
    "---"
   ]
  },
  {
   "cell_type": "markdown",
   "metadata": {},
   "source": [
    "Perhaps the most known and widely used matrix decomposition\n",
    "method is the Singular-Value Decomposition, or SVD. All matrices have an SVD, which makes\n",
    "it more stable than other methods, such as the eigendecomposition. As such, it is often used\n",
    "in a wide array of applications including compressing, denoising, and data reduction."
   ]
  },
  {
   "cell_type": "markdown",
   "metadata": {},
   "source": [
    "The Singular-Value Decomposition, or SVD for short, is a matrix decomposition method for\n",
    "reducing a matrix to its constituent parts in order to make certain subsequent matrix calculations\n",
    "simpler. For the case of simplicity we will focus on the SVD for real-valued matrices and ignore\n",
    "the case for complex numbers.\n",
    "$$A = U \\ \\Sigma \\ V^T$$ \n",
    "Where A is the real $n \\times m$ matrix that we wish to decompose, U is an $m \\times m$ matrix, $\\Sigma$\n",
    "represented by the uppercase Greek letter sigma) is an $m \\times n$ diagonal matrix, and $V^T$ is the V\n",
    "transpose of an $n \\times n$ matrix where T is a superscript.\n",
    "\n",
    "The SVD is calculated via iterative numerical\n",
    "methods. We will not go into the details of these methods."
   ]
  },
  {
   "cell_type": "code",
   "execution_count": 76,
   "metadata": {},
   "outputs": [
    {
     "name": "stdout",
     "output_type": "stream",
     "text": [
      "[[1 2]\n",
      " [3 4]\n",
      " [5 6]]\n"
     ]
    }
   ],
   "source": [
    "from numpy import array\n",
    "from scipy.linalg import svd\n",
    "\n",
    "\n",
    "A = array([\n",
    "[1, 2],\n",
    "[3, 4],\n",
    "[5, 6]])\n",
    "print(A)"
   ]
  },
  {
   "cell_type": "code",
   "execution_count": 77,
   "metadata": {},
   "outputs": [
    {
     "name": "stdout",
     "output_type": "stream",
     "text": [
      "[[-0.2298477   0.88346102  0.40824829]\n",
      " [-0.52474482  0.24078249 -0.81649658]\n",
      " [-0.81964194 -0.40189603  0.40824829]]\n",
      "\n",
      "[9.52551809 0.51430058]\n",
      "\n",
      "[[-0.61962948 -0.78489445]\n",
      " [-0.78489445  0.61962948]]\n"
     ]
    }
   ],
   "source": [
    "U, s, V = svd(A)\n",
    "print(U)\n",
    "print()\n",
    "print(s)\n",
    "print()\n",
    "print(V)"
   ]
  },
  {
   "cell_type": "code",
   "execution_count": 78,
   "metadata": {},
   "outputs": [
    {
     "name": "stdout",
     "output_type": "stream",
     "text": [
      "[[1 2]\n",
      " [3 4]\n",
      " [5 6]]\n"
     ]
    }
   ],
   "source": [
    "# reconstruct rectangular matrix from svd\n",
    "from numpy import array\n",
    "from numpy import diag\n",
    "from numpy import zeros\n",
    "from scipy.linalg import svd\n",
    "\n",
    "\n",
    "A = array([\n",
    "[1, 2],\n",
    "[3, 4],\n",
    "[5, 6]])\n",
    "print(A)"
   ]
  },
  {
   "cell_type": "code",
   "execution_count": 79,
   "metadata": {},
   "outputs": [
    {
     "name": "stdout",
     "output_type": "stream",
     "text": [
      "[[1. 2.]\n",
      " [3. 4.]\n",
      " [5. 6.]]\n"
     ]
    }
   ],
   "source": [
    "U, s, V = svd(A)\n",
    "# create m x n Sigma matrix\n",
    "Sigma = zeros((A.shape[0], A.shape[1]))\n",
    "# populate Sigma with n x n diagonal matrix\n",
    "Sigma[:A.shape[1], :A.shape[1]] = diag(s)\n",
    "# reconstruct matrix\n",
    "B = U.dot(Sigma.dot(V))\n",
    "print(B)"
   ]
  },
  {
   "cell_type": "markdown",
   "metadata": {},
   "source": [
    "A popular application of SVD is for dimensionality reduction. Data with a large number of\n",
    "features, such as more features (columns) than observations (rows) may be reduced to a smaller\n",
    "subset of features that are most relevant to the prediction problem. The result is a matrix with\n",
    "a lower rank that is said to approximate the original matrix. To do this we can perform an SVD\n",
    "operation on the original data and select the top k largest singular values in $\\Sigma$. These columns\n",
    "can be selected from $\\Sigma$ and the rows selected from $V^T$ . An approximate B of the original vector\n",
    "A can then be reconstructed.\n",
    "$$B = U \\ \\Sigma_k \\ V_k^T$$\n",
    "\n",
    "In practice, we can retain and work with a descriptive subset of the data called T.\n",
    "This is a dense summary of the matrix or a projection.\n",
    "<br>$T = U \\ \\Sigma_k$"
   ]
  },
  {
   "cell_type": "code",
   "execution_count": 80,
   "metadata": {},
   "outputs": [
    {
     "name": "stdout",
     "output_type": "stream",
     "text": [
      "[[ 1  2  3  4  5  6  7  8  9 10]\n",
      " [11 12 13 14 15 16 17 18 19 20]\n",
      " [21 22 23 24 25 26 27 28 29 30]]\n"
     ]
    }
   ],
   "source": [
    "# data reduction with svd\n",
    "from numpy import array\n",
    "from numpy import diag\n",
    "from numpy import zeros\n",
    "from scipy.linalg import svd\n",
    "\n",
    "\n",
    "A = array([\n",
    "[1,2,3,4,5,6,7,8,9,10],\n",
    "[11,12,13,14,15,16,17,18,19,20],\n",
    "[21,22,23,24,25,26,27,28,29,30]])\n",
    "print(A)"
   ]
  },
  {
   "cell_type": "code",
   "execution_count": 81,
   "metadata": {},
   "outputs": [
    {
     "name": "stdout",
     "output_type": "stream",
     "text": [
      "[[ 1.  2.  3.  4.  5.  6.  7.  8.  9. 10.]\n",
      " [11. 12. 13. 14. 15. 16. 17. 18. 19. 20.]\n",
      " [21. 22. 23. 24. 25. 26. 27. 28. 29. 30.]]\n",
      "\n",
      "[[-18.52157747   6.47697214]\n",
      " [-49.81310011   1.91182038]\n",
      " [-81.10462276  -2.65333138]]\n",
      "\n",
      "[[-18.52157747   6.47697214]\n",
      " [-49.81310011   1.91182038]\n",
      " [-81.10462276  -2.65333138]]\n"
     ]
    }
   ],
   "source": [
    "U, s, V = svd(A)\n",
    "# create m x n Sigma matrix\n",
    "Sigma = zeros((A.shape[0], A.shape[1]))\n",
    "# populate Sigma with n x n diagonal matrix\n",
    "Sigma[:A.shape[0], :A.shape[0]] = diag(s)\n",
    "\n",
    "# select\n",
    "n_elements = 2\n",
    "Sigma = Sigma[:, :n_elements]\n",
    "V = V[:n_elements, :]\n",
    "\n",
    "# reconstruct\n",
    "B = U.dot(Sigma.dot(V))\n",
    "print(B)\n",
    "print()\n",
    "\n",
    "# transform\n",
    "T = U.dot(Sigma)\n",
    "print(T)\n",
    "print()\n",
    "T = A.dot(V.T)\n",
    "print(T)"
   ]
  },
  {
   "cell_type": "code",
   "execution_count": 82,
   "metadata": {},
   "outputs": [
    {
     "name": "stdout",
     "output_type": "stream",
     "text": [
      "[[ 1  2  3  4  5  6  7  8  9 10]\n",
      " [11 12 13 14 15 16 17 18 19 20]\n",
      " [21 22 23 24 25 26 27 28 29 30]]\n"
     ]
    }
   ],
   "source": [
    "# svd data reduction in scikit-learn\n",
    "from numpy import array\n",
    "from sklearn.decomposition import TruncatedSVD\n",
    "\n",
    "\n",
    "A = array([\n",
    "[1,2,3,4,5,6,7,8,9,10],\n",
    "[11,12,13,14,15,16,17,18,19,20],\n",
    "[21,22,23,24,25,26,27,28,29,30]])\n",
    "print(A)"
   ]
  },
  {
   "cell_type": "code",
   "execution_count": 83,
   "metadata": {},
   "outputs": [
    {
     "name": "stdout",
     "output_type": "stream",
     "text": [
      "[[18.52157747  6.47697214]\n",
      " [49.81310011  1.91182038]\n",
      " [81.10462276 -2.65333138]]\n"
     ]
    }
   ],
   "source": [
    "# create transform\n",
    "svd = TruncatedSVD(n_components=2)\n",
    "# fit transform\n",
    "svd.fit(A)\n",
    "# apply transform\n",
    "result = svd.transform(A)\n",
    "print(result)"
   ]
  }
 ],
 "metadata": {
  "kernelspec": {
   "display_name": "Python 3",
   "language": "python",
   "name": "python3"
  },
  "language_info": {
   "codemirror_mode": {
    "name": "ipython",
    "version": 3
   },
   "file_extension": ".py",
   "mimetype": "text/x-python",
   "name": "python",
   "nbconvert_exporter": "python",
   "pygments_lexer": "ipython3",
   "version": "3.7.3"
  }
 },
 "nbformat": 4,
 "nbformat_minor": 4
}
