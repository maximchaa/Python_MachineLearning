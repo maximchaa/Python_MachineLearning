{
 "cells": [
  {
   "cell_type": "markdown",
   "metadata": {},
   "source": [
    "Будем использовать данные из [соревнования HSE](https://www.kaggle.com/c/hse19-gbm/data). \n",
    "\n",
    "\n",
    "Так как в данных имеется значительный дисбаланс классов, в качестве метрики качества везде будем использовать площадь под precision-recall кривой (AUC-PR)."
   ]
  },
  {
   "cell_type": "markdown",
   "metadata": {},
   "source": [
    "Произведем первоначальную настройку данных:"
   ]
  },
  {
   "cell_type": "code",
   "execution_count": 1,
   "metadata": {},
   "outputs": [],
   "source": [
    "import pandas as pd\n",
    "import numpy as np\n",
    "from sklearn.model_selection import train_test_split"
   ]
  },
  {
   "cell_type": "code",
   "execution_count": 2,
   "metadata": {},
   "outputs": [
    {
     "data": {
      "text/html": [
       "<div>\n",
       "<style scoped>\n",
       "    .dataframe tbody tr th:only-of-type {\n",
       "        vertical-align: middle;\n",
       "    }\n",
       "\n",
       "    .dataframe tbody tr th {\n",
       "        vertical-align: top;\n",
       "    }\n",
       "\n",
       "    .dataframe thead th {\n",
       "        text-align: right;\n",
       "    }\n",
       "</style>\n",
       "<table border=\"1\" class=\"dataframe\">\n",
       "  <thead>\n",
       "    <tr style=\"text-align: right;\">\n",
       "      <th></th>\n",
       "      <th>SK_ID_CURR</th>\n",
       "      <th>TARGET</th>\n",
       "      <th>NAME_CONTRACT_TYPE</th>\n",
       "      <th>CODE_GENDER</th>\n",
       "      <th>FLAG_OWN_CAR</th>\n",
       "      <th>FLAG_OWN_REALTY</th>\n",
       "      <th>CNT_CHILDREN</th>\n",
       "      <th>AMT_INCOME_TOTAL</th>\n",
       "      <th>AMT_CREDIT</th>\n",
       "      <th>AMT_ANNUITY</th>\n",
       "      <th>...</th>\n",
       "      <th>FLAG_DOCUMENT_18</th>\n",
       "      <th>FLAG_DOCUMENT_19</th>\n",
       "      <th>FLAG_DOCUMENT_20</th>\n",
       "      <th>FLAG_DOCUMENT_21</th>\n",
       "      <th>AMT_REQ_CREDIT_BUREAU_HOUR</th>\n",
       "      <th>AMT_REQ_CREDIT_BUREAU_DAY</th>\n",
       "      <th>AMT_REQ_CREDIT_BUREAU_WEEK</th>\n",
       "      <th>AMT_REQ_CREDIT_BUREAU_MON</th>\n",
       "      <th>AMT_REQ_CREDIT_BUREAU_QRT</th>\n",
       "      <th>AMT_REQ_CREDIT_BUREAU_YEAR</th>\n",
       "    </tr>\n",
       "  </thead>\n",
       "  <tbody>\n",
       "    <tr>\n",
       "      <th>0</th>\n",
       "      <td>247330</td>\n",
       "      <td>0</td>\n",
       "      <td>Cash loans</td>\n",
       "      <td>F</td>\n",
       "      <td>N</td>\n",
       "      <td>N</td>\n",
       "      <td>0</td>\n",
       "      <td>157500.0</td>\n",
       "      <td>706410.0</td>\n",
       "      <td>67072.5</td>\n",
       "      <td>...</td>\n",
       "      <td>0</td>\n",
       "      <td>0</td>\n",
       "      <td>0</td>\n",
       "      <td>0</td>\n",
       "      <td>0.0</td>\n",
       "      <td>0.0</td>\n",
       "      <td>0.0</td>\n",
       "      <td>0.0</td>\n",
       "      <td>0.0</td>\n",
       "      <td>1.0</td>\n",
       "    </tr>\n",
       "    <tr>\n",
       "      <th>1</th>\n",
       "      <td>425716</td>\n",
       "      <td>1</td>\n",
       "      <td>Cash loans</td>\n",
       "      <td>F</td>\n",
       "      <td>Y</td>\n",
       "      <td>Y</td>\n",
       "      <td>1</td>\n",
       "      <td>121500.0</td>\n",
       "      <td>545040.0</td>\n",
       "      <td>25407.0</td>\n",
       "      <td>...</td>\n",
       "      <td>0</td>\n",
       "      <td>0</td>\n",
       "      <td>0</td>\n",
       "      <td>0</td>\n",
       "      <td>0.0</td>\n",
       "      <td>0.0</td>\n",
       "      <td>0.0</td>\n",
       "      <td>0.0</td>\n",
       "      <td>0.0</td>\n",
       "      <td>0.0</td>\n",
       "    </tr>\n",
       "    <tr>\n",
       "      <th>2</th>\n",
       "      <td>331625</td>\n",
       "      <td>0</td>\n",
       "      <td>Cash loans</td>\n",
       "      <td>M</td>\n",
       "      <td>Y</td>\n",
       "      <td>Y</td>\n",
       "      <td>1</td>\n",
       "      <td>225000.0</td>\n",
       "      <td>942300.0</td>\n",
       "      <td>27679.5</td>\n",
       "      <td>...</td>\n",
       "      <td>0</td>\n",
       "      <td>0</td>\n",
       "      <td>0</td>\n",
       "      <td>0</td>\n",
       "      <td>0.0</td>\n",
       "      <td>0.0</td>\n",
       "      <td>0.0</td>\n",
       "      <td>0.0</td>\n",
       "      <td>0.0</td>\n",
       "      <td>1.0</td>\n",
       "    </tr>\n",
       "    <tr>\n",
       "      <th>3</th>\n",
       "      <td>455397</td>\n",
       "      <td>0</td>\n",
       "      <td>Revolving loans</td>\n",
       "      <td>F</td>\n",
       "      <td>N</td>\n",
       "      <td>Y</td>\n",
       "      <td>2</td>\n",
       "      <td>144000.0</td>\n",
       "      <td>180000.0</td>\n",
       "      <td>9000.0</td>\n",
       "      <td>...</td>\n",
       "      <td>0</td>\n",
       "      <td>0</td>\n",
       "      <td>0</td>\n",
       "      <td>0</td>\n",
       "      <td>0.0</td>\n",
       "      <td>0.0</td>\n",
       "      <td>0.0</td>\n",
       "      <td>0.0</td>\n",
       "      <td>1.0</td>\n",
       "      <td>2.0</td>\n",
       "    </tr>\n",
       "    <tr>\n",
       "      <th>4</th>\n",
       "      <td>449114</td>\n",
       "      <td>0</td>\n",
       "      <td>Cash loans</td>\n",
       "      <td>F</td>\n",
       "      <td>N</td>\n",
       "      <td>Y</td>\n",
       "      <td>0</td>\n",
       "      <td>112500.0</td>\n",
       "      <td>729792.0</td>\n",
       "      <td>37390.5</td>\n",
       "      <td>...</td>\n",
       "      <td>0</td>\n",
       "      <td>0</td>\n",
       "      <td>0</td>\n",
       "      <td>0</td>\n",
       "      <td>0.0</td>\n",
       "      <td>0.0</td>\n",
       "      <td>0.0</td>\n",
       "      <td>0.0</td>\n",
       "      <td>1.0</td>\n",
       "      <td>0.0</td>\n",
       "    </tr>\n",
       "  </tbody>\n",
       "</table>\n",
       "<p>5 rows × 122 columns</p>\n",
       "</div>"
      ],
      "text/plain": [
       "   SK_ID_CURR  TARGET NAME_CONTRACT_TYPE CODE_GENDER FLAG_OWN_CAR  \\\n",
       "0      247330       0         Cash loans           F            N   \n",
       "1      425716       1         Cash loans           F            Y   \n",
       "2      331625       0         Cash loans           M            Y   \n",
       "3      455397       0    Revolving loans           F            N   \n",
       "4      449114       0         Cash loans           F            N   \n",
       "\n",
       "  FLAG_OWN_REALTY  CNT_CHILDREN  AMT_INCOME_TOTAL  AMT_CREDIT  AMT_ANNUITY  \\\n",
       "0               N             0          157500.0    706410.0      67072.5   \n",
       "1               Y             1          121500.0    545040.0      25407.0   \n",
       "2               Y             1          225000.0    942300.0      27679.5   \n",
       "3               Y             2          144000.0    180000.0       9000.0   \n",
       "4               Y             0          112500.0    729792.0      37390.5   \n",
       "\n",
       "   ...  FLAG_DOCUMENT_18 FLAG_DOCUMENT_19 FLAG_DOCUMENT_20 FLAG_DOCUMENT_21  \\\n",
       "0  ...                 0                0                0                0   \n",
       "1  ...                 0                0                0                0   \n",
       "2  ...                 0                0                0                0   \n",
       "3  ...                 0                0                0                0   \n",
       "4  ...                 0                0                0                0   \n",
       "\n",
       "  AMT_REQ_CREDIT_BUREAU_HOUR AMT_REQ_CREDIT_BUREAU_DAY  \\\n",
       "0                        0.0                       0.0   \n",
       "1                        0.0                       0.0   \n",
       "2                        0.0                       0.0   \n",
       "3                        0.0                       0.0   \n",
       "4                        0.0                       0.0   \n",
       "\n",
       "   AMT_REQ_CREDIT_BUREAU_WEEK  AMT_REQ_CREDIT_BUREAU_MON  \\\n",
       "0                         0.0                        0.0   \n",
       "1                         0.0                        0.0   \n",
       "2                         0.0                        0.0   \n",
       "3                         0.0                        0.0   \n",
       "4                         0.0                        0.0   \n",
       "\n",
       "   AMT_REQ_CREDIT_BUREAU_QRT  AMT_REQ_CREDIT_BUREAU_YEAR  \n",
       "0                        0.0                         1.0  \n",
       "1                        0.0                         0.0  \n",
       "2                        0.0                         1.0  \n",
       "3                        1.0                         2.0  \n",
       "4                        1.0                         0.0  \n",
       "\n",
       "[5 rows x 122 columns]"
      ]
     },
     "execution_count": 2,
     "metadata": {},
     "output_type": "execute_result"
    }
   ],
   "source": [
    "train = pd.read_csv('application_train.csv')\n",
    "train.head()"
   ]
  },
  {
   "cell_type": "code",
   "execution_count": 3,
   "metadata": {},
   "outputs": [
    {
     "data": {
      "text/plain": [
       "(215257, 122)"
      ]
     },
     "execution_count": 3,
     "metadata": {},
     "output_type": "execute_result"
    }
   ],
   "source": [
    "train.shape"
   ]
  },
  {
   "cell_type": "code",
   "execution_count": 4,
   "metadata": {},
   "outputs": [],
   "source": [
    "y = train['TARGET']\n",
    "X = train.drop(['TARGET', 'SK_ID_CURR'], axis=1)"
   ]
  },
  {
   "cell_type": "code",
   "execution_count": 5,
   "metadata": {},
   "outputs": [
    {
     "data": {
      "text/plain": [
       "[dtype('O'),\n",
       " dtype('O'),\n",
       " dtype('O'),\n",
       " dtype('O'),\n",
       " dtype('int64'),\n",
       " dtype('float64'),\n",
       " dtype('float64'),\n",
       " dtype('float64'),\n",
       " dtype('float64'),\n",
       " dtype('O'),\n",
       " dtype('O'),\n",
       " dtype('O'),\n",
       " dtype('O'),\n",
       " dtype('O'),\n",
       " dtype('float64'),\n",
       " dtype('int64'),\n",
       " dtype('int64'),\n",
       " dtype('float64'),\n",
       " dtype('int64'),\n",
       " dtype('float64'),\n",
       " dtype('int64'),\n",
       " dtype('int64'),\n",
       " dtype('int64'),\n",
       " dtype('int64'),\n",
       " dtype('int64'),\n",
       " dtype('int64'),\n",
       " dtype('O'),\n",
       " dtype('float64'),\n",
       " dtype('int64'),\n",
       " dtype('int64'),\n",
       " dtype('O'),\n",
       " dtype('int64'),\n",
       " dtype('int64'),\n",
       " dtype('int64'),\n",
       " dtype('int64'),\n",
       " dtype('int64'),\n",
       " dtype('int64'),\n",
       " dtype('int64'),\n",
       " dtype('O'),\n",
       " dtype('float64'),\n",
       " dtype('float64'),\n",
       " dtype('float64'),\n",
       " dtype('float64'),\n",
       " dtype('float64'),\n",
       " dtype('float64'),\n",
       " dtype('float64'),\n",
       " dtype('float64'),\n",
       " dtype('float64'),\n",
       " dtype('float64'),\n",
       " dtype('float64'),\n",
       " dtype('float64'),\n",
       " dtype('float64'),\n",
       " dtype('float64'),\n",
       " dtype('float64'),\n",
       " dtype('float64'),\n",
       " dtype('float64'),\n",
       " dtype('float64'),\n",
       " dtype('float64'),\n",
       " dtype('float64'),\n",
       " dtype('float64'),\n",
       " dtype('float64'),\n",
       " dtype('float64'),\n",
       " dtype('float64'),\n",
       " dtype('float64'),\n",
       " dtype('float64'),\n",
       " dtype('float64'),\n",
       " dtype('float64'),\n",
       " dtype('float64'),\n",
       " dtype('float64'),\n",
       " dtype('float64'),\n",
       " dtype('float64'),\n",
       " dtype('float64'),\n",
       " dtype('float64'),\n",
       " dtype('float64'),\n",
       " dtype('float64'),\n",
       " dtype('float64'),\n",
       " dtype('float64'),\n",
       " dtype('float64'),\n",
       " dtype('float64'),\n",
       " dtype('float64'),\n",
       " dtype('float64'),\n",
       " dtype('float64'),\n",
       " dtype('float64'),\n",
       " dtype('float64'),\n",
       " dtype('O'),\n",
       " dtype('O'),\n",
       " dtype('float64'),\n",
       " dtype('O'),\n",
       " dtype('O'),\n",
       " dtype('float64'),\n",
       " dtype('float64'),\n",
       " dtype('float64'),\n",
       " dtype('float64'),\n",
       " dtype('float64'),\n",
       " dtype('int64'),\n",
       " dtype('int64'),\n",
       " dtype('int64'),\n",
       " dtype('int64'),\n",
       " dtype('int64'),\n",
       " dtype('int64'),\n",
       " dtype('int64'),\n",
       " dtype('int64'),\n",
       " dtype('int64'),\n",
       " dtype('int64'),\n",
       " dtype('int64'),\n",
       " dtype('int64'),\n",
       " dtype('int64'),\n",
       " dtype('int64'),\n",
       " dtype('int64'),\n",
       " dtype('int64'),\n",
       " dtype('int64'),\n",
       " dtype('int64'),\n",
       " dtype('int64'),\n",
       " dtype('int64'),\n",
       " dtype('float64'),\n",
       " dtype('float64'),\n",
       " dtype('float64'),\n",
       " dtype('float64'),\n",
       " dtype('float64'),\n",
       " dtype('float64')]"
      ]
     },
     "execution_count": 5,
     "metadata": {},
     "output_type": "execute_result"
    }
   ],
   "source": [
    "list(X.dtypes)"
   ]
  },
  {
   "cell_type": "code",
   "execution_count": 6,
   "metadata": {},
   "outputs": [
    {
     "data": {
      "text/plain": [
       "['NAME_CONTRACT_TYPE',\n",
       " 'CODE_GENDER',\n",
       " 'FLAG_OWN_CAR',\n",
       " 'FLAG_OWN_REALTY',\n",
       " 'CNT_CHILDREN',\n",
       " 'AMT_INCOME_TOTAL',\n",
       " 'AMT_CREDIT',\n",
       " 'AMT_ANNUITY',\n",
       " 'AMT_GOODS_PRICE',\n",
       " 'NAME_TYPE_SUITE',\n",
       " 'NAME_INCOME_TYPE',\n",
       " 'NAME_EDUCATION_TYPE',\n",
       " 'NAME_FAMILY_STATUS',\n",
       " 'NAME_HOUSING_TYPE',\n",
       " 'REGION_POPULATION_RELATIVE',\n",
       " 'DAYS_BIRTH',\n",
       " 'DAYS_EMPLOYED',\n",
       " 'DAYS_REGISTRATION',\n",
       " 'DAYS_ID_PUBLISH',\n",
       " 'OWN_CAR_AGE',\n",
       " 'FLAG_MOBIL',\n",
       " 'FLAG_EMP_PHONE',\n",
       " 'FLAG_WORK_PHONE',\n",
       " 'FLAG_CONT_MOBILE',\n",
       " 'FLAG_PHONE',\n",
       " 'FLAG_EMAIL',\n",
       " 'OCCUPATION_TYPE',\n",
       " 'CNT_FAM_MEMBERS',\n",
       " 'REGION_RATING_CLIENT',\n",
       " 'REGION_RATING_CLIENT_W_CITY',\n",
       " 'WEEKDAY_APPR_PROCESS_START',\n",
       " 'HOUR_APPR_PROCESS_START',\n",
       " 'REG_REGION_NOT_LIVE_REGION',\n",
       " 'REG_REGION_NOT_WORK_REGION',\n",
       " 'LIVE_REGION_NOT_WORK_REGION',\n",
       " 'REG_CITY_NOT_LIVE_CITY',\n",
       " 'REG_CITY_NOT_WORK_CITY',\n",
       " 'LIVE_CITY_NOT_WORK_CITY',\n",
       " 'ORGANIZATION_TYPE',\n",
       " 'EXT_SOURCE_1',\n",
       " 'EXT_SOURCE_2',\n",
       " 'EXT_SOURCE_3',\n",
       " 'APARTMENTS_AVG',\n",
       " 'BASEMENTAREA_AVG',\n",
       " 'YEARS_BEGINEXPLUATATION_AVG',\n",
       " 'YEARS_BUILD_AVG',\n",
       " 'COMMONAREA_AVG',\n",
       " 'ELEVATORS_AVG',\n",
       " 'ENTRANCES_AVG',\n",
       " 'FLOORSMAX_AVG',\n",
       " 'FLOORSMIN_AVG',\n",
       " 'LANDAREA_AVG',\n",
       " 'LIVINGAPARTMENTS_AVG',\n",
       " 'LIVINGAREA_AVG',\n",
       " 'NONLIVINGAPARTMENTS_AVG',\n",
       " 'NONLIVINGAREA_AVG',\n",
       " 'APARTMENTS_MODE',\n",
       " 'BASEMENTAREA_MODE',\n",
       " 'YEARS_BEGINEXPLUATATION_MODE',\n",
       " 'YEARS_BUILD_MODE',\n",
       " 'COMMONAREA_MODE',\n",
       " 'ELEVATORS_MODE',\n",
       " 'ENTRANCES_MODE',\n",
       " 'FLOORSMAX_MODE',\n",
       " 'FLOORSMIN_MODE',\n",
       " 'LANDAREA_MODE',\n",
       " 'LIVINGAPARTMENTS_MODE',\n",
       " 'LIVINGAREA_MODE',\n",
       " 'NONLIVINGAPARTMENTS_MODE',\n",
       " 'NONLIVINGAREA_MODE',\n",
       " 'APARTMENTS_MEDI',\n",
       " 'BASEMENTAREA_MEDI',\n",
       " 'YEARS_BEGINEXPLUATATION_MEDI',\n",
       " 'YEARS_BUILD_MEDI',\n",
       " 'COMMONAREA_MEDI',\n",
       " 'ELEVATORS_MEDI',\n",
       " 'ENTRANCES_MEDI',\n",
       " 'FLOORSMAX_MEDI',\n",
       " 'FLOORSMIN_MEDI',\n",
       " 'LANDAREA_MEDI',\n",
       " 'LIVINGAPARTMENTS_MEDI',\n",
       " 'LIVINGAREA_MEDI',\n",
       " 'NONLIVINGAPARTMENTS_MEDI',\n",
       " 'NONLIVINGAREA_MEDI',\n",
       " 'FONDKAPREMONT_MODE',\n",
       " 'HOUSETYPE_MODE',\n",
       " 'TOTALAREA_MODE',\n",
       " 'WALLSMATERIAL_MODE',\n",
       " 'EMERGENCYSTATE_MODE',\n",
       " 'OBS_30_CNT_SOCIAL_CIRCLE',\n",
       " 'DEF_30_CNT_SOCIAL_CIRCLE',\n",
       " 'OBS_60_CNT_SOCIAL_CIRCLE',\n",
       " 'DEF_60_CNT_SOCIAL_CIRCLE',\n",
       " 'DAYS_LAST_PHONE_CHANGE',\n",
       " 'FLAG_DOCUMENT_2',\n",
       " 'FLAG_DOCUMENT_3',\n",
       " 'FLAG_DOCUMENT_4',\n",
       " 'FLAG_DOCUMENT_5',\n",
       " 'FLAG_DOCUMENT_6',\n",
       " 'FLAG_DOCUMENT_7',\n",
       " 'FLAG_DOCUMENT_8',\n",
       " 'FLAG_DOCUMENT_9',\n",
       " 'FLAG_DOCUMENT_10',\n",
       " 'FLAG_DOCUMENT_11',\n",
       " 'FLAG_DOCUMENT_12',\n",
       " 'FLAG_DOCUMENT_13',\n",
       " 'FLAG_DOCUMENT_14',\n",
       " 'FLAG_DOCUMENT_15',\n",
       " 'FLAG_DOCUMENT_16',\n",
       " 'FLAG_DOCUMENT_17',\n",
       " 'FLAG_DOCUMENT_18',\n",
       " 'FLAG_DOCUMENT_19',\n",
       " 'FLAG_DOCUMENT_20',\n",
       " 'FLAG_DOCUMENT_21',\n",
       " 'AMT_REQ_CREDIT_BUREAU_HOUR',\n",
       " 'AMT_REQ_CREDIT_BUREAU_DAY',\n",
       " 'AMT_REQ_CREDIT_BUREAU_WEEK',\n",
       " 'AMT_REQ_CREDIT_BUREAU_MON',\n",
       " 'AMT_REQ_CREDIT_BUREAU_QRT',\n",
       " 'AMT_REQ_CREDIT_BUREAU_YEAR']"
      ]
     },
     "execution_count": 6,
     "metadata": {},
     "output_type": "execute_result"
    }
   ],
   "source": [
    "list(X.columns)"
   ]
  },
  {
   "cell_type": "markdown",
   "metadata": {},
   "source": [
    "Видим, что, как минимум (первое бросившееся в глаза), FLAG_DOCUMENT_<> типа float64, хотя принимает 0 и 1 (по сути, тип bool, а не float64) - лучше отнести такое тоже к категориальным признакам. Также отнесем к категориальным признакам такие столбцы, в которым малое число уникальных значений:"
   ]
  },
  {
   "cell_type": "code",
   "execution_count": 7,
   "metadata": {},
   "outputs": [
    {
     "data": {
      "text/plain": [
       "array(['NAME_CONTRACT_TYPE', 'CODE_GENDER', 'FLAG_OWN_CAR',\n",
       "       'FLAG_OWN_REALTY', 'NAME_TYPE_SUITE', 'NAME_INCOME_TYPE',\n",
       "       'NAME_EDUCATION_TYPE', 'NAME_FAMILY_STATUS', 'NAME_HOUSING_TYPE',\n",
       "       'OCCUPATION_TYPE', 'WEEKDAY_APPR_PROCESS_START',\n",
       "       'ORGANIZATION_TYPE', 'FONDKAPREMONT_MODE', 'HOUSETYPE_MODE',\n",
       "       'WALLSMATERIAL_MODE', 'EMERGENCYSTATE_MODE'], dtype='<U26')"
      ]
     },
     "execution_count": 7,
     "metadata": {},
     "output_type": "execute_result"
    }
   ],
   "source": [
    "categorical_str = np.array(  X.select_dtypes(include=['object']).columns.tolist()  )\n",
    "categorical_str"
   ]
  },
  {
   "cell_type": "code",
   "execution_count": 8,
   "metadata": {},
   "outputs": [
    {
     "data": {
      "text/plain": [
       "array(['AMT_REQ_CREDIT_BUREAU_HOUR', 'FLAG_CONT_MOBILE',\n",
       "       'FLAG_DOCUMENT_10', 'FLAG_DOCUMENT_11', 'FLAG_DOCUMENT_12',\n",
       "       'FLAG_DOCUMENT_13', 'FLAG_DOCUMENT_14', 'FLAG_DOCUMENT_15',\n",
       "       'FLAG_DOCUMENT_16', 'FLAG_DOCUMENT_17', 'FLAG_DOCUMENT_18',\n",
       "       'FLAG_DOCUMENT_19', 'FLAG_DOCUMENT_2', 'FLAG_DOCUMENT_20',\n",
       "       'FLAG_DOCUMENT_21', 'FLAG_DOCUMENT_3', 'FLAG_DOCUMENT_4',\n",
       "       'FLAG_DOCUMENT_5', 'FLAG_DOCUMENT_6', 'FLAG_DOCUMENT_7',\n",
       "       'FLAG_DOCUMENT_8', 'FLAG_DOCUMENT_9', 'FLAG_EMAIL',\n",
       "       'FLAG_EMP_PHONE', 'FLAG_MOBIL', 'FLAG_PHONE', 'FLAG_WORK_PHONE',\n",
       "       'LIVE_CITY_NOT_WORK_CITY', 'LIVE_REGION_NOT_WORK_REGION',\n",
       "       'REGION_RATING_CLIENT', 'REGION_RATING_CLIENT_W_CITY',\n",
       "       'REG_CITY_NOT_LIVE_CITY', 'REG_CITY_NOT_WORK_CITY',\n",
       "       'REG_REGION_NOT_LIVE_REGION', 'REG_REGION_NOT_WORK_REGION'],\n",
       "      dtype='<U28')"
      ]
     },
     "execution_count": 8,
     "metadata": {},
     "output_type": "execute_result"
    }
   ],
   "source": [
    "categorical_int = np.intersect1d(\n",
    "                                np.array(  X.select_dtypes(include=['float', 'int']).columns.tolist()  ), \n",
    "                                np.array(  X.columns[X.nunique() < 7].tolist()  )\n",
    "                            )\n",
    "categorical_int"
   ]
  },
  {
   "cell_type": "code",
   "execution_count": 9,
   "metadata": {},
   "outputs": [],
   "source": [
    "categorical = np.concatenate([categorical_str, categorical_int])"
   ]
  },
  {
   "cell_type": "code",
   "execution_count": 10,
   "metadata": {},
   "outputs": [
    {
     "data": {
      "text/plain": [
       "array(['AMT_ANNUITY', 'AMT_CREDIT', 'AMT_GOODS_PRICE', 'AMT_INCOME_TOTAL',\n",
       "       'AMT_REQ_CREDIT_BUREAU_DAY', 'AMT_REQ_CREDIT_BUREAU_MON',\n",
       "       'AMT_REQ_CREDIT_BUREAU_QRT', 'AMT_REQ_CREDIT_BUREAU_WEEK',\n",
       "       'AMT_REQ_CREDIT_BUREAU_YEAR', 'APARTMENTS_AVG', 'APARTMENTS_MEDI',\n",
       "       'APARTMENTS_MODE', 'BASEMENTAREA_AVG', 'BASEMENTAREA_MEDI',\n",
       "       'BASEMENTAREA_MODE', 'CNT_CHILDREN', 'CNT_FAM_MEMBERS',\n",
       "       'COMMONAREA_AVG', 'COMMONAREA_MEDI', 'COMMONAREA_MODE',\n",
       "       'DAYS_BIRTH', 'DAYS_EMPLOYED', 'DAYS_ID_PUBLISH',\n",
       "       'DAYS_LAST_PHONE_CHANGE', 'DAYS_REGISTRATION',\n",
       "       'DEF_30_CNT_SOCIAL_CIRCLE', 'DEF_60_CNT_SOCIAL_CIRCLE',\n",
       "       'ELEVATORS_AVG', 'ELEVATORS_MEDI', 'ELEVATORS_MODE',\n",
       "       'ENTRANCES_AVG', 'ENTRANCES_MEDI', 'ENTRANCES_MODE',\n",
       "       'EXT_SOURCE_1', 'EXT_SOURCE_2', 'EXT_SOURCE_3', 'FLOORSMAX_AVG',\n",
       "       'FLOORSMAX_MEDI', 'FLOORSMAX_MODE', 'FLOORSMIN_AVG',\n",
       "       'FLOORSMIN_MEDI', 'FLOORSMIN_MODE', 'HOUR_APPR_PROCESS_START',\n",
       "       'LANDAREA_AVG', 'LANDAREA_MEDI', 'LANDAREA_MODE',\n",
       "       'LIVINGAPARTMENTS_AVG', 'LIVINGAPARTMENTS_MEDI',\n",
       "       'LIVINGAPARTMENTS_MODE', 'LIVINGAREA_AVG', 'LIVINGAREA_MEDI',\n",
       "       'LIVINGAREA_MODE', 'NONLIVINGAPARTMENTS_AVG',\n",
       "       'NONLIVINGAPARTMENTS_MEDI', 'NONLIVINGAPARTMENTS_MODE',\n",
       "       'NONLIVINGAREA_AVG', 'NONLIVINGAREA_MEDI', 'NONLIVINGAREA_MODE',\n",
       "       'OBS_30_CNT_SOCIAL_CIRCLE', 'OBS_60_CNT_SOCIAL_CIRCLE',\n",
       "       'OWN_CAR_AGE', 'REGION_POPULATION_RELATIVE', 'TOTALAREA_MODE',\n",
       "       'YEARS_BEGINEXPLUATATION_AVG', 'YEARS_BEGINEXPLUATATION_MEDI',\n",
       "       'YEARS_BEGINEXPLUATATION_MODE', 'YEARS_BUILD_AVG',\n",
       "       'YEARS_BUILD_MEDI', 'YEARS_BUILD_MODE'], dtype='<U28')"
      ]
     },
     "execution_count": 10,
     "metadata": {},
     "output_type": "execute_result"
    }
   ],
   "source": [
    "numerical = np.setdiff1d(  \n",
    "                        np.array(X.columns.tolist()), \n",
    "                        categorical\n",
    "                    )\n",
    "numerical"
   ]
  },
  {
   "cell_type": "markdown",
   "metadata": {},
   "source": [
    "Пропуски заполним медианными значениями:"
   ]
  },
  {
   "cell_type": "code",
   "execution_count": 11,
   "metadata": {},
   "outputs": [
    {
     "data": {
      "text/plain": [
       "0       NaN\n",
       "1       NaN\n",
       "2    0.7250\n",
       "3    0.0000\n",
       "4       NaN\n",
       "5    0.1611\n",
       "6    0.3625\n",
       "7    0.0000\n",
       "8       NaN\n",
       "9       NaN\n",
       "Name: ELEVATORS_MODE, dtype: float64"
      ]
     },
     "execution_count": 11,
     "metadata": {},
     "output_type": "execute_result"
    }
   ],
   "source": [
    "X['ELEVATORS_MODE'].head(10)"
   ]
  },
  {
   "cell_type": "code",
   "execution_count": 12,
   "metadata": {},
   "outputs": [
    {
     "data": {
      "text/plain": [
       "0    0.0000\n",
       "1    0.0000\n",
       "2    0.7250\n",
       "3    0.0000\n",
       "4    0.0000\n",
       "5    0.1611\n",
       "6    0.3625\n",
       "7    0.0000\n",
       "8    0.0000\n",
       "9    0.0000\n",
       "Name: ELEVATORS_MODE, dtype: float64"
      ]
     },
     "execution_count": 12,
     "metadata": {},
     "output_type": "execute_result"
    }
   ],
   "source": [
    "X[numerical] = X[numerical].fillna(  X[numerical].median()  )\n",
    "X['ELEVATORS_MODE'].head(10)"
   ]
  },
  {
   "cell_type": "code",
   "execution_count": 13,
   "metadata": {},
   "outputs": [],
   "source": [
    "X[categorical_str] = X[categorical_str].fillna('NaN')\n",
    "X[categorical_int] = X[categorical_int].fillna(X[categorical_int].min()-1)"
   ]
  },
  {
   "cell_type": "code",
   "execution_count": 14,
   "metadata": {},
   "outputs": [],
   "source": [
    "X_train, X_test, y_train, y_test = train_test_split(X, y, test_size=0.3, random_state=0)"
   ]
  },
  {
   "cell_type": "markdown",
   "metadata": {},
   "source": [
    "---"
   ]
  },
  {
   "cell_type": "markdown",
   "metadata": {},
   "source": [
    "Обучим реализации градиентного бустинга LightGBM и Catboost на вещественных признаках без подбора параметров:"
   ]
  },
  {
   "cell_type": "code",
   "execution_count": 15,
   "metadata": {},
   "outputs": [],
   "source": [
    "from catboost import CatBoostClassifier\n",
    "from lightgbm import LGBMClassifier\n",
    "\n",
    "%matplotlib inline\n",
    "import matplotlib.pyplot as plt\n",
    "import seaborn as sns\n",
    "sns.set(style=\"darkgrid\")\n",
    "\n",
    "from sklearn.metrics import precision_recall_curve, auc"
   ]
  },
  {
   "cell_type": "code",
   "execution_count": 16,
   "metadata": {
    "scrolled": true
   },
   "outputs": [
    {
     "name": "stdout",
     "output_type": "stream",
     "text": [
      "Learning rate set to 0.087693\n",
      "0:\tlearn: 0.6049769\ttotal: 120ms\tremaining: 1m 59s\n",
      "1:\tlearn: 0.5361964\ttotal: 161ms\tremaining: 1m 20s\n",
      "2:\tlearn: 0.4821567\ttotal: 215ms\tremaining: 1m 11s\n",
      "3:\tlearn: 0.4390545\ttotal: 260ms\tremaining: 1m 4s\n",
      "4:\tlearn: 0.4018378\ttotal: 306ms\tremaining: 1m\n",
      "5:\tlearn: 0.3739330\ttotal: 347ms\tremaining: 57.5s\n",
      "6:\tlearn: 0.3526696\ttotal: 404ms\tremaining: 57.3s\n",
      "7:\tlearn: 0.3343885\ttotal: 469ms\tremaining: 58.1s\n",
      "8:\tlearn: 0.3220711\ttotal: 532ms\tremaining: 58.6s\n",
      "9:\tlearn: 0.3105392\ttotal: 577ms\tremaining: 57.1s\n",
      "10:\tlearn: 0.3022429\ttotal: 616ms\tremaining: 55.4s\n",
      "11:\tlearn: 0.2954793\ttotal: 659ms\tremaining: 54.3s\n",
      "12:\tlearn: 0.2886762\ttotal: 712ms\tremaining: 54.1s\n",
      "13:\tlearn: 0.2834892\ttotal: 754ms\tremaining: 53.1s\n",
      "14:\tlearn: 0.2788217\ttotal: 799ms\tremaining: 52.5s\n",
      "15:\tlearn: 0.2753479\ttotal: 841ms\tremaining: 51.7s\n",
      "16:\tlearn: 0.2723116\ttotal: 884ms\tremaining: 51.1s\n",
      "17:\tlearn: 0.2698230\ttotal: 941ms\tremaining: 51.3s\n",
      "18:\tlearn: 0.2676872\ttotal: 1.01s\tremaining: 52s\n",
      "19:\tlearn: 0.2660008\ttotal: 1.07s\tremaining: 52.4s\n",
      "20:\tlearn: 0.2645150\ttotal: 1.12s\tremaining: 52.2s\n",
      "21:\tlearn: 0.2633722\ttotal: 1.18s\tremaining: 52.3s\n",
      "22:\tlearn: 0.2623048\ttotal: 1.22s\tremaining: 52s\n",
      "23:\tlearn: 0.2611971\ttotal: 1.27s\tremaining: 51.7s\n",
      "24:\tlearn: 0.2603553\ttotal: 1.32s\tremaining: 51.3s\n",
      "25:\tlearn: 0.2596780\ttotal: 1.36s\tremaining: 50.9s\n",
      "26:\tlearn: 0.2590343\ttotal: 1.41s\tremaining: 50.8s\n",
      "27:\tlearn: 0.2584543\ttotal: 1.46s\tremaining: 50.8s\n",
      "28:\tlearn: 0.2578627\ttotal: 1.52s\tremaining: 50.9s\n",
      "29:\tlearn: 0.2574190\ttotal: 1.62s\tremaining: 52.3s\n",
      "30:\tlearn: 0.2569822\ttotal: 1.71s\tremaining: 53.4s\n",
      "31:\tlearn: 0.2565186\ttotal: 1.78s\tremaining: 53.8s\n",
      "32:\tlearn: 0.2561682\ttotal: 1.85s\tremaining: 54.1s\n",
      "33:\tlearn: 0.2557969\ttotal: 1.9s\tremaining: 53.9s\n",
      "34:\tlearn: 0.2555919\ttotal: 1.94s\tremaining: 53.6s\n",
      "35:\tlearn: 0.2552932\ttotal: 2s\tremaining: 53.6s\n",
      "36:\tlearn: 0.2550727\ttotal: 2.05s\tremaining: 53.4s\n",
      "37:\tlearn: 0.2546973\ttotal: 2.11s\tremaining: 53.5s\n",
      "38:\tlearn: 0.2544881\ttotal: 2.16s\tremaining: 53.3s\n",
      "39:\tlearn: 0.2542432\ttotal: 2.22s\tremaining: 53.4s\n",
      "40:\tlearn: 0.2540284\ttotal: 2.31s\tremaining: 53.9s\n",
      "41:\tlearn: 0.2538010\ttotal: 2.36s\tremaining: 53.9s\n",
      "42:\tlearn: 0.2536155\ttotal: 2.43s\tremaining: 54.1s\n",
      "43:\tlearn: 0.2534236\ttotal: 2.52s\tremaining: 54.7s\n",
      "44:\tlearn: 0.2532948\ttotal: 2.58s\tremaining: 54.9s\n",
      "45:\tlearn: 0.2531569\ttotal: 2.64s\tremaining: 54.7s\n",
      "46:\tlearn: 0.2530648\ttotal: 2.73s\tremaining: 55.3s\n",
      "47:\tlearn: 0.2529188\ttotal: 2.8s\tremaining: 55.6s\n",
      "48:\tlearn: 0.2528046\ttotal: 2.87s\tremaining: 55.7s\n",
      "49:\tlearn: 0.2527132\ttotal: 2.94s\tremaining: 55.8s\n",
      "50:\tlearn: 0.2525677\ttotal: 3s\tremaining: 55.9s\n",
      "51:\tlearn: 0.2524602\ttotal: 3.07s\tremaining: 56s\n",
      "52:\tlearn: 0.2522689\ttotal: 3.12s\tremaining: 55.7s\n",
      "53:\tlearn: 0.2521713\ttotal: 3.17s\tremaining: 55.5s\n",
      "54:\tlearn: 0.2520421\ttotal: 3.22s\tremaining: 55.3s\n",
      "55:\tlearn: 0.2519323\ttotal: 3.27s\tremaining: 55.1s\n",
      "56:\tlearn: 0.2518543\ttotal: 3.31s\tremaining: 54.8s\n",
      "57:\tlearn: 0.2517640\ttotal: 3.35s\tremaining: 54.5s\n",
      "58:\tlearn: 0.2516331\ttotal: 3.4s\tremaining: 54.3s\n",
      "59:\tlearn: 0.2515511\ttotal: 3.45s\tremaining: 54s\n",
      "60:\tlearn: 0.2514805\ttotal: 3.49s\tremaining: 53.8s\n",
      "61:\tlearn: 0.2513657\ttotal: 3.53s\tremaining: 53.4s\n",
      "62:\tlearn: 0.2512573\ttotal: 3.58s\tremaining: 53.2s\n",
      "63:\tlearn: 0.2511068\ttotal: 3.65s\tremaining: 53.3s\n",
      "64:\tlearn: 0.2510172\ttotal: 3.7s\tremaining: 53.2s\n",
      "65:\tlearn: 0.2509379\ttotal: 3.75s\tremaining: 53.1s\n",
      "66:\tlearn: 0.2508371\ttotal: 3.8s\tremaining: 53s\n",
      "67:\tlearn: 0.2507708\ttotal: 3.85s\tremaining: 52.8s\n",
      "68:\tlearn: 0.2507077\ttotal: 3.91s\tremaining: 52.7s\n",
      "69:\tlearn: 0.2506280\ttotal: 3.96s\tremaining: 52.6s\n",
      "70:\tlearn: 0.2505702\ttotal: 4.02s\tremaining: 52.6s\n",
      "71:\tlearn: 0.2504935\ttotal: 4.06s\tremaining: 52.4s\n",
      "72:\tlearn: 0.2504225\ttotal: 4.11s\tremaining: 52.2s\n",
      "73:\tlearn: 0.2503314\ttotal: 4.16s\tremaining: 52.1s\n",
      "74:\tlearn: 0.2502571\ttotal: 4.21s\tremaining: 51.9s\n",
      "75:\tlearn: 0.2501427\ttotal: 4.25s\tremaining: 51.7s\n",
      "76:\tlearn: 0.2500638\ttotal: 4.3s\tremaining: 51.6s\n",
      "77:\tlearn: 0.2500146\ttotal: 4.35s\tremaining: 51.4s\n",
      "78:\tlearn: 0.2499466\ttotal: 4.41s\tremaining: 51.4s\n",
      "79:\tlearn: 0.2498681\ttotal: 4.48s\tremaining: 51.5s\n",
      "80:\tlearn: 0.2498286\ttotal: 4.53s\tremaining: 51.4s\n",
      "81:\tlearn: 0.2497457\ttotal: 4.58s\tremaining: 51.2s\n",
      "82:\tlearn: 0.2496924\ttotal: 4.63s\tremaining: 51.1s\n",
      "83:\tlearn: 0.2496171\ttotal: 4.7s\tremaining: 51.2s\n",
      "84:\tlearn: 0.2495557\ttotal: 4.77s\tremaining: 51.4s\n",
      "85:\tlearn: 0.2495184\ttotal: 4.84s\tremaining: 51.4s\n",
      "86:\tlearn: 0.2494789\ttotal: 4.91s\tremaining: 51.6s\n",
      "87:\tlearn: 0.2494319\ttotal: 4.99s\tremaining: 51.7s\n",
      "88:\tlearn: 0.2493842\ttotal: 5.06s\tremaining: 51.8s\n",
      "89:\tlearn: 0.2493082\ttotal: 5.12s\tremaining: 51.8s\n",
      "90:\tlearn: 0.2492612\ttotal: 5.18s\tremaining: 51.8s\n",
      "91:\tlearn: 0.2491877\ttotal: 5.25s\tremaining: 51.8s\n",
      "92:\tlearn: 0.2491318\ttotal: 5.32s\tremaining: 51.8s\n",
      "93:\tlearn: 0.2490665\ttotal: 5.39s\tremaining: 51.9s\n",
      "94:\tlearn: 0.2490288\ttotal: 5.45s\tremaining: 51.9s\n",
      "95:\tlearn: 0.2489685\ttotal: 5.52s\tremaining: 52s\n",
      "96:\tlearn: 0.2488618\ttotal: 5.61s\tremaining: 52.2s\n",
      "97:\tlearn: 0.2487900\ttotal: 5.67s\tremaining: 52.2s\n",
      "98:\tlearn: 0.2487230\ttotal: 5.75s\tremaining: 52.3s\n",
      "99:\tlearn: 0.2486557\ttotal: 5.81s\tremaining: 52.3s\n",
      "100:\tlearn: 0.2485954\ttotal: 5.87s\tremaining: 52.2s\n",
      "101:\tlearn: 0.2485281\ttotal: 5.91s\tremaining: 52.1s\n",
      "102:\tlearn: 0.2484921\ttotal: 5.96s\tremaining: 51.9s\n",
      "103:\tlearn: 0.2484671\ttotal: 6.02s\tremaining: 51.9s\n",
      "104:\tlearn: 0.2483873\ttotal: 6.09s\tremaining: 51.9s\n",
      "105:\tlearn: 0.2482726\ttotal: 6.15s\tremaining: 51.9s\n",
      "106:\tlearn: 0.2482290\ttotal: 6.21s\tremaining: 51.8s\n",
      "107:\tlearn: 0.2481864\ttotal: 6.28s\tremaining: 51.8s\n",
      "108:\tlearn: 0.2481304\ttotal: 6.34s\tremaining: 51.9s\n",
      "109:\tlearn: 0.2480972\ttotal: 6.42s\tremaining: 51.9s\n",
      "110:\tlearn: 0.2480368\ttotal: 6.49s\tremaining: 52s\n",
      "111:\tlearn: 0.2479927\ttotal: 6.56s\tremaining: 52s\n",
      "112:\tlearn: 0.2479323\ttotal: 6.63s\tremaining: 52.1s\n",
      "113:\tlearn: 0.2478493\ttotal: 6.7s\tremaining: 52.1s\n",
      "114:\tlearn: 0.2478109\ttotal: 6.77s\tremaining: 52.1s\n",
      "115:\tlearn: 0.2477499\ttotal: 6.83s\tremaining: 52.1s\n",
      "116:\tlearn: 0.2476893\ttotal: 6.92s\tremaining: 52.2s\n",
      "117:\tlearn: 0.2476424\ttotal: 6.99s\tremaining: 52.2s\n",
      "118:\tlearn: 0.2475532\ttotal: 7.05s\tremaining: 52.2s\n",
      "119:\tlearn: 0.2474997\ttotal: 7.12s\tremaining: 52.2s\n",
      "120:\tlearn: 0.2474433\ttotal: 7.19s\tremaining: 52.2s\n",
      "121:\tlearn: 0.2473746\ttotal: 7.25s\tremaining: 52.2s\n",
      "122:\tlearn: 0.2473120\ttotal: 7.29s\tremaining: 52s\n",
      "123:\tlearn: 0.2472711\ttotal: 7.34s\tremaining: 51.9s\n",
      "124:\tlearn: 0.2472174\ttotal: 7.39s\tremaining: 51.7s\n",
      "125:\tlearn: 0.2471650\ttotal: 7.43s\tremaining: 51.6s\n",
      "126:\tlearn: 0.2470947\ttotal: 7.49s\tremaining: 51.5s\n",
      "127:\tlearn: 0.2470092\ttotal: 7.53s\tremaining: 51.3s\n",
      "128:\tlearn: 0.2469546\ttotal: 7.58s\tremaining: 51.2s\n",
      "129:\tlearn: 0.2468711\ttotal: 7.63s\tremaining: 51.1s\n",
      "130:\tlearn: 0.2468292\ttotal: 7.67s\tremaining: 50.9s\n",
      "131:\tlearn: 0.2467707\ttotal: 7.72s\tremaining: 50.8s\n",
      "132:\tlearn: 0.2467164\ttotal: 7.77s\tremaining: 50.7s\n",
      "133:\tlearn: 0.2466666\ttotal: 7.83s\tremaining: 50.6s\n",
      "134:\tlearn: 0.2465980\ttotal: 7.88s\tremaining: 50.5s\n",
      "135:\tlearn: 0.2465325\ttotal: 7.93s\tremaining: 50.4s\n",
      "136:\tlearn: 0.2464567\ttotal: 7.98s\tremaining: 50.3s\n",
      "137:\tlearn: 0.2463964\ttotal: 8.03s\tremaining: 50.1s\n",
      "138:\tlearn: 0.2463459\ttotal: 8.08s\tremaining: 50s\n",
      "139:\tlearn: 0.2462778\ttotal: 8.12s\tremaining: 49.9s\n",
      "140:\tlearn: 0.2462209\ttotal: 8.17s\tremaining: 49.8s\n",
      "141:\tlearn: 0.2461622\ttotal: 8.21s\tremaining: 49.6s\n",
      "142:\tlearn: 0.2460949\ttotal: 8.26s\tremaining: 49.5s\n",
      "143:\tlearn: 0.2460602\ttotal: 8.3s\tremaining: 49.4s\n",
      "144:\tlearn: 0.2459809\ttotal: 8.35s\tremaining: 49.2s\n",
      "145:\tlearn: 0.2459331\ttotal: 8.39s\tremaining: 49.1s\n",
      "146:\tlearn: 0.2458827\ttotal: 8.44s\tremaining: 49s\n",
      "147:\tlearn: 0.2458312\ttotal: 8.51s\tremaining: 49s\n",
      "148:\tlearn: 0.2457717\ttotal: 8.56s\tremaining: 48.9s\n",
      "149:\tlearn: 0.2457166\ttotal: 8.61s\tremaining: 48.8s\n",
      "150:\tlearn: 0.2456609\ttotal: 8.67s\tremaining: 48.7s\n",
      "151:\tlearn: 0.2455829\ttotal: 8.75s\tremaining: 48.8s\n",
      "152:\tlearn: 0.2455383\ttotal: 8.83s\tremaining: 48.9s\n",
      "153:\tlearn: 0.2454779\ttotal: 8.93s\tremaining: 49.1s\n",
      "154:\tlearn: 0.2454268\ttotal: 9.02s\tremaining: 49.2s\n",
      "155:\tlearn: 0.2453866\ttotal: 9.09s\tremaining: 49.2s\n",
      "156:\tlearn: 0.2453483\ttotal: 9.17s\tremaining: 49.2s\n",
      "157:\tlearn: 0.2452998\ttotal: 9.23s\tremaining: 49.2s\n",
      "158:\tlearn: 0.2452274\ttotal: 9.3s\tremaining: 49.2s\n",
      "159:\tlearn: 0.2451557\ttotal: 9.37s\tremaining: 49.2s\n"
     ]
    },
    {
     "name": "stdout",
     "output_type": "stream",
     "text": [
      "160:\tlearn: 0.2450916\ttotal: 9.43s\tremaining: 49.2s\n",
      "161:\tlearn: 0.2450356\ttotal: 9.49s\tremaining: 49.1s\n",
      "162:\tlearn: 0.2449573\ttotal: 9.54s\tremaining: 49s\n",
      "163:\tlearn: 0.2448931\ttotal: 9.59s\tremaining: 48.9s\n",
      "164:\tlearn: 0.2448498\ttotal: 9.63s\tremaining: 48.7s\n",
      "165:\tlearn: 0.2447834\ttotal: 9.68s\tremaining: 48.6s\n",
      "166:\tlearn: 0.2447378\ttotal: 9.73s\tremaining: 48.5s\n",
      "167:\tlearn: 0.2446605\ttotal: 9.78s\tremaining: 48.5s\n",
      "168:\tlearn: 0.2446066\ttotal: 9.85s\tremaining: 48.4s\n",
      "169:\tlearn: 0.2445514\ttotal: 9.9s\tremaining: 48.3s\n",
      "170:\tlearn: 0.2444694\ttotal: 9.95s\tremaining: 48.2s\n",
      "171:\tlearn: 0.2444145\ttotal: 10s\tremaining: 48.2s\n",
      "172:\tlearn: 0.2443587\ttotal: 10.1s\tremaining: 48.2s\n",
      "173:\tlearn: 0.2443281\ttotal: 10.1s\tremaining: 48.1s\n",
      "174:\tlearn: 0.2442657\ttotal: 10.2s\tremaining: 48.1s\n",
      "175:\tlearn: 0.2441917\ttotal: 10.3s\tremaining: 48.2s\n",
      "176:\tlearn: 0.2441395\ttotal: 10.4s\tremaining: 48.1s\n",
      "177:\tlearn: 0.2440450\ttotal: 10.4s\tremaining: 48.1s\n",
      "178:\tlearn: 0.2440130\ttotal: 10.5s\tremaining: 48.1s\n",
      "179:\tlearn: 0.2439612\ttotal: 10.6s\tremaining: 48.1s\n",
      "180:\tlearn: 0.2439447\ttotal: 10.6s\tremaining: 48.1s\n",
      "181:\tlearn: 0.2439093\ttotal: 10.7s\tremaining: 48s\n",
      "182:\tlearn: 0.2438435\ttotal: 10.8s\tremaining: 48s\n",
      "183:\tlearn: 0.2437907\ttotal: 10.8s\tremaining: 48s\n",
      "184:\tlearn: 0.2437598\ttotal: 10.9s\tremaining: 47.9s\n",
      "185:\tlearn: 0.2436883\ttotal: 10.9s\tremaining: 47.8s\n",
      "186:\tlearn: 0.2436475\ttotal: 11s\tremaining: 47.7s\n",
      "187:\tlearn: 0.2435872\ttotal: 11s\tremaining: 47.6s\n",
      "188:\tlearn: 0.2435471\ttotal: 11.1s\tremaining: 47.5s\n",
      "189:\tlearn: 0.2434981\ttotal: 11.1s\tremaining: 47.4s\n",
      "190:\tlearn: 0.2434257\ttotal: 11.2s\tremaining: 47.3s\n",
      "191:\tlearn: 0.2433654\ttotal: 11.2s\tremaining: 47.1s\n",
      "192:\tlearn: 0.2433185\ttotal: 11.2s\tremaining: 47s\n",
      "193:\tlearn: 0.2432439\ttotal: 11.3s\tremaining: 46.9s\n",
      "194:\tlearn: 0.2431978\ttotal: 11.3s\tremaining: 46.8s\n",
      "195:\tlearn: 0.2431491\ttotal: 11.4s\tremaining: 46.7s\n",
      "196:\tlearn: 0.2430913\ttotal: 11.4s\tremaining: 46.6s\n",
      "197:\tlearn: 0.2430559\ttotal: 11.5s\tremaining: 46.5s\n",
      "198:\tlearn: 0.2430158\ttotal: 11.6s\tremaining: 46.5s\n",
      "199:\tlearn: 0.2429542\ttotal: 11.6s\tremaining: 46.4s\n",
      "200:\tlearn: 0.2428889\ttotal: 11.7s\tremaining: 46.3s\n",
      "201:\tlearn: 0.2428143\ttotal: 11.7s\tremaining: 46.2s\n",
      "202:\tlearn: 0.2427550\ttotal: 11.7s\tremaining: 46.1s\n",
      "203:\tlearn: 0.2426842\ttotal: 11.8s\tremaining: 46.1s\n",
      "204:\tlearn: 0.2426221\ttotal: 11.9s\tremaining: 46.1s\n",
      "205:\tlearn: 0.2425752\ttotal: 12s\tremaining: 46.1s\n",
      "206:\tlearn: 0.2425102\ttotal: 12s\tremaining: 46.1s\n",
      "207:\tlearn: 0.2424625\ttotal: 12.1s\tremaining: 46s\n",
      "208:\tlearn: 0.2424071\ttotal: 12.1s\tremaining: 46s\n",
      "209:\tlearn: 0.2423516\ttotal: 12.2s\tremaining: 45.8s\n",
      "210:\tlearn: 0.2422995\ttotal: 12.2s\tremaining: 45.8s\n",
      "211:\tlearn: 0.2422559\ttotal: 12.3s\tremaining: 45.7s\n",
      "212:\tlearn: 0.2422188\ttotal: 12.3s\tremaining: 45.5s\n",
      "213:\tlearn: 0.2421719\ttotal: 12.4s\tremaining: 45.4s\n",
      "214:\tlearn: 0.2421143\ttotal: 12.4s\tremaining: 45.3s\n",
      "215:\tlearn: 0.2420642\ttotal: 12.5s\tremaining: 45.2s\n",
      "216:\tlearn: 0.2420208\ttotal: 12.5s\tremaining: 45.1s\n",
      "217:\tlearn: 0.2419901\ttotal: 12.5s\tremaining: 45s\n",
      "218:\tlearn: 0.2419185\ttotal: 12.6s\tremaining: 44.9s\n",
      "219:\tlearn: 0.2418717\ttotal: 12.6s\tremaining: 44.8s\n",
      "220:\tlearn: 0.2418383\ttotal: 12.7s\tremaining: 44.8s\n",
      "221:\tlearn: 0.2417873\ttotal: 12.8s\tremaining: 44.7s\n",
      "222:\tlearn: 0.2417243\ttotal: 12.8s\tremaining: 44.7s\n",
      "223:\tlearn: 0.2416613\ttotal: 12.9s\tremaining: 44.6s\n",
      "224:\tlearn: 0.2416106\ttotal: 12.9s\tremaining: 44.5s\n",
      "225:\tlearn: 0.2415779\ttotal: 13s\tremaining: 44.4s\n",
      "226:\tlearn: 0.2415097\ttotal: 13s\tremaining: 44.4s\n",
      "227:\tlearn: 0.2414639\ttotal: 13.1s\tremaining: 44.3s\n",
      "228:\tlearn: 0.2413956\ttotal: 13.1s\tremaining: 44.2s\n",
      "229:\tlearn: 0.2413468\ttotal: 13.2s\tremaining: 44.1s\n",
      "230:\tlearn: 0.2413010\ttotal: 13.2s\tremaining: 44s\n",
      "231:\tlearn: 0.2412577\ttotal: 13.3s\tremaining: 44s\n",
      "232:\tlearn: 0.2412223\ttotal: 13.4s\tremaining: 44s\n",
      "233:\tlearn: 0.2411557\ttotal: 13.4s\tremaining: 43.9s\n",
      "234:\tlearn: 0.2411389\ttotal: 13.5s\tremaining: 43.8s\n",
      "235:\tlearn: 0.2411062\ttotal: 13.5s\tremaining: 43.7s\n",
      "236:\tlearn: 0.2410638\ttotal: 13.5s\tremaining: 43.6s\n",
      "237:\tlearn: 0.2410131\ttotal: 13.6s\tremaining: 43.5s\n",
      "238:\tlearn: 0.2409481\ttotal: 13.6s\tremaining: 43.4s\n",
      "239:\tlearn: 0.2409054\ttotal: 13.7s\tremaining: 43.3s\n",
      "240:\tlearn: 0.2408564\ttotal: 13.8s\tremaining: 43.3s\n",
      "241:\tlearn: 0.2408102\ttotal: 13.8s\tremaining: 43.3s\n",
      "242:\tlearn: 0.2407560\ttotal: 13.9s\tremaining: 43.2s\n",
      "243:\tlearn: 0.2407214\ttotal: 13.9s\tremaining: 43.1s\n",
      "244:\tlearn: 0.2406885\ttotal: 14s\tremaining: 43s\n",
      "245:\tlearn: 0.2406453\ttotal: 14s\tremaining: 42.9s\n",
      "246:\tlearn: 0.2406190\ttotal: 14s\tremaining: 42.8s\n",
      "247:\tlearn: 0.2405781\ttotal: 14.1s\tremaining: 42.7s\n",
      "248:\tlearn: 0.2405562\ttotal: 14.1s\tremaining: 42.6s\n",
      "249:\tlearn: 0.2405086\ttotal: 14.2s\tremaining: 42.5s\n",
      "250:\tlearn: 0.2404466\ttotal: 14.2s\tremaining: 42.5s\n",
      "251:\tlearn: 0.2403920\ttotal: 14.3s\tremaining: 42.4s\n",
      "252:\tlearn: 0.2403447\ttotal: 14.3s\tremaining: 42.3s\n",
      "253:\tlearn: 0.2403061\ttotal: 14.4s\tremaining: 42.2s\n",
      "254:\tlearn: 0.2402603\ttotal: 14.4s\tremaining: 42.1s\n",
      "255:\tlearn: 0.2402311\ttotal: 14.5s\tremaining: 42s\n",
      "256:\tlearn: 0.2401951\ttotal: 14.5s\tremaining: 42s\n",
      "257:\tlearn: 0.2401554\ttotal: 14.6s\tremaining: 41.9s\n",
      "258:\tlearn: 0.2401089\ttotal: 14.6s\tremaining: 41.8s\n",
      "259:\tlearn: 0.2400718\ttotal: 14.7s\tremaining: 41.7s\n",
      "260:\tlearn: 0.2400272\ttotal: 14.7s\tremaining: 41.6s\n",
      "261:\tlearn: 0.2399808\ttotal: 14.8s\tremaining: 41.6s\n",
      "262:\tlearn: 0.2399433\ttotal: 14.8s\tremaining: 41.5s\n",
      "263:\tlearn: 0.2398728\ttotal: 14.9s\tremaining: 41.5s\n",
      "264:\tlearn: 0.2398377\ttotal: 14.9s\tremaining: 41.4s\n",
      "265:\tlearn: 0.2397977\ttotal: 15s\tremaining: 41.4s\n",
      "266:\tlearn: 0.2397366\ttotal: 15s\tremaining: 41.3s\n",
      "267:\tlearn: 0.2396681\ttotal: 15.1s\tremaining: 41.2s\n",
      "268:\tlearn: 0.2396370\ttotal: 15.2s\tremaining: 41.2s\n",
      "269:\tlearn: 0.2395962\ttotal: 15.2s\tremaining: 41.2s\n",
      "270:\tlearn: 0.2395533\ttotal: 15.3s\tremaining: 41.2s\n",
      "271:\tlearn: 0.2395196\ttotal: 15.4s\tremaining: 41.1s\n",
      "272:\tlearn: 0.2394882\ttotal: 15.4s\tremaining: 41.1s\n",
      "273:\tlearn: 0.2394408\ttotal: 15.5s\tremaining: 41.1s\n",
      "274:\tlearn: 0.2393770\ttotal: 15.6s\tremaining: 41s\n",
      "275:\tlearn: 0.2393331\ttotal: 15.6s\tremaining: 40.9s\n",
      "276:\tlearn: 0.2392951\ttotal: 15.6s\tremaining: 40.8s\n",
      "277:\tlearn: 0.2392609\ttotal: 15.7s\tremaining: 40.8s\n",
      "278:\tlearn: 0.2392123\ttotal: 15.8s\tremaining: 40.8s\n",
      "279:\tlearn: 0.2391577\ttotal: 15.8s\tremaining: 40.7s\n",
      "280:\tlearn: 0.2391244\ttotal: 15.9s\tremaining: 40.6s\n",
      "281:\tlearn: 0.2390793\ttotal: 15.9s\tremaining: 40.5s\n",
      "282:\tlearn: 0.2390355\ttotal: 16s\tremaining: 40.5s\n",
      "283:\tlearn: 0.2390060\ttotal: 16.1s\tremaining: 40.5s\n",
      "284:\tlearn: 0.2389725\ttotal: 16.1s\tremaining: 40.4s\n",
      "285:\tlearn: 0.2389257\ttotal: 16.2s\tremaining: 40.4s\n",
      "286:\tlearn: 0.2388834\ttotal: 16.3s\tremaining: 40.4s\n",
      "287:\tlearn: 0.2388411\ttotal: 16.3s\tremaining: 40.4s\n",
      "288:\tlearn: 0.2388027\ttotal: 16.4s\tremaining: 40.3s\n",
      "289:\tlearn: 0.2387714\ttotal: 16.4s\tremaining: 40.2s\n",
      "290:\tlearn: 0.2387361\ttotal: 16.5s\tremaining: 40.1s\n",
      "291:\tlearn: 0.2386879\ttotal: 16.5s\tremaining: 40s\n",
      "292:\tlearn: 0.2386289\ttotal: 16.6s\tremaining: 39.9s\n",
      "293:\tlearn: 0.2385554\ttotal: 16.6s\tremaining: 39.9s\n",
      "294:\tlearn: 0.2385216\ttotal: 16.6s\tremaining: 39.8s\n",
      "295:\tlearn: 0.2384907\ttotal: 16.7s\tremaining: 39.7s\n",
      "296:\tlearn: 0.2384622\ttotal: 16.7s\tremaining: 39.6s\n",
      "297:\tlearn: 0.2383948\ttotal: 16.8s\tremaining: 39.6s\n",
      "298:\tlearn: 0.2383483\ttotal: 16.9s\tremaining: 39.6s\n",
      "299:\tlearn: 0.2383100\ttotal: 16.9s\tremaining: 39.5s\n",
      "300:\tlearn: 0.2382764\ttotal: 17s\tremaining: 39.4s\n",
      "301:\tlearn: 0.2382339\ttotal: 17s\tremaining: 39.3s\n",
      "302:\tlearn: 0.2381866\ttotal: 17.1s\tremaining: 39.3s\n",
      "303:\tlearn: 0.2381376\ttotal: 17.1s\tremaining: 39.3s\n",
      "304:\tlearn: 0.2380790\ttotal: 17.2s\tremaining: 39.2s\n",
      "305:\tlearn: 0.2380137\ttotal: 17.2s\tremaining: 39.1s\n",
      "306:\tlearn: 0.2379553\ttotal: 17.3s\tremaining: 39s\n",
      "307:\tlearn: 0.2379236\ttotal: 17.4s\tremaining: 39s\n",
      "308:\tlearn: 0.2378651\ttotal: 17.4s\tremaining: 39s\n",
      "309:\tlearn: 0.2378290\ttotal: 17.5s\tremaining: 38.9s\n",
      "310:\tlearn: 0.2378045\ttotal: 17.5s\tremaining: 38.8s\n",
      "311:\tlearn: 0.2377795\ttotal: 17.6s\tremaining: 38.8s\n",
      "312:\tlearn: 0.2377137\ttotal: 17.6s\tremaining: 38.7s\n",
      "313:\tlearn: 0.2376635\ttotal: 17.7s\tremaining: 38.7s\n",
      "314:\tlearn: 0.2376278\ttotal: 17.7s\tremaining: 38.6s\n",
      "315:\tlearn: 0.2376066\ttotal: 17.8s\tremaining: 38.5s\n",
      "316:\tlearn: 0.2375783\ttotal: 17.8s\tremaining: 38.4s\n",
      "317:\tlearn: 0.2375388\ttotal: 17.9s\tremaining: 38.4s\n",
      "318:\tlearn: 0.2374967\ttotal: 17.9s\tremaining: 38.3s\n"
     ]
    },
    {
     "name": "stdout",
     "output_type": "stream",
     "text": [
      "319:\tlearn: 0.2374451\ttotal: 18s\tremaining: 38.2s\n",
      "320:\tlearn: 0.2374066\ttotal: 18s\tremaining: 38.1s\n",
      "321:\tlearn: 0.2373675\ttotal: 18.1s\tremaining: 38.1s\n",
      "322:\tlearn: 0.2373448\ttotal: 18.1s\tremaining: 38s\n",
      "323:\tlearn: 0.2372809\ttotal: 18.2s\tremaining: 37.9s\n",
      "324:\tlearn: 0.2372235\ttotal: 18.2s\tremaining: 37.9s\n",
      "325:\tlearn: 0.2371853\ttotal: 18.3s\tremaining: 37.9s\n",
      "326:\tlearn: 0.2371417\ttotal: 18.4s\tremaining: 37.8s\n",
      "327:\tlearn: 0.2371146\ttotal: 18.4s\tremaining: 37.8s\n",
      "328:\tlearn: 0.2370722\ttotal: 18.5s\tremaining: 37.7s\n",
      "329:\tlearn: 0.2370399\ttotal: 18.5s\tremaining: 37.7s\n",
      "330:\tlearn: 0.2369884\ttotal: 18.6s\tremaining: 37.6s\n",
      "331:\tlearn: 0.2369397\ttotal: 18.7s\tremaining: 37.5s\n",
      "332:\tlearn: 0.2369088\ttotal: 18.7s\tremaining: 37.5s\n",
      "333:\tlearn: 0.2368800\ttotal: 18.8s\tremaining: 37.4s\n",
      "334:\tlearn: 0.2368198\ttotal: 18.8s\tremaining: 37.4s\n",
      "335:\tlearn: 0.2367623\ttotal: 18.9s\tremaining: 37.3s\n",
      "336:\tlearn: 0.2367220\ttotal: 18.9s\tremaining: 37.2s\n",
      "337:\tlearn: 0.2366843\ttotal: 19s\tremaining: 37.2s\n",
      "338:\tlearn: 0.2366688\ttotal: 19s\tremaining: 37.1s\n",
      "339:\tlearn: 0.2366038\ttotal: 19.1s\tremaining: 37s\n",
      "340:\tlearn: 0.2365524\ttotal: 19.1s\tremaining: 37s\n",
      "341:\tlearn: 0.2365281\ttotal: 19.2s\tremaining: 36.9s\n",
      "342:\tlearn: 0.2364979\ttotal: 19.2s\tremaining: 36.8s\n",
      "343:\tlearn: 0.2364696\ttotal: 19.3s\tremaining: 36.7s\n",
      "344:\tlearn: 0.2364341\ttotal: 19.3s\tremaining: 36.6s\n",
      "345:\tlearn: 0.2364023\ttotal: 19.3s\tremaining: 36.6s\n",
      "346:\tlearn: 0.2363631\ttotal: 19.4s\tremaining: 36.5s\n",
      "347:\tlearn: 0.2363266\ttotal: 19.4s\tremaining: 36.4s\n",
      "348:\tlearn: 0.2362824\ttotal: 19.5s\tremaining: 36.4s\n",
      "349:\tlearn: 0.2362182\ttotal: 19.5s\tremaining: 36.3s\n",
      "350:\tlearn: 0.2361894\ttotal: 19.6s\tremaining: 36.2s\n",
      "351:\tlearn: 0.2361586\ttotal: 19.6s\tremaining: 36.1s\n",
      "352:\tlearn: 0.2361255\ttotal: 19.7s\tremaining: 36.1s\n",
      "353:\tlearn: 0.2360786\ttotal: 19.7s\tremaining: 36s\n",
      "354:\tlearn: 0.2360644\ttotal: 19.8s\tremaining: 35.9s\n",
      "355:\tlearn: 0.2360251\ttotal: 19.8s\tremaining: 35.9s\n",
      "356:\tlearn: 0.2359769\ttotal: 19.9s\tremaining: 35.8s\n",
      "357:\tlearn: 0.2359345\ttotal: 19.9s\tremaining: 35.7s\n",
      "358:\tlearn: 0.2359016\ttotal: 20s\tremaining: 35.6s\n",
      "359:\tlearn: 0.2358705\ttotal: 20s\tremaining: 35.6s\n",
      "360:\tlearn: 0.2358426\ttotal: 20.1s\tremaining: 35.5s\n",
      "361:\tlearn: 0.2358116\ttotal: 20.1s\tremaining: 35.4s\n",
      "362:\tlearn: 0.2357650\ttotal: 20.1s\tremaining: 35.3s\n",
      "363:\tlearn: 0.2357193\ttotal: 20.2s\tremaining: 35.3s\n",
      "364:\tlearn: 0.2356779\ttotal: 20.2s\tremaining: 35.2s\n",
      "365:\tlearn: 0.2356521\ttotal: 20.3s\tremaining: 35.1s\n",
      "366:\tlearn: 0.2356162\ttotal: 20.3s\tremaining: 35s\n",
      "367:\tlearn: 0.2355980\ttotal: 20.4s\tremaining: 35s\n",
      "368:\tlearn: 0.2355584\ttotal: 20.4s\tremaining: 34.9s\n",
      "369:\tlearn: 0.2355373\ttotal: 20.4s\tremaining: 34.8s\n",
      "370:\tlearn: 0.2355051\ttotal: 20.5s\tremaining: 34.7s\n",
      "371:\tlearn: 0.2354682\ttotal: 20.5s\tremaining: 34.7s\n",
      "372:\tlearn: 0.2354298\ttotal: 20.6s\tremaining: 34.6s\n",
      "373:\tlearn: 0.2354070\ttotal: 20.6s\tremaining: 34.5s\n",
      "374:\tlearn: 0.2353796\ttotal: 20.7s\tremaining: 34.4s\n",
      "375:\tlearn: 0.2353501\ttotal: 20.7s\tremaining: 34.4s\n",
      "376:\tlearn: 0.2353006\ttotal: 20.7s\tremaining: 34.3s\n",
      "377:\tlearn: 0.2352571\ttotal: 20.8s\tremaining: 34.2s\n",
      "378:\tlearn: 0.2352183\ttotal: 20.8s\tremaining: 34.2s\n",
      "379:\tlearn: 0.2351783\ttotal: 20.9s\tremaining: 34.1s\n",
      "380:\tlearn: 0.2351441\ttotal: 20.9s\tremaining: 34s\n",
      "381:\tlearn: 0.2350837\ttotal: 21s\tremaining: 33.9s\n",
      "382:\tlearn: 0.2350657\ttotal: 21s\tremaining: 33.9s\n",
      "383:\tlearn: 0.2350187\ttotal: 21.1s\tremaining: 33.8s\n",
      "384:\tlearn: 0.2349933\ttotal: 21.1s\tremaining: 33.8s\n",
      "385:\tlearn: 0.2349464\ttotal: 21.2s\tremaining: 33.7s\n",
      "386:\tlearn: 0.2349195\ttotal: 21.3s\tremaining: 33.7s\n",
      "387:\tlearn: 0.2348667\ttotal: 21.3s\tremaining: 33.6s\n",
      "388:\tlearn: 0.2348278\ttotal: 21.4s\tremaining: 33.6s\n",
      "389:\tlearn: 0.2347811\ttotal: 21.4s\tremaining: 33.5s\n",
      "390:\tlearn: 0.2347285\ttotal: 21.5s\tremaining: 33.4s\n",
      "391:\tlearn: 0.2347123\ttotal: 21.5s\tremaining: 33.4s\n",
      "392:\tlearn: 0.2346819\ttotal: 21.6s\tremaining: 33.3s\n",
      "393:\tlearn: 0.2346242\ttotal: 21.6s\tremaining: 33.3s\n",
      "394:\tlearn: 0.2345951\ttotal: 21.7s\tremaining: 33.2s\n",
      "395:\tlearn: 0.2345620\ttotal: 21.7s\tremaining: 33.2s\n",
      "396:\tlearn: 0.2345174\ttotal: 21.8s\tremaining: 33.1s\n",
      "397:\tlearn: 0.2344995\ttotal: 21.8s\tremaining: 33s\n",
      "398:\tlearn: 0.2344441\ttotal: 21.9s\tremaining: 33s\n",
      "399:\tlearn: 0.2343902\ttotal: 21.9s\tremaining: 32.9s\n",
      "400:\tlearn: 0.2343477\ttotal: 22s\tremaining: 32.9s\n",
      "401:\tlearn: 0.2343021\ttotal: 22.1s\tremaining: 32.8s\n",
      "402:\tlearn: 0.2342810\ttotal: 22.2s\tremaining: 32.8s\n",
      "403:\tlearn: 0.2342500\ttotal: 22.2s\tremaining: 32.8s\n",
      "404:\tlearn: 0.2342051\ttotal: 22.2s\tremaining: 32.7s\n",
      "405:\tlearn: 0.2341827\ttotal: 22.3s\tremaining: 32.6s\n",
      "406:\tlearn: 0.2341501\ttotal: 22.4s\tremaining: 32.6s\n",
      "407:\tlearn: 0.2341369\ttotal: 22.5s\tremaining: 32.6s\n",
      "408:\tlearn: 0.2340829\ttotal: 22.6s\tremaining: 32.6s\n",
      "409:\tlearn: 0.2340557\ttotal: 22.6s\tremaining: 32.6s\n",
      "410:\tlearn: 0.2340281\ttotal: 22.7s\tremaining: 32.5s\n",
      "411:\tlearn: 0.2339755\ttotal: 22.7s\tremaining: 32.4s\n",
      "412:\tlearn: 0.2339369\ttotal: 22.8s\tremaining: 32.3s\n",
      "413:\tlearn: 0.2338935\ttotal: 22.8s\tremaining: 32.3s\n",
      "414:\tlearn: 0.2338496\ttotal: 22.9s\tremaining: 32.2s\n",
      "415:\tlearn: 0.2338267\ttotal: 22.9s\tremaining: 32.2s\n",
      "416:\tlearn: 0.2337769\ttotal: 23s\tremaining: 32.2s\n",
      "417:\tlearn: 0.2337423\ttotal: 23.2s\tremaining: 32.2s\n",
      "418:\tlearn: 0.2337160\ttotal: 23.2s\tremaining: 32.2s\n",
      "419:\tlearn: 0.2336939\ttotal: 23.3s\tremaining: 32.1s\n",
      "420:\tlearn: 0.2336588\ttotal: 23.3s\tremaining: 32.1s\n",
      "421:\tlearn: 0.2336062\ttotal: 23.4s\tremaining: 32.1s\n",
      "422:\tlearn: 0.2335627\ttotal: 23.5s\tremaining: 32.1s\n",
      "423:\tlearn: 0.2335114\ttotal: 23.6s\tremaining: 32.1s\n",
      "424:\tlearn: 0.2334678\ttotal: 23.7s\tremaining: 32s\n",
      "425:\tlearn: 0.2334233\ttotal: 23.8s\tremaining: 32s\n",
      "426:\tlearn: 0.2333974\ttotal: 23.9s\tremaining: 32s\n",
      "427:\tlearn: 0.2333614\ttotal: 23.9s\tremaining: 32s\n",
      "428:\tlearn: 0.2333157\ttotal: 24s\tremaining: 31.9s\n",
      "429:\tlearn: 0.2332606\ttotal: 24s\tremaining: 31.9s\n",
      "430:\tlearn: 0.2332037\ttotal: 24.1s\tremaining: 31.8s\n",
      "431:\tlearn: 0.2331751\ttotal: 24.2s\tremaining: 31.8s\n",
      "432:\tlearn: 0.2331615\ttotal: 24.2s\tremaining: 31.7s\n",
      "433:\tlearn: 0.2331491\ttotal: 24.3s\tremaining: 31.7s\n",
      "434:\tlearn: 0.2330909\ttotal: 24.3s\tremaining: 31.6s\n",
      "435:\tlearn: 0.2330570\ttotal: 24.4s\tremaining: 31.6s\n",
      "436:\tlearn: 0.2330358\ttotal: 24.5s\tremaining: 31.5s\n",
      "437:\tlearn: 0.2329844\ttotal: 24.5s\tremaining: 31.5s\n",
      "438:\tlearn: 0.2329723\ttotal: 24.6s\tremaining: 31.4s\n",
      "439:\tlearn: 0.2329422\ttotal: 24.6s\tremaining: 31.4s\n",
      "440:\tlearn: 0.2329213\ttotal: 24.7s\tremaining: 31.3s\n",
      "441:\tlearn: 0.2329056\ttotal: 24.8s\tremaining: 31.3s\n",
      "442:\tlearn: 0.2328478\ttotal: 24.8s\tremaining: 31.2s\n",
      "443:\tlearn: 0.2328272\ttotal: 24.9s\tremaining: 31.1s\n",
      "444:\tlearn: 0.2327796\ttotal: 24.9s\tremaining: 31.1s\n",
      "445:\tlearn: 0.2327359\ttotal: 24.9s\tremaining: 31s\n",
      "446:\tlearn: 0.2327052\ttotal: 25s\tremaining: 30.9s\n",
      "447:\tlearn: 0.2326700\ttotal: 25s\tremaining: 30.8s\n",
      "448:\tlearn: 0.2326349\ttotal: 25.1s\tremaining: 30.8s\n",
      "449:\tlearn: 0.2325969\ttotal: 25.1s\tremaining: 30.7s\n",
      "450:\tlearn: 0.2325659\ttotal: 25.2s\tremaining: 30.7s\n",
      "451:\tlearn: 0.2325464\ttotal: 25.3s\tremaining: 30.6s\n",
      "452:\tlearn: 0.2325358\ttotal: 25.3s\tremaining: 30.6s\n",
      "453:\tlearn: 0.2325157\ttotal: 25.4s\tremaining: 30.5s\n",
      "454:\tlearn: 0.2324915\ttotal: 25.4s\tremaining: 30.4s\n",
      "455:\tlearn: 0.2324486\ttotal: 25.5s\tremaining: 30.4s\n",
      "456:\tlearn: 0.2323944\ttotal: 25.5s\tremaining: 30.3s\n",
      "457:\tlearn: 0.2323573\ttotal: 25.6s\tremaining: 30.2s\n",
      "458:\tlearn: 0.2323145\ttotal: 25.6s\tremaining: 30.2s\n",
      "459:\tlearn: 0.2322594\ttotal: 25.7s\tremaining: 30.1s\n",
      "460:\tlearn: 0.2322392\ttotal: 25.8s\tremaining: 30.1s\n",
      "461:\tlearn: 0.2321984\ttotal: 25.8s\tremaining: 30.1s\n",
      "462:\tlearn: 0.2321761\ttotal: 25.9s\tremaining: 30s\n",
      "463:\tlearn: 0.2321226\ttotal: 25.9s\tremaining: 29.9s\n",
      "464:\tlearn: 0.2320982\ttotal: 26s\tremaining: 29.9s\n",
      "465:\tlearn: 0.2320790\ttotal: 26.1s\tremaining: 29.9s\n",
      "466:\tlearn: 0.2320600\ttotal: 26.1s\tremaining: 29.8s\n",
      "467:\tlearn: 0.2320157\ttotal: 26.2s\tremaining: 29.8s\n",
      "468:\tlearn: 0.2319840\ttotal: 26.2s\tremaining: 29.7s\n",
      "469:\tlearn: 0.2319498\ttotal: 26.3s\tremaining: 29.7s\n",
      "470:\tlearn: 0.2319063\ttotal: 26.3s\tremaining: 29.6s\n",
      "471:\tlearn: 0.2318518\ttotal: 26.4s\tremaining: 29.5s\n",
      "472:\tlearn: 0.2318015\ttotal: 26.4s\tremaining: 29.5s\n",
      "473:\tlearn: 0.2317564\ttotal: 26.5s\tremaining: 29.4s\n",
      "474:\tlearn: 0.2317319\ttotal: 26.6s\tremaining: 29.4s\n",
      "475:\tlearn: 0.2316911\ttotal: 26.6s\tremaining: 29.3s\n",
      "476:\tlearn: 0.2316622\ttotal: 26.7s\tremaining: 29.3s\n",
      "477:\tlearn: 0.2316136\ttotal: 26.7s\tremaining: 29.2s\n"
     ]
    },
    {
     "name": "stdout",
     "output_type": "stream",
     "text": [
      "478:\tlearn: 0.2315837\ttotal: 26.8s\tremaining: 29.1s\n",
      "479:\tlearn: 0.2315437\ttotal: 26.8s\tremaining: 29.1s\n",
      "480:\tlearn: 0.2314745\ttotal: 26.9s\tremaining: 29s\n",
      "481:\tlearn: 0.2314252\ttotal: 27s\tremaining: 29s\n",
      "482:\tlearn: 0.2313928\ttotal: 27s\tremaining: 28.9s\n",
      "483:\tlearn: 0.2313705\ttotal: 27.1s\tremaining: 28.9s\n",
      "484:\tlearn: 0.2313137\ttotal: 27.1s\tremaining: 28.8s\n",
      "485:\tlearn: 0.2312708\ttotal: 27.2s\tremaining: 28.8s\n",
      "486:\tlearn: 0.2312282\ttotal: 27.3s\tremaining: 28.7s\n",
      "487:\tlearn: 0.2311883\ttotal: 27.3s\tremaining: 28.7s\n",
      "488:\tlearn: 0.2311614\ttotal: 27.4s\tremaining: 28.6s\n",
      "489:\tlearn: 0.2311175\ttotal: 27.5s\tremaining: 28.6s\n",
      "490:\tlearn: 0.2310970\ttotal: 27.5s\tremaining: 28.5s\n",
      "491:\tlearn: 0.2310579\ttotal: 27.6s\tremaining: 28.5s\n",
      "492:\tlearn: 0.2310219\ttotal: 27.6s\tremaining: 28.4s\n",
      "493:\tlearn: 0.2309873\ttotal: 27.7s\tremaining: 28.4s\n",
      "494:\tlearn: 0.2309602\ttotal: 27.7s\tremaining: 28.3s\n",
      "495:\tlearn: 0.2309396\ttotal: 27.8s\tremaining: 28.2s\n",
      "496:\tlearn: 0.2308956\ttotal: 27.8s\tremaining: 28.2s\n",
      "497:\tlearn: 0.2308587\ttotal: 27.9s\tremaining: 28.1s\n",
      "498:\tlearn: 0.2308275\ttotal: 27.9s\tremaining: 28.1s\n",
      "499:\tlearn: 0.2308062\ttotal: 28s\tremaining: 28s\n",
      "500:\tlearn: 0.2307694\ttotal: 28.1s\tremaining: 28s\n",
      "501:\tlearn: 0.2307227\ttotal: 28.1s\tremaining: 27.9s\n",
      "502:\tlearn: 0.2307012\ttotal: 28.2s\tremaining: 27.8s\n",
      "503:\tlearn: 0.2306834\ttotal: 28.2s\tremaining: 27.8s\n",
      "504:\tlearn: 0.2306339\ttotal: 28.3s\tremaining: 27.7s\n",
      "505:\tlearn: 0.2306160\ttotal: 28.3s\tremaining: 27.7s\n",
      "506:\tlearn: 0.2306058\ttotal: 28.4s\tremaining: 27.6s\n",
      "507:\tlearn: 0.2305768\ttotal: 28.4s\tremaining: 27.5s\n",
      "508:\tlearn: 0.2305598\ttotal: 28.5s\tremaining: 27.5s\n",
      "509:\tlearn: 0.2305242\ttotal: 28.5s\tremaining: 27.4s\n",
      "510:\tlearn: 0.2304764\ttotal: 28.6s\tremaining: 27.4s\n",
      "511:\tlearn: 0.2304476\ttotal: 28.7s\tremaining: 27.4s\n",
      "512:\tlearn: 0.2304184\ttotal: 28.8s\tremaining: 27.3s\n",
      "513:\tlearn: 0.2303874\ttotal: 28.8s\tremaining: 27.3s\n",
      "514:\tlearn: 0.2303600\ttotal: 28.9s\tremaining: 27.2s\n",
      "515:\tlearn: 0.2303352\ttotal: 28.9s\tremaining: 27.1s\n",
      "516:\tlearn: 0.2303116\ttotal: 29s\tremaining: 27.1s\n",
      "517:\tlearn: 0.2302668\ttotal: 29.1s\tremaining: 27.1s\n",
      "518:\tlearn: 0.2302257\ttotal: 29.2s\tremaining: 27s\n",
      "519:\tlearn: 0.2301956\ttotal: 29.4s\tremaining: 27.1s\n",
      "520:\tlearn: 0.2301742\ttotal: 29.6s\tremaining: 27.2s\n",
      "521:\tlearn: 0.2301360\ttotal: 29.7s\tremaining: 27.2s\n",
      "522:\tlearn: 0.2301074\ttotal: 29.8s\tremaining: 27.2s\n",
      "523:\tlearn: 0.2300613\ttotal: 29.9s\tremaining: 27.1s\n",
      "524:\tlearn: 0.2300187\ttotal: 29.9s\tremaining: 27.1s\n",
      "525:\tlearn: 0.2299758\ttotal: 30s\tremaining: 27.1s\n",
      "526:\tlearn: 0.2299523\ttotal: 30.1s\tremaining: 27s\n",
      "527:\tlearn: 0.2299379\ttotal: 30.2s\tremaining: 27s\n",
      "528:\tlearn: 0.2299217\ttotal: 30.2s\tremaining: 26.9s\n",
      "529:\tlearn: 0.2299037\ttotal: 30.3s\tremaining: 26.8s\n",
      "530:\tlearn: 0.2298862\ttotal: 30.3s\tremaining: 26.8s\n",
      "531:\tlearn: 0.2298255\ttotal: 30.4s\tremaining: 26.7s\n",
      "532:\tlearn: 0.2298057\ttotal: 30.4s\tremaining: 26.7s\n",
      "533:\tlearn: 0.2297665\ttotal: 30.5s\tremaining: 26.6s\n",
      "534:\tlearn: 0.2297188\ttotal: 30.5s\tremaining: 26.6s\n",
      "535:\tlearn: 0.2296826\ttotal: 30.6s\tremaining: 26.5s\n",
      "536:\tlearn: 0.2296544\ttotal: 30.7s\tremaining: 26.4s\n",
      "537:\tlearn: 0.2296291\ttotal: 30.7s\tremaining: 26.4s\n",
      "538:\tlearn: 0.2295872\ttotal: 30.8s\tremaining: 26.3s\n",
      "539:\tlearn: 0.2295438\ttotal: 30.8s\tremaining: 26.3s\n",
      "540:\tlearn: 0.2295359\ttotal: 30.9s\tremaining: 26.2s\n",
      "541:\tlearn: 0.2294984\ttotal: 31s\tremaining: 26.2s\n",
      "542:\tlearn: 0.2294485\ttotal: 31s\tremaining: 26.1s\n",
      "543:\tlearn: 0.2294289\ttotal: 31s\tremaining: 26s\n",
      "544:\tlearn: 0.2293897\ttotal: 31.1s\tremaining: 26s\n",
      "545:\tlearn: 0.2293691\ttotal: 31.2s\tremaining: 25.9s\n",
      "546:\tlearn: 0.2293297\ttotal: 31.2s\tremaining: 25.9s\n",
      "547:\tlearn: 0.2292873\ttotal: 31.3s\tremaining: 25.8s\n",
      "548:\tlearn: 0.2292635\ttotal: 31.4s\tremaining: 25.8s\n",
      "549:\tlearn: 0.2292112\ttotal: 31.5s\tremaining: 25.8s\n",
      "550:\tlearn: 0.2291659\ttotal: 31.8s\tremaining: 25.9s\n",
      "551:\tlearn: 0.2291425\ttotal: 31.8s\tremaining: 25.8s\n",
      "552:\tlearn: 0.2290945\ttotal: 31.9s\tremaining: 25.8s\n",
      "553:\tlearn: 0.2290401\ttotal: 31.9s\tremaining: 25.7s\n",
      "554:\tlearn: 0.2289864\ttotal: 32s\tremaining: 25.7s\n",
      "555:\tlearn: 0.2289401\ttotal: 32.1s\tremaining: 25.6s\n",
      "556:\tlearn: 0.2288925\ttotal: 32.1s\tremaining: 25.5s\n",
      "557:\tlearn: 0.2288546\ttotal: 32.2s\tremaining: 25.5s\n",
      "558:\tlearn: 0.2288361\ttotal: 32.3s\tremaining: 25.4s\n",
      "559:\tlearn: 0.2287952\ttotal: 32.3s\tremaining: 25.4s\n",
      "560:\tlearn: 0.2287580\ttotal: 32.4s\tremaining: 25.4s\n",
      "561:\tlearn: 0.2287246\ttotal: 32.4s\tremaining: 25.3s\n",
      "562:\tlearn: 0.2287047\ttotal: 32.5s\tremaining: 25.2s\n",
      "563:\tlearn: 0.2286761\ttotal: 32.5s\tremaining: 25.2s\n",
      "564:\tlearn: 0.2286412\ttotal: 32.6s\tremaining: 25.1s\n",
      "565:\tlearn: 0.2285946\ttotal: 32.6s\tremaining: 25s\n",
      "566:\tlearn: 0.2285712\ttotal: 32.7s\tremaining: 25s\n",
      "567:\tlearn: 0.2285250\ttotal: 32.7s\tremaining: 24.9s\n",
      "568:\tlearn: 0.2284687\ttotal: 32.8s\tremaining: 24.8s\n",
      "569:\tlearn: 0.2284454\ttotal: 32.8s\tremaining: 24.8s\n",
      "570:\tlearn: 0.2284058\ttotal: 32.9s\tremaining: 24.7s\n",
      "571:\tlearn: 0.2283559\ttotal: 32.9s\tremaining: 24.6s\n",
      "572:\tlearn: 0.2283274\ttotal: 33s\tremaining: 24.6s\n",
      "573:\tlearn: 0.2283033\ttotal: 33s\tremaining: 24.5s\n",
      "574:\tlearn: 0.2282580\ttotal: 33.1s\tremaining: 24.4s\n",
      "575:\tlearn: 0.2282367\ttotal: 33.1s\tremaining: 24.4s\n",
      "576:\tlearn: 0.2282181\ttotal: 33.2s\tremaining: 24.3s\n",
      "577:\tlearn: 0.2281775\ttotal: 33.2s\tremaining: 24.3s\n",
      "578:\tlearn: 0.2281281\ttotal: 33.3s\tremaining: 24.2s\n",
      "579:\tlearn: 0.2281003\ttotal: 33.3s\tremaining: 24.1s\n",
      "580:\tlearn: 0.2280631\ttotal: 33.4s\tremaining: 24.1s\n",
      "581:\tlearn: 0.2280176\ttotal: 33.4s\tremaining: 24s\n",
      "582:\tlearn: 0.2280042\ttotal: 33.5s\tremaining: 23.9s\n",
      "583:\tlearn: 0.2279664\ttotal: 33.5s\tremaining: 23.9s\n",
      "584:\tlearn: 0.2279348\ttotal: 33.6s\tremaining: 23.8s\n",
      "585:\tlearn: 0.2278936\ttotal: 33.6s\tremaining: 23.8s\n",
      "586:\tlearn: 0.2278524\ttotal: 33.7s\tremaining: 23.7s\n",
      "587:\tlearn: 0.2278040\ttotal: 33.8s\tremaining: 23.7s\n",
      "588:\tlearn: 0.2277683\ttotal: 33.8s\tremaining: 23.6s\n",
      "589:\tlearn: 0.2277165\ttotal: 33.9s\tremaining: 23.6s\n",
      "590:\tlearn: 0.2276703\ttotal: 33.9s\tremaining: 23.5s\n",
      "591:\tlearn: 0.2276141\ttotal: 34s\tremaining: 23.4s\n",
      "592:\tlearn: 0.2275716\ttotal: 34s\tremaining: 23.4s\n",
      "593:\tlearn: 0.2275602\ttotal: 34.1s\tremaining: 23.3s\n",
      "594:\tlearn: 0.2275404\ttotal: 34.1s\tremaining: 23.2s\n",
      "595:\tlearn: 0.2275348\ttotal: 34.2s\tremaining: 23.2s\n",
      "596:\tlearn: 0.2275056\ttotal: 34.2s\tremaining: 23.1s\n",
      "597:\tlearn: 0.2274926\ttotal: 34.3s\tremaining: 23s\n",
      "598:\tlearn: 0.2274581\ttotal: 34.3s\tremaining: 23s\n",
      "599:\tlearn: 0.2274328\ttotal: 34.4s\tremaining: 22.9s\n",
      "600:\tlearn: 0.2274011\ttotal: 34.4s\tremaining: 22.9s\n",
      "601:\tlearn: 0.2273726\ttotal: 34.5s\tremaining: 22.8s\n",
      "602:\tlearn: 0.2273394\ttotal: 34.6s\tremaining: 22.8s\n",
      "603:\tlearn: 0.2273041\ttotal: 34.6s\tremaining: 22.7s\n",
      "604:\tlearn: 0.2272546\ttotal: 34.7s\tremaining: 22.6s\n",
      "605:\tlearn: 0.2272251\ttotal: 34.7s\tremaining: 22.6s\n",
      "606:\tlearn: 0.2272137\ttotal: 34.8s\tremaining: 22.5s\n",
      "607:\tlearn: 0.2271785\ttotal: 34.8s\tremaining: 22.5s\n",
      "608:\tlearn: 0.2271442\ttotal: 34.9s\tremaining: 22.4s\n",
      "609:\tlearn: 0.2271110\ttotal: 34.9s\tremaining: 22.3s\n",
      "610:\tlearn: 0.2270740\ttotal: 35s\tremaining: 22.3s\n",
      "611:\tlearn: 0.2270277\ttotal: 35s\tremaining: 22.2s\n",
      "612:\tlearn: 0.2269937\ttotal: 35.1s\tremaining: 22.1s\n",
      "613:\tlearn: 0.2269711\ttotal: 35.1s\tremaining: 22.1s\n",
      "614:\tlearn: 0.2269249\ttotal: 35.2s\tremaining: 22s\n",
      "615:\tlearn: 0.2268902\ttotal: 35.2s\tremaining: 21.9s\n",
      "616:\tlearn: 0.2268578\ttotal: 35.2s\tremaining: 21.9s\n",
      "617:\tlearn: 0.2268134\ttotal: 35.3s\tremaining: 21.8s\n",
      "618:\tlearn: 0.2267861\ttotal: 35.3s\tremaining: 21.8s\n",
      "619:\tlearn: 0.2267516\ttotal: 35.4s\tremaining: 21.7s\n",
      "620:\tlearn: 0.2267104\ttotal: 35.4s\tremaining: 21.6s\n",
      "621:\tlearn: 0.2266876\ttotal: 35.5s\tremaining: 21.6s\n",
      "622:\tlearn: 0.2266379\ttotal: 35.5s\tremaining: 21.5s\n",
      "623:\tlearn: 0.2265987\ttotal: 35.6s\tremaining: 21.4s\n",
      "624:\tlearn: 0.2265697\ttotal: 35.6s\tremaining: 21.4s\n",
      "625:\tlearn: 0.2265289\ttotal: 35.7s\tremaining: 21.3s\n",
      "626:\tlearn: 0.2265163\ttotal: 35.7s\tremaining: 21.3s\n",
      "627:\tlearn: 0.2264610\ttotal: 35.8s\tremaining: 21.2s\n",
      "628:\tlearn: 0.2264030\ttotal: 35.8s\tremaining: 21.1s\n",
      "629:\tlearn: 0.2263571\ttotal: 35.9s\tremaining: 21.1s\n",
      "630:\tlearn: 0.2263068\ttotal: 35.9s\tremaining: 21s\n",
      "631:\tlearn: 0.2262670\ttotal: 36s\tremaining: 20.9s\n",
      "632:\tlearn: 0.2262175\ttotal: 36s\tremaining: 20.9s\n",
      "633:\tlearn: 0.2261986\ttotal: 36.1s\tremaining: 20.8s\n",
      "634:\tlearn: 0.2261848\ttotal: 36.1s\tremaining: 20.8s\n",
      "635:\tlearn: 0.2261449\ttotal: 36.2s\tremaining: 20.7s\n",
      "636:\tlearn: 0.2261091\ttotal: 36.2s\tremaining: 20.6s\n",
      "637:\tlearn: 0.2260567\ttotal: 36.3s\tremaining: 20.6s\n",
      "638:\tlearn: 0.2260194\ttotal: 36.3s\tremaining: 20.5s\n",
      "639:\tlearn: 0.2259800\ttotal: 36.4s\tremaining: 20.5s\n"
     ]
    },
    {
     "name": "stdout",
     "output_type": "stream",
     "text": [
      "640:\tlearn: 0.2259629\ttotal: 36.5s\tremaining: 20.4s\n",
      "641:\tlearn: 0.2259444\ttotal: 36.5s\tremaining: 20.4s\n",
      "642:\tlearn: 0.2258947\ttotal: 36.5s\tremaining: 20.3s\n",
      "643:\tlearn: 0.2258320\ttotal: 36.6s\tremaining: 20.2s\n",
      "644:\tlearn: 0.2257823\ttotal: 36.6s\tremaining: 20.2s\n",
      "645:\tlearn: 0.2257421\ttotal: 36.7s\tremaining: 20.1s\n",
      "646:\tlearn: 0.2257193\ttotal: 36.7s\tremaining: 20s\n",
      "647:\tlearn: 0.2256758\ttotal: 36.8s\tremaining: 20s\n",
      "648:\tlearn: 0.2256341\ttotal: 36.8s\tremaining: 19.9s\n",
      "649:\tlearn: 0.2255881\ttotal: 36.9s\tremaining: 19.9s\n",
      "650:\tlearn: 0.2255508\ttotal: 36.9s\tremaining: 19.8s\n",
      "651:\tlearn: 0.2255178\ttotal: 37s\tremaining: 19.7s\n",
      "652:\tlearn: 0.2254924\ttotal: 37s\tremaining: 19.7s\n",
      "653:\tlearn: 0.2254648\ttotal: 37.1s\tremaining: 19.6s\n",
      "654:\tlearn: 0.2254485\ttotal: 37.1s\tremaining: 19.6s\n",
      "655:\tlearn: 0.2254364\ttotal: 37.2s\tremaining: 19.5s\n",
      "656:\tlearn: 0.2253930\ttotal: 37.2s\tremaining: 19.4s\n",
      "657:\tlearn: 0.2253792\ttotal: 37.3s\tremaining: 19.4s\n",
      "658:\tlearn: 0.2253362\ttotal: 37.3s\tremaining: 19.3s\n",
      "659:\tlearn: 0.2253055\ttotal: 37.4s\tremaining: 19.2s\n",
      "660:\tlearn: 0.2252759\ttotal: 37.4s\tremaining: 19.2s\n",
      "661:\tlearn: 0.2252605\ttotal: 37.5s\tremaining: 19.1s\n",
      "662:\tlearn: 0.2252326\ttotal: 37.5s\tremaining: 19.1s\n",
      "663:\tlearn: 0.2251903\ttotal: 37.5s\tremaining: 19s\n",
      "664:\tlearn: 0.2251424\ttotal: 37.6s\tremaining: 18.9s\n",
      "665:\tlearn: 0.2251048\ttotal: 37.6s\tremaining: 18.9s\n",
      "666:\tlearn: 0.2250618\ttotal: 37.7s\tremaining: 18.8s\n",
      "667:\tlearn: 0.2250299\ttotal: 37.7s\tremaining: 18.8s\n",
      "668:\tlearn: 0.2250135\ttotal: 37.8s\tremaining: 18.7s\n",
      "669:\tlearn: 0.2249699\ttotal: 37.9s\tremaining: 18.6s\n",
      "670:\tlearn: 0.2249385\ttotal: 37.9s\tremaining: 18.6s\n",
      "671:\tlearn: 0.2249253\ttotal: 38s\tremaining: 18.5s\n",
      "672:\tlearn: 0.2248977\ttotal: 38s\tremaining: 18.5s\n",
      "673:\tlearn: 0.2248852\ttotal: 38.1s\tremaining: 18.4s\n",
      "674:\tlearn: 0.2248593\ttotal: 38.1s\tremaining: 18.4s\n",
      "675:\tlearn: 0.2248264\ttotal: 38.2s\tremaining: 18.3s\n",
      "676:\tlearn: 0.2248027\ttotal: 38.2s\tremaining: 18.2s\n",
      "677:\tlearn: 0.2247833\ttotal: 38.3s\tremaining: 18.2s\n",
      "678:\tlearn: 0.2247489\ttotal: 38.3s\tremaining: 18.1s\n",
      "679:\tlearn: 0.2247216\ttotal: 38.4s\tremaining: 18.1s\n",
      "680:\tlearn: 0.2246903\ttotal: 38.5s\tremaining: 18s\n",
      "681:\tlearn: 0.2246549\ttotal: 38.5s\tremaining: 18s\n",
      "682:\tlearn: 0.2246259\ttotal: 38.6s\tremaining: 17.9s\n",
      "683:\tlearn: 0.2245823\ttotal: 38.6s\tremaining: 17.8s\n",
      "684:\tlearn: 0.2245384\ttotal: 38.7s\tremaining: 17.8s\n",
      "685:\tlearn: 0.2245029\ttotal: 38.7s\tremaining: 17.7s\n",
      "686:\tlearn: 0.2244694\ttotal: 38.8s\tremaining: 17.7s\n",
      "687:\tlearn: 0.2244222\ttotal: 38.8s\tremaining: 17.6s\n",
      "688:\tlearn: 0.2243929\ttotal: 38.9s\tremaining: 17.5s\n",
      "689:\tlearn: 0.2243569\ttotal: 38.9s\tremaining: 17.5s\n",
      "690:\tlearn: 0.2243041\ttotal: 38.9s\tremaining: 17.4s\n",
      "691:\tlearn: 0.2242706\ttotal: 39s\tremaining: 17.4s\n",
      "692:\tlearn: 0.2242438\ttotal: 39.1s\tremaining: 17.3s\n",
      "693:\tlearn: 0.2242325\ttotal: 39.1s\tremaining: 17.2s\n",
      "694:\tlearn: 0.2241857\ttotal: 39.2s\tremaining: 17.2s\n",
      "695:\tlearn: 0.2241620\ttotal: 39.2s\tremaining: 17.1s\n",
      "696:\tlearn: 0.2241354\ttotal: 39.3s\tremaining: 17.1s\n",
      "697:\tlearn: 0.2240954\ttotal: 39.3s\tremaining: 17s\n",
      "698:\tlearn: 0.2240691\ttotal: 39.4s\tremaining: 16.9s\n",
      "699:\tlearn: 0.2240524\ttotal: 39.4s\tremaining: 16.9s\n",
      "700:\tlearn: 0.2240373\ttotal: 39.4s\tremaining: 16.8s\n",
      "701:\tlearn: 0.2240196\ttotal: 39.5s\tremaining: 16.8s\n",
      "702:\tlearn: 0.2239917\ttotal: 39.5s\tremaining: 16.7s\n",
      "703:\tlearn: 0.2239547\ttotal: 39.6s\tremaining: 16.6s\n",
      "704:\tlearn: 0.2239161\ttotal: 39.6s\tremaining: 16.6s\n",
      "705:\tlearn: 0.2238519\ttotal: 39.7s\tremaining: 16.5s\n",
      "706:\tlearn: 0.2238141\ttotal: 39.8s\tremaining: 16.5s\n",
      "707:\tlearn: 0.2237896\ttotal: 39.8s\tremaining: 16.4s\n",
      "708:\tlearn: 0.2237482\ttotal: 39.8s\tremaining: 16.4s\n",
      "709:\tlearn: 0.2237113\ttotal: 39.9s\tremaining: 16.3s\n",
      "710:\tlearn: 0.2236580\ttotal: 39.9s\tremaining: 16.2s\n",
      "711:\tlearn: 0.2235995\ttotal: 40s\tremaining: 16.2s\n",
      "712:\tlearn: 0.2235645\ttotal: 40s\tremaining: 16.1s\n",
      "713:\tlearn: 0.2235427\ttotal: 40.1s\tremaining: 16.1s\n",
      "714:\tlearn: 0.2235013\ttotal: 40.1s\tremaining: 16s\n",
      "715:\tlearn: 0.2234652\ttotal: 40.2s\tremaining: 15.9s\n",
      "716:\tlearn: 0.2234442\ttotal: 40.2s\tremaining: 15.9s\n",
      "717:\tlearn: 0.2234033\ttotal: 40.3s\tremaining: 15.8s\n",
      "718:\tlearn: 0.2233621\ttotal: 40.3s\tremaining: 15.8s\n",
      "719:\tlearn: 0.2233548\ttotal: 40.4s\tremaining: 15.7s\n",
      "720:\tlearn: 0.2233264\ttotal: 40.5s\tremaining: 15.7s\n",
      "721:\tlearn: 0.2232966\ttotal: 40.5s\tremaining: 15.6s\n",
      "722:\tlearn: 0.2232741\ttotal: 40.6s\tremaining: 15.5s\n",
      "723:\tlearn: 0.2232292\ttotal: 40.6s\tremaining: 15.5s\n",
      "724:\tlearn: 0.2232152\ttotal: 40.7s\tremaining: 15.4s\n",
      "725:\tlearn: 0.2231715\ttotal: 40.7s\tremaining: 15.4s\n",
      "726:\tlearn: 0.2231652\ttotal: 40.8s\tremaining: 15.3s\n",
      "727:\tlearn: 0.2231178\ttotal: 40.8s\tremaining: 15.2s\n",
      "728:\tlearn: 0.2230868\ttotal: 40.8s\tremaining: 15.2s\n",
      "729:\tlearn: 0.2230518\ttotal: 40.9s\tremaining: 15.1s\n",
      "730:\tlearn: 0.2230164\ttotal: 40.9s\tremaining: 15.1s\n",
      "731:\tlearn: 0.2229809\ttotal: 41s\tremaining: 15s\n",
      "732:\tlearn: 0.2229563\ttotal: 41s\tremaining: 14.9s\n",
      "733:\tlearn: 0.2229275\ttotal: 41.1s\tremaining: 14.9s\n",
      "734:\tlearn: 0.2228914\ttotal: 41.1s\tremaining: 14.8s\n",
      "735:\tlearn: 0.2228759\ttotal: 41.2s\tremaining: 14.8s\n",
      "736:\tlearn: 0.2228440\ttotal: 41.2s\tremaining: 14.7s\n",
      "737:\tlearn: 0.2228066\ttotal: 41.3s\tremaining: 14.7s\n",
      "738:\tlearn: 0.2227615\ttotal: 41.3s\tremaining: 14.6s\n",
      "739:\tlearn: 0.2227414\ttotal: 41.4s\tremaining: 14.5s\n",
      "740:\tlearn: 0.2227005\ttotal: 41.4s\tremaining: 14.5s\n",
      "741:\tlearn: 0.2226513\ttotal: 41.5s\tremaining: 14.4s\n",
      "742:\tlearn: 0.2226033\ttotal: 41.5s\tremaining: 14.4s\n",
      "743:\tlearn: 0.2225566\ttotal: 41.6s\tremaining: 14.3s\n",
      "744:\tlearn: 0.2224904\ttotal: 41.6s\tremaining: 14.2s\n",
      "745:\tlearn: 0.2224636\ttotal: 41.7s\tremaining: 14.2s\n",
      "746:\tlearn: 0.2224324\ttotal: 41.7s\tremaining: 14.1s\n",
      "747:\tlearn: 0.2223901\ttotal: 41.8s\tremaining: 14.1s\n",
      "748:\tlearn: 0.2223447\ttotal: 41.8s\tremaining: 14s\n",
      "749:\tlearn: 0.2223093\ttotal: 41.8s\tremaining: 13.9s\n",
      "750:\tlearn: 0.2223008\ttotal: 41.9s\tremaining: 13.9s\n",
      "751:\tlearn: 0.2222502\ttotal: 41.9s\tremaining: 13.8s\n",
      "752:\tlearn: 0.2222254\ttotal: 42s\tremaining: 13.8s\n",
      "753:\tlearn: 0.2221807\ttotal: 42s\tremaining: 13.7s\n",
      "754:\tlearn: 0.2221487\ttotal: 42.1s\tremaining: 13.7s\n",
      "755:\tlearn: 0.2221074\ttotal: 42.1s\tremaining: 13.6s\n",
      "756:\tlearn: 0.2220716\ttotal: 42.2s\tremaining: 13.5s\n",
      "757:\tlearn: 0.2220519\ttotal: 42.2s\tremaining: 13.5s\n",
      "758:\tlearn: 0.2220165\ttotal: 42.3s\tremaining: 13.4s\n",
      "759:\tlearn: 0.2219867\ttotal: 42.3s\tremaining: 13.4s\n",
      "760:\tlearn: 0.2219364\ttotal: 42.4s\tremaining: 13.3s\n",
      "761:\tlearn: 0.2219130\ttotal: 42.4s\tremaining: 13.2s\n",
      "762:\tlearn: 0.2218738\ttotal: 42.5s\tremaining: 13.2s\n",
      "763:\tlearn: 0.2218371\ttotal: 42.5s\tremaining: 13.1s\n",
      "764:\tlearn: 0.2218291\ttotal: 42.5s\tremaining: 13.1s\n",
      "765:\tlearn: 0.2217855\ttotal: 42.6s\tremaining: 13s\n",
      "766:\tlearn: 0.2217517\ttotal: 42.6s\tremaining: 13s\n",
      "767:\tlearn: 0.2217311\ttotal: 42.7s\tremaining: 12.9s\n",
      "768:\tlearn: 0.2216878\ttotal: 42.7s\tremaining: 12.8s\n",
      "769:\tlearn: 0.2216566\ttotal: 42.8s\tremaining: 12.8s\n",
      "770:\tlearn: 0.2216323\ttotal: 42.8s\tremaining: 12.7s\n",
      "771:\tlearn: 0.2215945\ttotal: 42.9s\tremaining: 12.7s\n",
      "772:\tlearn: 0.2215420\ttotal: 42.9s\tremaining: 12.6s\n",
      "773:\tlearn: 0.2215186\ttotal: 43s\tremaining: 12.5s\n",
      "774:\tlearn: 0.2214705\ttotal: 43s\tremaining: 12.5s\n",
      "775:\tlearn: 0.2214363\ttotal: 43.1s\tremaining: 12.4s\n",
      "776:\tlearn: 0.2214098\ttotal: 43.1s\tremaining: 12.4s\n",
      "777:\tlearn: 0.2213592\ttotal: 43.2s\tremaining: 12.3s\n",
      "778:\tlearn: 0.2213254\ttotal: 43.2s\tremaining: 12.3s\n",
      "779:\tlearn: 0.2212949\ttotal: 43.3s\tremaining: 12.2s\n",
      "780:\tlearn: 0.2212865\ttotal: 43.3s\tremaining: 12.1s\n",
      "781:\tlearn: 0.2212402\ttotal: 43.4s\tremaining: 12.1s\n",
      "782:\tlearn: 0.2211876\ttotal: 43.4s\tremaining: 12s\n",
      "783:\tlearn: 0.2211514\ttotal: 43.4s\tremaining: 12s\n",
      "784:\tlearn: 0.2211187\ttotal: 43.5s\tremaining: 11.9s\n",
      "785:\tlearn: 0.2211105\ttotal: 43.5s\tremaining: 11.9s\n",
      "786:\tlearn: 0.2210908\ttotal: 43.6s\tremaining: 11.8s\n",
      "787:\tlearn: 0.2210510\ttotal: 43.6s\tremaining: 11.7s\n",
      "788:\tlearn: 0.2210177\ttotal: 43.7s\tremaining: 11.7s\n",
      "789:\tlearn: 0.2209741\ttotal: 43.7s\tremaining: 11.6s\n",
      "790:\tlearn: 0.2209479\ttotal: 43.8s\tremaining: 11.6s\n",
      "791:\tlearn: 0.2209096\ttotal: 43.8s\tremaining: 11.5s\n",
      "792:\tlearn: 0.2208940\ttotal: 43.9s\tremaining: 11.5s\n",
      "793:\tlearn: 0.2208470\ttotal: 43.9s\tremaining: 11.4s\n",
      "794:\tlearn: 0.2208132\ttotal: 44s\tremaining: 11.3s\n",
      "795:\tlearn: 0.2207976\ttotal: 44s\tremaining: 11.3s\n",
      "796:\tlearn: 0.2207716\ttotal: 44.1s\tremaining: 11.2s\n",
      "797:\tlearn: 0.2207507\ttotal: 44.1s\tremaining: 11.2s\n",
      "798:\tlearn: 0.2207099\ttotal: 44.1s\tremaining: 11.1s\n",
      "799:\tlearn: 0.2206713\ttotal: 44.2s\tremaining: 11s\n"
     ]
    },
    {
     "name": "stdout",
     "output_type": "stream",
     "text": [
      "800:\tlearn: 0.2206377\ttotal: 44.2s\tremaining: 11s\n",
      "801:\tlearn: 0.2206165\ttotal: 44.3s\tremaining: 10.9s\n",
      "802:\tlearn: 0.2205928\ttotal: 44.3s\tremaining: 10.9s\n",
      "803:\tlearn: 0.2205748\ttotal: 44.4s\tremaining: 10.8s\n",
      "804:\tlearn: 0.2205478\ttotal: 44.4s\tremaining: 10.8s\n",
      "805:\tlearn: 0.2204997\ttotal: 44.5s\tremaining: 10.7s\n",
      "806:\tlearn: 0.2204805\ttotal: 44.5s\tremaining: 10.6s\n",
      "807:\tlearn: 0.2204705\ttotal: 44.6s\tremaining: 10.6s\n",
      "808:\tlearn: 0.2204456\ttotal: 44.6s\tremaining: 10.5s\n",
      "809:\tlearn: 0.2204203\ttotal: 44.7s\tremaining: 10.5s\n",
      "810:\tlearn: 0.2204133\ttotal: 44.7s\tremaining: 10.4s\n",
      "811:\tlearn: 0.2203837\ttotal: 44.8s\tremaining: 10.4s\n",
      "812:\tlearn: 0.2203583\ttotal: 44.8s\tremaining: 10.3s\n",
      "813:\tlearn: 0.2203249\ttotal: 44.9s\tremaining: 10.2s\n",
      "814:\tlearn: 0.2203123\ttotal: 44.9s\tremaining: 10.2s\n",
      "815:\tlearn: 0.2202741\ttotal: 45s\tremaining: 10.1s\n",
      "816:\tlearn: 0.2202274\ttotal: 45s\tremaining: 10.1s\n",
      "817:\tlearn: 0.2201869\ttotal: 45.1s\tremaining: 10s\n",
      "818:\tlearn: 0.2201706\ttotal: 45.1s\tremaining: 9.97s\n",
      "819:\tlearn: 0.2201329\ttotal: 45.1s\tremaining: 9.91s\n",
      "820:\tlearn: 0.2201234\ttotal: 45.2s\tremaining: 9.85s\n",
      "821:\tlearn: 0.2200919\ttotal: 45.2s\tremaining: 9.8s\n",
      "822:\tlearn: 0.2200377\ttotal: 45.3s\tremaining: 9.74s\n",
      "823:\tlearn: 0.2200070\ttotal: 45.3s\tremaining: 9.68s\n",
      "824:\tlearn: 0.2199756\ttotal: 45.4s\tremaining: 9.63s\n",
      "825:\tlearn: 0.2199518\ttotal: 45.4s\tremaining: 9.57s\n",
      "826:\tlearn: 0.2199307\ttotal: 45.5s\tremaining: 9.51s\n",
      "827:\tlearn: 0.2199015\ttotal: 45.5s\tremaining: 9.46s\n",
      "828:\tlearn: 0.2198509\ttotal: 45.6s\tremaining: 9.4s\n",
      "829:\tlearn: 0.2198394\ttotal: 45.6s\tremaining: 9.34s\n",
      "830:\tlearn: 0.2198049\ttotal: 45.7s\tremaining: 9.29s\n",
      "831:\tlearn: 0.2197556\ttotal: 45.7s\tremaining: 9.23s\n",
      "832:\tlearn: 0.2197110\ttotal: 45.8s\tremaining: 9.17s\n",
      "833:\tlearn: 0.2196904\ttotal: 45.8s\tremaining: 9.12s\n",
      "834:\tlearn: 0.2196851\ttotal: 45.8s\tremaining: 9.06s\n",
      "835:\tlearn: 0.2196579\ttotal: 45.9s\tremaining: 9s\n",
      "836:\tlearn: 0.2196149\ttotal: 45.9s\tremaining: 8.95s\n",
      "837:\tlearn: 0.2195606\ttotal: 46s\tremaining: 8.89s\n",
      "838:\tlearn: 0.2195249\ttotal: 46s\tremaining: 8.84s\n",
      "839:\tlearn: 0.2194919\ttotal: 46.1s\tremaining: 8.78s\n",
      "840:\tlearn: 0.2194768\ttotal: 46.1s\tremaining: 8.72s\n",
      "841:\tlearn: 0.2194682\ttotal: 46.2s\tremaining: 8.66s\n",
      "842:\tlearn: 0.2194450\ttotal: 46.2s\tremaining: 8.61s\n",
      "843:\tlearn: 0.2194109\ttotal: 46.3s\tremaining: 8.55s\n",
      "844:\tlearn: 0.2193772\ttotal: 46.3s\tremaining: 8.49s\n",
      "845:\tlearn: 0.2193520\ttotal: 46.4s\tremaining: 8.44s\n",
      "846:\tlearn: 0.2193119\ttotal: 46.4s\tremaining: 8.38s\n",
      "847:\tlearn: 0.2192753\ttotal: 46.4s\tremaining: 8.32s\n",
      "848:\tlearn: 0.2192264\ttotal: 46.5s\tremaining: 8.27s\n",
      "849:\tlearn: 0.2191941\ttotal: 46.5s\tremaining: 8.21s\n",
      "850:\tlearn: 0.2191654\ttotal: 46.6s\tremaining: 8.16s\n",
      "851:\tlearn: 0.2191150\ttotal: 46.6s\tremaining: 8.1s\n",
      "852:\tlearn: 0.2190948\ttotal: 46.7s\tremaining: 8.04s\n",
      "853:\tlearn: 0.2190787\ttotal: 46.7s\tremaining: 7.99s\n",
      "854:\tlearn: 0.2190305\ttotal: 46.8s\tremaining: 7.93s\n",
      "855:\tlearn: 0.2190007\ttotal: 46.8s\tremaining: 7.88s\n",
      "856:\tlearn: 0.2189713\ttotal: 46.9s\tremaining: 7.82s\n",
      "857:\tlearn: 0.2189240\ttotal: 46.9s\tremaining: 7.76s\n",
      "858:\tlearn: 0.2188915\ttotal: 47s\tremaining: 7.71s\n",
      "859:\tlearn: 0.2188562\ttotal: 47s\tremaining: 7.65s\n",
      "860:\tlearn: 0.2188269\ttotal: 47.1s\tremaining: 7.6s\n",
      "861:\tlearn: 0.2188102\ttotal: 47.1s\tremaining: 7.54s\n",
      "862:\tlearn: 0.2187612\ttotal: 47.2s\tremaining: 7.49s\n",
      "863:\tlearn: 0.2187254\ttotal: 47.2s\tremaining: 7.43s\n",
      "864:\tlearn: 0.2186787\ttotal: 47.3s\tremaining: 7.38s\n",
      "865:\tlearn: 0.2186623\ttotal: 47.3s\tremaining: 7.32s\n",
      "866:\tlearn: 0.2186289\ttotal: 47.4s\tremaining: 7.27s\n",
      "867:\tlearn: 0.2186101\ttotal: 47.4s\tremaining: 7.21s\n",
      "868:\tlearn: 0.2185854\ttotal: 47.5s\tremaining: 7.16s\n",
      "869:\tlearn: 0.2185469\ttotal: 47.5s\tremaining: 7.1s\n",
      "870:\tlearn: 0.2185401\ttotal: 47.6s\tremaining: 7.05s\n",
      "871:\tlearn: 0.2185235\ttotal: 47.6s\tremaining: 6.99s\n",
      "872:\tlearn: 0.2184885\ttotal: 47.7s\tremaining: 6.94s\n",
      "873:\tlearn: 0.2184485\ttotal: 47.8s\tremaining: 6.89s\n",
      "874:\tlearn: 0.2184158\ttotal: 47.8s\tremaining: 6.83s\n",
      "875:\tlearn: 0.2183781\ttotal: 47.9s\tremaining: 6.78s\n",
      "876:\tlearn: 0.2183447\ttotal: 47.9s\tremaining: 6.72s\n",
      "877:\tlearn: 0.2183139\ttotal: 48s\tremaining: 6.67s\n",
      "878:\tlearn: 0.2182680\ttotal: 48s\tremaining: 6.61s\n",
      "879:\tlearn: 0.2182247\ttotal: 48.1s\tremaining: 6.56s\n",
      "880:\tlearn: 0.2181688\ttotal: 48.2s\tremaining: 6.5s\n",
      "881:\tlearn: 0.2181462\ttotal: 48.2s\tremaining: 6.45s\n",
      "882:\tlearn: 0.2181247\ttotal: 48.3s\tremaining: 6.4s\n",
      "883:\tlearn: 0.2180917\ttotal: 48.3s\tremaining: 6.34s\n",
      "884:\tlearn: 0.2180492\ttotal: 48.4s\tremaining: 6.28s\n",
      "885:\tlearn: 0.2180175\ttotal: 48.4s\tremaining: 6.23s\n",
      "886:\tlearn: 0.2179799\ttotal: 48.5s\tremaining: 6.17s\n",
      "887:\tlearn: 0.2179520\ttotal: 48.5s\tremaining: 6.12s\n",
      "888:\tlearn: 0.2179161\ttotal: 48.6s\tremaining: 6.06s\n",
      "889:\tlearn: 0.2178663\ttotal: 48.6s\tremaining: 6.01s\n",
      "890:\tlearn: 0.2178453\ttotal: 48.7s\tremaining: 5.96s\n",
      "891:\tlearn: 0.2178362\ttotal: 48.7s\tremaining: 5.9s\n",
      "892:\tlearn: 0.2178002\ttotal: 48.8s\tremaining: 5.84s\n",
      "893:\tlearn: 0.2177762\ttotal: 48.8s\tremaining: 5.79s\n",
      "894:\tlearn: 0.2177246\ttotal: 48.9s\tremaining: 5.73s\n",
      "895:\tlearn: 0.2176979\ttotal: 48.9s\tremaining: 5.68s\n",
      "896:\tlearn: 0.2176641\ttotal: 49s\tremaining: 5.63s\n",
      "897:\tlearn: 0.2176243\ttotal: 49s\tremaining: 5.57s\n",
      "898:\tlearn: 0.2176136\ttotal: 49.1s\tremaining: 5.51s\n",
      "899:\tlearn: 0.2175906\ttotal: 49.1s\tremaining: 5.46s\n",
      "900:\tlearn: 0.2175576\ttotal: 49.2s\tremaining: 5.41s\n",
      "901:\tlearn: 0.2175322\ttotal: 49.3s\tremaining: 5.36s\n",
      "902:\tlearn: 0.2175054\ttotal: 49.4s\tremaining: 5.3s\n",
      "903:\tlearn: 0.2174587\ttotal: 49.4s\tremaining: 5.25s\n",
      "904:\tlearn: 0.2174349\ttotal: 49.5s\tremaining: 5.19s\n",
      "905:\tlearn: 0.2174322\ttotal: 49.5s\tremaining: 5.14s\n",
      "906:\tlearn: 0.2173921\ttotal: 49.6s\tremaining: 5.08s\n",
      "907:\tlearn: 0.2173670\ttotal: 49.6s\tremaining: 5.03s\n",
      "908:\tlearn: 0.2173299\ttotal: 49.7s\tremaining: 4.97s\n",
      "909:\tlearn: 0.2172965\ttotal: 49.7s\tremaining: 4.92s\n",
      "910:\tlearn: 0.2172682\ttotal: 49.8s\tremaining: 4.86s\n",
      "911:\tlearn: 0.2172440\ttotal: 49.8s\tremaining: 4.81s\n",
      "912:\tlearn: 0.2172248\ttotal: 49.9s\tremaining: 4.75s\n",
      "913:\tlearn: 0.2171868\ttotal: 50s\tremaining: 4.71s\n",
      "914:\tlearn: 0.2171499\ttotal: 50.1s\tremaining: 4.66s\n",
      "915:\tlearn: 0.2171149\ttotal: 50.2s\tremaining: 4.6s\n",
      "916:\tlearn: 0.2170993\ttotal: 50.3s\tremaining: 4.55s\n",
      "917:\tlearn: 0.2170620\ttotal: 50.3s\tremaining: 4.5s\n",
      "918:\tlearn: 0.2170163\ttotal: 50.4s\tremaining: 4.44s\n",
      "919:\tlearn: 0.2169703\ttotal: 50.5s\tremaining: 4.39s\n",
      "920:\tlearn: 0.2169499\ttotal: 50.5s\tremaining: 4.33s\n",
      "921:\tlearn: 0.2169102\ttotal: 50.6s\tremaining: 4.28s\n",
      "922:\tlearn: 0.2168736\ttotal: 50.6s\tremaining: 4.22s\n",
      "923:\tlearn: 0.2168425\ttotal: 50.7s\tremaining: 4.17s\n",
      "924:\tlearn: 0.2168127\ttotal: 50.8s\tremaining: 4.12s\n",
      "925:\tlearn: 0.2167834\ttotal: 50.8s\tremaining: 4.06s\n",
      "926:\tlearn: 0.2167597\ttotal: 50.9s\tremaining: 4s\n",
      "927:\tlearn: 0.2167064\ttotal: 50.9s\tremaining: 3.95s\n",
      "928:\tlearn: 0.2166793\ttotal: 51s\tremaining: 3.9s\n",
      "929:\tlearn: 0.2166497\ttotal: 51s\tremaining: 3.84s\n",
      "930:\tlearn: 0.2166116\ttotal: 51.1s\tremaining: 3.79s\n",
      "931:\tlearn: 0.2165746\ttotal: 51.1s\tremaining: 3.73s\n",
      "932:\tlearn: 0.2165236\ttotal: 51.2s\tremaining: 3.68s\n",
      "933:\tlearn: 0.2165045\ttotal: 51.3s\tremaining: 3.62s\n",
      "934:\tlearn: 0.2164756\ttotal: 51.3s\tremaining: 3.57s\n",
      "935:\tlearn: 0.2164327\ttotal: 51.4s\tremaining: 3.51s\n",
      "936:\tlearn: 0.2164030\ttotal: 51.4s\tremaining: 3.46s\n",
      "937:\tlearn: 0.2163534\ttotal: 51.5s\tremaining: 3.4s\n",
      "938:\tlearn: 0.2163378\ttotal: 51.5s\tremaining: 3.35s\n",
      "939:\tlearn: 0.2163223\ttotal: 51.6s\tremaining: 3.29s\n",
      "940:\tlearn: 0.2162835\ttotal: 51.6s\tremaining: 3.24s\n",
      "941:\tlearn: 0.2162674\ttotal: 51.7s\tremaining: 3.18s\n",
      "942:\tlearn: 0.2162628\ttotal: 51.7s\tremaining: 3.13s\n",
      "943:\tlearn: 0.2162261\ttotal: 51.8s\tremaining: 3.07s\n",
      "944:\tlearn: 0.2161884\ttotal: 51.8s\tremaining: 3.02s\n",
      "945:\tlearn: 0.2161533\ttotal: 51.9s\tremaining: 2.96s\n",
      "946:\tlearn: 0.2161283\ttotal: 51.9s\tremaining: 2.91s\n",
      "947:\tlearn: 0.2161043\ttotal: 52s\tremaining: 2.85s\n",
      "948:\tlearn: 0.2160824\ttotal: 52.1s\tremaining: 2.8s\n",
      "949:\tlearn: 0.2160597\ttotal: 52.1s\tremaining: 2.74s\n",
      "950:\tlearn: 0.2160214\ttotal: 52.2s\tremaining: 2.69s\n",
      "951:\tlearn: 0.2159791\ttotal: 52.2s\tremaining: 2.63s\n",
      "952:\tlearn: 0.2159417\ttotal: 52.3s\tremaining: 2.58s\n",
      "953:\tlearn: 0.2159195\ttotal: 52.3s\tremaining: 2.52s\n",
      "954:\tlearn: 0.2158874\ttotal: 52.4s\tremaining: 2.47s\n",
      "955:\tlearn: 0.2158663\ttotal: 52.4s\tremaining: 2.41s\n",
      "956:\tlearn: 0.2158396\ttotal: 52.5s\tremaining: 2.36s\n",
      "957:\tlearn: 0.2158143\ttotal: 52.5s\tremaining: 2.3s\n",
      "958:\tlearn: 0.2157700\ttotal: 52.6s\tremaining: 2.25s\n"
     ]
    },
    {
     "name": "stdout",
     "output_type": "stream",
     "text": [
      "959:\tlearn: 0.2157365\ttotal: 52.7s\tremaining: 2.19s\n",
      "960:\tlearn: 0.2157062\ttotal: 52.8s\tremaining: 2.14s\n",
      "961:\tlearn: 0.2156779\ttotal: 52.8s\tremaining: 2.09s\n",
      "962:\tlearn: 0.2156468\ttotal: 52.9s\tremaining: 2.03s\n",
      "963:\tlearn: 0.2156100\ttotal: 53s\tremaining: 1.98s\n",
      "964:\tlearn: 0.2155758\ttotal: 53.1s\tremaining: 1.93s\n",
      "965:\tlearn: 0.2155321\ttotal: 53.2s\tremaining: 1.87s\n",
      "966:\tlearn: 0.2154931\ttotal: 53.2s\tremaining: 1.82s\n",
      "967:\tlearn: 0.2154535\ttotal: 53.3s\tremaining: 1.76s\n",
      "968:\tlearn: 0.2154291\ttotal: 53.4s\tremaining: 1.71s\n",
      "969:\tlearn: 0.2154028\ttotal: 53.4s\tremaining: 1.65s\n",
      "970:\tlearn: 0.2153555\ttotal: 53.5s\tremaining: 1.6s\n",
      "971:\tlearn: 0.2153370\ttotal: 53.5s\tremaining: 1.54s\n",
      "972:\tlearn: 0.2153163\ttotal: 53.6s\tremaining: 1.49s\n",
      "973:\tlearn: 0.2152906\ttotal: 53.7s\tremaining: 1.43s\n",
      "974:\tlearn: 0.2152512\ttotal: 53.7s\tremaining: 1.38s\n",
      "975:\tlearn: 0.2152197\ttotal: 53.8s\tremaining: 1.32s\n",
      "976:\tlearn: 0.2152033\ttotal: 53.8s\tremaining: 1.27s\n",
      "977:\tlearn: 0.2151780\ttotal: 53.8s\tremaining: 1.21s\n",
      "978:\tlearn: 0.2151533\ttotal: 53.9s\tremaining: 1.16s\n",
      "979:\tlearn: 0.2151118\ttotal: 54s\tremaining: 1.1s\n",
      "980:\tlearn: 0.2150740\ttotal: 54s\tremaining: 1.05s\n",
      "981:\tlearn: 0.2150245\ttotal: 54.1s\tremaining: 991ms\n",
      "982:\tlearn: 0.2149961\ttotal: 54.1s\tremaining: 936ms\n",
      "983:\tlearn: 0.2149714\ttotal: 54.2s\tremaining: 881ms\n",
      "984:\tlearn: 0.2149579\ttotal: 54.2s\tremaining: 826ms\n",
      "985:\tlearn: 0.2149286\ttotal: 54.3s\tremaining: 771ms\n",
      "986:\tlearn: 0.2148881\ttotal: 54.3s\tremaining: 716ms\n",
      "987:\tlearn: 0.2148704\ttotal: 54.4s\tremaining: 661ms\n",
      "988:\tlearn: 0.2148581\ttotal: 54.4s\tremaining: 605ms\n",
      "989:\tlearn: 0.2148194\ttotal: 54.6s\tremaining: 551ms\n",
      "990:\tlearn: 0.2147923\ttotal: 54.7s\tremaining: 496ms\n",
      "991:\tlearn: 0.2147471\ttotal: 54.7s\tremaining: 441ms\n",
      "992:\tlearn: 0.2147203\ttotal: 54.8s\tremaining: 386ms\n",
      "993:\tlearn: 0.2147042\ttotal: 54.9s\tremaining: 331ms\n",
      "994:\tlearn: 0.2146551\ttotal: 54.9s\tremaining: 276ms\n",
      "995:\tlearn: 0.2146327\ttotal: 55s\tremaining: 221ms\n",
      "996:\tlearn: 0.2146240\ttotal: 55s\tremaining: 166ms\n",
      "997:\tlearn: 0.2145865\ttotal: 55.1s\tremaining: 110ms\n",
      "998:\tlearn: 0.2145677\ttotal: 55.1s\tremaining: 55.2ms\n",
      "999:\tlearn: 0.2145411\ttotal: 55.2s\tremaining: 0us\n"
     ]
    },
    {
     "data": {
      "text/plain": [
       "<catboost.core.CatBoostClassifier at 0x1a59935e10>"
      ]
     },
     "execution_count": 16,
     "metadata": {},
     "output_type": "execute_result"
    }
   ],
   "source": [
    "model = CatBoostClassifier()\n",
    "model.fit(X_train[numerical], y_train)"
   ]
  },
  {
   "cell_type": "code",
   "execution_count": 17,
   "metadata": {},
   "outputs": [
    {
     "name": "stdout",
     "output_type": "stream",
     "text": [
      "[0.07997392 0.07995964 0.07996088 0.07996212 0.07996336 0.07996461\n",
      " 0.07996585 0.07996709 0.07996833 0.07996957]\n",
      "\n",
      "[1.        0.9998059 0.9998059 0.9998059 0.9998059 0.9998059 0.9998059\n",
      " 0.9998059 0.9998059 0.9998059]\n",
      "\n",
      "[0.00380074 0.00383227 0.00383284 0.00383809 0.00384527 0.00384591\n",
      " 0.00385967 0.00386953 0.00389486 0.00389568]\n"
     ]
    }
   ],
   "source": [
    "pred_proba = model.predict_proba(X_test[numerical])\n",
    "precision, recall, thresholds = precision_recall_curve(y_test, pred_proba[:,1])\n",
    "\n",
    "print(precision[:10], recall[:10], thresholds[:10], sep='\\n\\n')"
   ]
  },
  {
   "cell_type": "code",
   "execution_count": 18,
   "metadata": {},
   "outputs": [],
   "source": [
    "def draw_pr_curve(precision, recall):\n",
    "    fig, ax = plt.subplots(1,1, figsize=(8,8))\n",
    "    plt.xlabel(\"Precision\")\n",
    "    plt.ylabel(\"Recall\")\n",
    "    plt.title(\"PR-curve\")\n",
    "    \n",
    "    plt.plot(precision, recall, color='blue')\n",
    "    plt.plot((1,0), (0,1), color='red')"
   ]
  },
  {
   "cell_type": "code",
   "execution_count": 19,
   "metadata": {},
   "outputs": [
    {
     "data": {
      "image/png": "[encoded data removed]",
      "text/plain": [
       "<Figure size 576x576 with 1 Axes>"
      ]
     },
     "metadata": {
      "needs_background": "light"
     },
     "output_type": "display_data"
    }
   ],
   "source": [
    "draw_pr_curve(precision, recall)"
   ]
  },
  {
   "cell_type": "code",
   "execution_count": 20,
   "metadata": {},
   "outputs": [
    {
     "data": {
      "text/plain": [
       "0.23361086062541314"
      ]
     },
     "execution_count": 20,
     "metadata": {},
     "output_type": "execute_result"
    }
   ],
   "source": [
    "auc(recall, precision)"
   ]
  },
  {
   "cell_type": "code",
   "execution_count": 21,
   "metadata": {},
   "outputs": [
    {
     "data": {
      "text/plain": [
       "LGBMClassifier()"
      ]
     },
     "execution_count": 21,
     "metadata": {},
     "output_type": "execute_result"
    }
   ],
   "source": [
    "model = LGBMClassifier()\n",
    "model.fit(X_train[numerical], y_train)"
   ]
  },
  {
   "cell_type": "code",
   "execution_count": 22,
   "metadata": {},
   "outputs": [
    {
     "name": "stdout",
     "output_type": "stream",
     "text": [
      "[0.07984873 0.07983447 0.07983571 0.07983695 0.07983818 0.07983942\n",
      " 0.07984066 0.0798419  0.07984313 0.07984437]\n",
      "\n",
      "[1.        0.9998059 0.9998059 0.9998059 0.9998059 0.9998059 0.9998059\n",
      " 0.9998059 0.9998059 0.9998059]\n",
      "\n",
      "[0.00856237 0.0085813  0.00863604 0.00869729 0.00872656 0.0087284\n",
      " 0.00876895 0.00877624 0.00878287 0.0088137 ]\n"
     ]
    }
   ],
   "source": [
    "preds_proba = model.predict_proba(X_test[numerical])\n",
    "precision, recall, thresholds = precision_recall_curve(y_test, preds_proba[:,1])\n",
    "\n",
    "print(precision[:10], recall[:10], thresholds[:10], sep='\\n\\n')"
   ]
  },
  {
   "cell_type": "code",
   "execution_count": 23,
   "metadata": {},
   "outputs": [
    {
     "data": {
      "image/png": "[encoded data removed]",
      "text/plain": [
       "<Figure size 576x576 with 1 Axes>"
      ]
     },
     "metadata": {
      "needs_background": "light"
     },
     "output_type": "display_data"
    }
   ],
   "source": [
    "draw_pr_curve(precision, recall)"
   ]
  },
  {
   "cell_type": "code",
   "execution_count": 24,
   "metadata": {},
   "outputs": [
    {
     "data": {
      "text/plain": [
       "0.23581261749192228"
      ]
     },
     "execution_count": 24,
     "metadata": {},
     "output_type": "execute_result"
    }
   ],
   "source": [
    "auc(recall, precision)"
   ]
  },
  {
   "cell_type": "markdown",
   "metadata": {},
   "source": [
    "Значительного отличия в качестве не наблюдаются (lgb на 0.002 хуже, чем catboost, видимо, из-за непонятного дергания внизу). Но lgb работает значительно быстрее."
   ]
  },
  {
   "cell_type": "markdown",
   "metadata": {},
   "source": [
    "Подберем оптимальные с точки зрения метрики качества параметры алгоритмов, изменяя:\n",
    "\n",
    "* глубину деревьев\n",
    "* количество деревьев\n",
    "* темп обучения\n",
    "* оптимизируемый функционал"
   ]
  },
  {
   "cell_type": "code",
   "execution_count": 25,
   "metadata": {},
   "outputs": [],
   "source": [
    "def pr_auc_score(y_true, y_prob):\n",
    "    precision, recall, _ = precision_recall_curve(y_true, y_prob)\n",
    "    \n",
    "    return auc(recall, precision)"
   ]
  },
  {
   "cell_type": "markdown",
   "metadata": {},
   "source": [
    "Помним, что AUC-PR мы хотим максимизировать."
   ]
  },
  {
   "cell_type": "code",
   "execution_count": 26,
   "metadata": {},
   "outputs": [],
   "source": [
    "params = {'max_depth': [1, 2, 3, 4, 5, 10, 15],\n",
    "            'n_estimators': [1, 2, 3, 4, 5, 10, 15, 20, 25, 50, 75, 100, 150, 200, 250, 300, 350, 400, 500, 600],\n",
    "            'learning_rate': np.logspace(-2, 0, num=8),\n",
    "            'loss_function': ['Logloss', 'CrossEntropy']\n",
    "         }"
   ]
  },
  {
   "cell_type": "code",
   "execution_count": 27,
   "metadata": {},
   "outputs": [
    {
     "data": {
      "image/png": "[encoded data removed]",
      "text/plain": [
       "<Figure size 864x432 with 1 Axes>"
      ]
     },
     "metadata": {
      "needs_background": "light"
     },
     "output_type": "display_data"
    },
    {
     "data": {
      "image/png": "[encoded data removed]",
      "text/plain": [
       "<Figure size 864x432 with 1 Axes>"
      ]
     },
     "metadata": {
      "needs_background": "light"
     },
     "output_type": "display_data"
    }
   ],
   "source": [
    "for metric in params['loss_function']:\n",
    "    quals_train = []\n",
    "    quals_test = []\n",
    "\n",
    "    for n in params['n_estimators']:\n",
    "        cbc = CatBoostClassifier(loss_function=metric, n_estimators=n, verbose=False)\n",
    "        cbc.fit(X_train[numerical], y_train)\n",
    "        \n",
    "        q_train = pr_auc_score(  y_train, cbc.predict_proba(X_train[numerical])[:, 1]  )\n",
    "        q_test = pr_auc_score(  y_test, cbc.predict_proba(X_test[numerical])[:, 1]  )\n",
    "        quals_train.append(q_train)\n",
    "        quals_test.append(q_test)\n",
    "\n",
    "    plt.figure(figsize=(12, 6))\n",
    "    plt.xlabel('Number of trees. Loss: ' + metric)\n",
    "    plt.ylabel('AUC-PR')\n",
    "    \n",
    "    plt.plot(params['n_estimators'], quals_train, marker='.', label='train')\n",
    "    plt.plot(params['n_estimators'], quals_test, marker='.', label='test')\n",
    "    plt.legend()\n",
    "    plt.show()"
   ]
  },
  {
   "cell_type": "markdown",
   "metadata": {},
   "source": [
    "Лучший результат при Logloss достигается при 15, 25 или 300 деревьях. При этом при 300 деревьях для Logloss начинается плато, за которым тоже надо бы проследить.\n",
    "\n",
    "А вот при CrossEntropy AUC-PR только растет, нужно бы еще потестировать по-хорошему, хотя при 500 намечается некоторое плато."
   ]
  },
  {
   "cell_type": "markdown",
   "metadata": {},
   "source": [
    "Дальше будем работать с LogLoss, т.к. у нас задача двухклассовой классификации."
   ]
  },
  {
   "cell_type": "code",
   "execution_count": 28,
   "metadata": {},
   "outputs": [],
   "source": [
    "params = {'max_depth': [1, 2, 3, 4, 5, 10, 15],\n",
    "            'n_estimators': [15, 18, 20, 23, 25],\n",
    "            'learning_rate': np.logspace(-2, 0, num=8),\n",
    "            'loss_function': ['Logloss']\n",
    "         }"
   ]
  },
  {
   "cell_type": "code",
   "execution_count": 29,
   "metadata": {},
   "outputs": [
    {
     "data": {
      "image/png": "[encoded data removed]",
      "text/plain": [
       "<Figure size 864x432 with 1 Axes>"
      ]
     },
     "metadata": {
      "needs_background": "light"
     },
     "output_type": "display_data"
    }
   ],
   "source": [
    "for metric in params['loss_function']:\n",
    "    quals_train = []\n",
    "    quals_test = []\n",
    "\n",
    "    for n in params['n_estimators']:\n",
    "        cbc = CatBoostClassifier(loss_function=metric, n_estimators=n, verbose=False)\n",
    "        cbc.fit(X_train[numerical], y_train)\n",
    "        \n",
    "        q_train = pr_auc_score(  y_train, cbc.predict_proba(X_train[numerical])[:, 1]  )\n",
    "        q_test = pr_auc_score(  y_test, cbc.predict_proba(X_test[numerical])[:, 1]  )\n",
    "        quals_train.append(q_train)\n",
    "        quals_test.append(q_test)\n",
    "\n",
    "    plt.figure(figsize=(12, 6))\n",
    "    plt.xlabel('Number of trees. Loss: ' + metric)\n",
    "    plt.ylabel('AUC-PR')\n",
    "    \n",
    "    plt.plot(params['n_estimators'], quals_train, marker='.', label='train')\n",
    "    plt.plot(params['n_estimators'], quals_test, marker='.', label='test')\n",
    "    plt.legend()\n",
    "    plt.show()"
   ]
  },
  {
   "cell_type": "code",
   "execution_count": 30,
   "metadata": {},
   "outputs": [],
   "source": [
    "params = {'max_depth': [1, 2, 3, 4, 5, 10, 15],\n",
    "            'n_estimators': [275, 290, 295, 300, 305, 310, 325],\n",
    "            'learning_rate': np.logspace(-2, 0, num=8),\n",
    "            'loss_function': ['Logloss']\n",
    "         }"
   ]
  },
  {
   "cell_type": "code",
   "execution_count": 31,
   "metadata": {},
   "outputs": [
    {
     "data": {
      "image/png": "[encoded data removed]",
      "text/plain": [
       "<Figure size 864x432 with 1 Axes>"
      ]
     },
     "metadata": {
      "needs_background": "light"
     },
     "output_type": "display_data"
    }
   ],
   "source": [
    "for metric in params['loss_function']:\n",
    "    quals_train = []\n",
    "    quals_test = []\n",
    "\n",
    "    for n in params['n_estimators']:\n",
    "        cbc = CatBoostClassifier(loss_function=metric, n_estimators=n, verbose=False)\n",
    "        cbc.fit(X_train[numerical], y_train)\n",
    "        \n",
    "        q_train = pr_auc_score(  y_train, cbc.predict_proba(X_train[numerical])[:, 1]  )\n",
    "        q_test = pr_auc_score(  y_test, cbc.predict_proba(X_test[numerical])[:, 1]  )\n",
    "        quals_train.append(q_train)\n",
    "        quals_test.append(q_test)\n",
    "\n",
    "    plt.figure(figsize=(12, 6))\n",
    "    plt.xlabel('Number of trees. Loss: ' + metric)\n",
    "    plt.ylabel('AUC-PR')\n",
    "    \n",
    "    plt.plot(params['n_estimators'], quals_train, marker='.', label='train')\n",
    "    plt.plot(params['n_estimators'], quals_test, marker='.', label='test')\n",
    "    plt.legend()\n",
    "    plt.show()"
   ]
  },
  {
   "cell_type": "markdown",
   "metadata": {},
   "source": [
    "Итого: оптимальное число деревьев ```n_estimators=305```.\n",
    "<br>Но мы еще потестируем с 15."
   ]
  },
  {
   "cell_type": "code",
   "execution_count": 32,
   "metadata": {},
   "outputs": [
    {
     "data": {
      "image/png": "[encoded data removed]",
      "text/plain": [
       "<Figure size 864x432 with 1 Axes>"
      ]
     },
     "metadata": {
      "needs_background": "light"
     },
     "output_type": "display_data"
    }
   ],
   "source": [
    "trees = 15\n",
    "\n",
    "for metric in params['loss_function']:\n",
    "    quals_train = []\n",
    "    quals_test = []\n",
    "\n",
    "    for d in params['max_depth']:\n",
    "        cbc = CatBoostClassifier(loss_function=metric, n_estimators=trees, max_depth=d, verbose=False)\n",
    "        cbc.fit(X_train[numerical], y_train)\n",
    "        \n",
    "        q_train = pr_auc_score(  y_train, cbc.predict_proba(X_train[numerical])[:, 1]  )\n",
    "        q_test = pr_auc_score(  y_test, cbc.predict_proba(X_test[numerical])[:, 1]  )\n",
    "        quals_train.append(q_train)\n",
    "        quals_test.append(q_test)\n",
    "\n",
    "    plt.figure(figsize=(12, 6))\n",
    "    plt.xlabel('Depth of trees. Loss: ' + metric)\n",
    "    plt.ylabel('AUC-PR')\n",
    "    \n",
    "    plt.plot(params['max_depth'], quals_train, marker='.', label='train')\n",
    "    plt.plot(params['max_depth'], quals_test, marker='.', label='test')\n",
    "    plt.legend()\n",
    "    plt.show()"
   ]
  },
  {
   "cell_type": "markdown",
   "metadata": {},
   "source": [
    "При 15 деревьях оптимальная глубина 3."
   ]
  },
  {
   "cell_type": "code",
   "execution_count": 33,
   "metadata": {},
   "outputs": [
    {
     "data": {
      "image/png": "[encoded data removed]",
      "text/plain": [
       "<Figure size 864x432 with 1 Axes>"
      ]
     },
     "metadata": {
      "needs_background": "light"
     },
     "output_type": "display_data"
    }
   ],
   "source": [
    "trees = 305\n",
    "\n",
    "for metric in params['loss_function']:\n",
    "    quals_train = []\n",
    "    quals_test = []\n",
    "\n",
    "    for d in params['max_depth']:\n",
    "        cbc = CatBoostClassifier(loss_function=metric, n_estimators=trees, max_depth=d, verbose=False)\n",
    "        cbc.fit(X_train[numerical], y_train)\n",
    "        \n",
    "        q_train = pr_auc_score(  y_train, cbc.predict_proba(X_train[numerical])[:, 1]  )\n",
    "        q_test = pr_auc_score(  y_test, cbc.predict_proba(X_test[numerical])[:, 1]  )\n",
    "        quals_train.append(q_train)\n",
    "        quals_test.append(q_test)\n",
    "\n",
    "    plt.figure(figsize=(12, 6))\n",
    "    plt.xlabel('Depth of trees. Loss: ' + metric)\n",
    "    plt.ylabel('AUC-PR')\n",
    "    \n",
    "    plt.plot(params['max_depth'], quals_train, marker='.', label='train')\n",
    "    plt.plot(params['max_depth'], quals_test, marker='.', label='test')\n",
    "    plt.legend()\n",
    "    plt.show()"
   ]
  },
  {
   "cell_type": "markdown",
   "metadata": {},
   "source": [
    "При 305 деревьях оптимальная глубина 1 - кажется малосодержательным, да и крайне долго считается."
   ]
  },
  {
   "cell_type": "markdown",
   "metadata": {},
   "source": [
    "Итого используем: ```n_estimators=15```, ```max_depth=3```."
   ]
  },
  {
   "cell_type": "code",
   "execution_count": 34,
   "metadata": {},
   "outputs": [
    {
     "data": {
      "image/png": "[encoded data removed]",
      "text/plain": [
       "<Figure size 864x432 with 1 Axes>"
      ]
     },
     "metadata": {
      "needs_background": "light"
     },
     "output_type": "display_data"
    }
   ],
   "source": [
    "trees = 15\n",
    "depth = 3\n",
    "\n",
    "for metric in params['loss_function']:\n",
    "    quals_train = []\n",
    "    quals_test = []\n",
    "\n",
    "    for eta in params['learning_rate']:\n",
    "        cbc = CatBoostClassifier(\n",
    "                                loss_function=metric,\n",
    "                                n_estimators=trees,\n",
    "                                max_depth=depth,\n",
    "                                learning_rate=eta,\n",
    "                                verbose=False\n",
    "                            )\n",
    "        cbc.fit(X_train[numerical], y_train)\n",
    "        \n",
    "        q_train = pr_auc_score(  y_train, cbc.predict_proba(X_train[numerical])[:, 1]  )\n",
    "        q_test = pr_auc_score(  y_test, cbc.predict_proba(X_test[numerical])[:, 1]  )\n",
    "        quals_train.append(q_train)\n",
    "        quals_test.append(q_test)\n",
    "\n",
    "    plt.figure(figsize=(12, 6))\n",
    "    plt.xlabel('Learning rate. Loss: ' + metric)\n",
    "    plt.ylabel('AUC-PR')\n",
    "    \n",
    "    plt.plot(params['learning_rate'], quals_train, marker='.', label='train')\n",
    "    plt.plot(params['learning_rate'], quals_test, marker='.', label='test')\n",
    "    plt.legend()\n",
    "    plt.show()"
   ]
  },
  {
   "cell_type": "code",
   "execution_count": 35,
   "metadata": {},
   "outputs": [
    {
     "data": {
      "text/plain": [
       "0.517947467923121"
      ]
     },
     "execution_count": 35,
     "metadata": {},
     "output_type": "execute_result"
    }
   ],
   "source": [
    "eta = params['learning_rate'][-2]\n",
    "eta"
   ]
  },
  {
   "cell_type": "markdown",
   "metadata": {},
   "source": [
    "Итого: оптимальный темп обучения ```learning_rate=0.517947467923121```."
   ]
  },
  {
   "cell_type": "code",
   "execution_count": 36,
   "metadata": {},
   "outputs": [
    {
     "data": {
      "text/plain": [
       "<catboost.core.CatBoostClassifier at 0x1a19032ac8>"
      ]
     },
     "execution_count": 36,
     "metadata": {},
     "output_type": "execute_result"
    }
   ],
   "source": [
    "model = CatBoostClassifier(n_estimators=15, max_depth=3, learning_rate=0.517947467923121, verbose=False)\n",
    "model.fit(X_train[numerical], y_train)"
   ]
  },
  {
   "cell_type": "code",
   "execution_count": 37,
   "metadata": {},
   "outputs": [],
   "source": [
    "pred_proba = model.predict_proba(X_test[numerical])\n",
    "precision, recall, thresholds = precision_recall_curve(y_test, pred_proba[:,1])"
   ]
  },
  {
   "cell_type": "code",
   "execution_count": 38,
   "metadata": {},
   "outputs": [
    {
     "data": {
      "image/png": "[encoded data removed]",
      "text/plain": [
       "<Figure size 576x576 with 1 Axes>"
      ]
     },
     "metadata": {
      "needs_background": "light"
     },
     "output_type": "display_data"
    }
   ],
   "source": [
    "draw_pr_curve(precision, recall)"
   ]
  },
  {
   "cell_type": "code",
   "execution_count": 39,
   "metadata": {},
   "outputs": [
    {
     "data": {
      "text/plain": [
       "0.22578592101886674"
      ]
     },
     "execution_count": 39,
     "metadata": {},
     "output_type": "execute_result"
    }
   ],
   "source": [
    "auc(recall, precision)"
   ]
  },
  {
   "cell_type": "markdown",
   "metadata": {},
   "source": [
    "Было: \n",
    "0.23361086062541314"
   ]
  },
  {
   "cell_type": "markdown",
   "metadata": {},
   "source": [
    "---"
   ]
  },
  {
   "cell_type": "markdown",
   "metadata": {},
   "source": [
    "Повторим весь подбор для LightGBM (у него по умолчанию стоит LogLoss):"
   ]
  },
  {
   "cell_type": "code",
   "execution_count": 40,
   "metadata": {},
   "outputs": [],
   "source": [
    "params = {'max_depth': [1, 2, 3, 4, 5, 10, 15],\n",
    "            'n_estimators': [1, 2, 3, 4, 5, 10, 15, 20, 25, 50, 75, 100, 150, 200, 250, 300, 350, 400, 500, 600],\n",
    "            'learning_rate': np.logspace(-2, 0, num=8)\n",
    "         }"
   ]
  },
  {
   "cell_type": "code",
   "execution_count": 41,
   "metadata": {},
   "outputs": [
    {
     "data": {
      "image/png": "[encoded data removed]",
      "text/plain": [
       "<Figure size 864x432 with 1 Axes>"
      ]
     },
     "metadata": {
      "needs_background": "light"
     },
     "output_type": "display_data"
    }
   ],
   "source": [
    "quals_train = []\n",
    "quals_test = []\n",
    "\n",
    "for n in params['n_estimators']:\n",
    "    lgbmc = LGBMClassifier(n_estimators=n)\n",
    "    lgbmc.fit(X_train[numerical], y_train)\n",
    "        \n",
    "    q_train = pr_auc_score(  y_train, lgbmc.predict_proba(X_train[numerical])[:, 1]  )\n",
    "    q_test = pr_auc_score(  y_test, lgbmc.predict_proba(X_test[numerical])[:, 1]  )\n",
    "    quals_train.append(q_train)\n",
    "    quals_test.append(q_test)\n",
    "\n",
    "plt.figure(figsize=(12, 6))\n",
    "plt.xlabel('Number of trees')\n",
    "plt.ylabel('AUC-PR')\n",
    "    \n",
    "plt.plot(params['n_estimators'], quals_train, marker='.', label='train')\n",
    "plt.plot(params['n_estimators'], quals_test, marker='.', label='test')\n",
    "plt.legend()\n",
    "plt.show()"
   ]
  },
  {
   "cell_type": "code",
   "execution_count": 42,
   "metadata": {},
   "outputs": [],
   "source": [
    "params = {'max_depth': [1, 2, 3, 4, 5, 10, 15],\n",
    "            'n_estimators': [20, 25, 30, 70, 75, 80, 95, 100, 105],\n",
    "            'learning_rate': np.logspace(-2, 0, num=8),\n",
    "            'loss_function': ['Logloss']\n",
    "         }"
   ]
  },
  {
   "cell_type": "code",
   "execution_count": 43,
   "metadata": {},
   "outputs": [
    {
     "data": {
      "image/png": "[encoded data removed]",
      "text/plain": [
       "<Figure size 864x432 with 1 Axes>"
      ]
     },
     "metadata": {
      "needs_background": "light"
     },
     "output_type": "display_data"
    }
   ],
   "source": [
    "quals_train = []\n",
    "quals_test = []\n",
    "\n",
    "for n in params['n_estimators']:\n",
    "    lgbmc = LGBMClassifier(n_estimators=n)\n",
    "    lgbmc.fit(X_train[numerical], y_train)\n",
    "        \n",
    "    q_train = pr_auc_score(  y_train, lgbmc.predict_proba(X_train[numerical])[:, 1]  )\n",
    "    q_test = pr_auc_score(  y_test, lgbmc.predict_proba(X_test[numerical])[:, 1]  )\n",
    "    quals_train.append(q_train)\n",
    "    quals_test.append(q_test)\n",
    "\n",
    "plt.figure(figsize=(12, 6))\n",
    "plt.xlabel('Number of trees')\n",
    "plt.ylabel('AUC-PR')\n",
    "    \n",
    "plt.plot(params['n_estimators'], quals_train, marker='.', label='train')\n",
    "plt.plot(params['n_estimators'], quals_test, marker='.', label='test')\n",
    "plt.legend()\n",
    "plt.show()"
   ]
  },
  {
   "cell_type": "markdown",
   "metadata": {},
   "source": [
    "Итого: оптимальное число деревьев ```n_estimators=70```."
   ]
  },
  {
   "cell_type": "code",
   "execution_count": 44,
   "metadata": {},
   "outputs": [
    {
     "data": {
      "image/png": "[encoded data removed]",
      "text/plain": [
       "<Figure size 864x432 with 1 Axes>"
      ]
     },
     "metadata": {
      "needs_background": "light"
     },
     "output_type": "display_data"
    }
   ],
   "source": [
    "trees = 70\n",
    "\n",
    "quals_train = []\n",
    "quals_test = []\n",
    "\n",
    "for d in params['max_depth']:\n",
    "    lgbmc = LGBMClassifier(n_estimators=trees, max_depth=d)\n",
    "    lgbmc.fit(X_train[numerical], y_train)\n",
    "        \n",
    "    q_train = pr_auc_score(  y_train, lgbmc.predict_proba(X_train[numerical])[:, 1]  )\n",
    "    q_test = pr_auc_score(  y_test, lgbmc.predict_proba(X_test[numerical])[:, 1]  )\n",
    "    quals_train.append(q_train)\n",
    "    quals_test.append(q_test)\n",
    "\n",
    "plt.figure(figsize=(12, 6))\n",
    "plt.xlabel('Depth of trees')\n",
    "plt.ylabel('AUC-PR')\n",
    "    \n",
    "plt.plot(params['max_depth'], quals_train, marker='.', label='train')\n",
    "plt.plot(params['max_depth'], quals_test, marker='.', label='test')\n",
    "plt.legend()\n",
    "plt.show()"
   ]
  },
  {
   "cell_type": "markdown",
   "metadata": {},
   "source": [
    "Итого: оптимальное глубина деревьев ```max_depth=5```."
   ]
  },
  {
   "cell_type": "code",
   "execution_count": 45,
   "metadata": {},
   "outputs": [
    {
     "data": {
      "image/png": "[encoded data removed]",
      "text/plain": [
       "<Figure size 864x432 with 1 Axes>"
      ]
     },
     "metadata": {
      "needs_background": "light"
     },
     "output_type": "display_data"
    }
   ],
   "source": [
    "trees = 70\n",
    "depth = 5\n",
    "quals_train = []\n",
    "quals_test = []\n",
    "\n",
    "for eta in params['learning_rate']:\n",
    "    lgbmc = LGBMClassifier(n_estimators=trees, max_depth=depth, learning_rate=eta)\n",
    "    lgbmc.fit(X_train[numerical], y_train)\n",
    "        \n",
    "    q_train = pr_auc_score(  y_train, lgbmc.predict_proba(X_train[numerical])[:, 1]  )\n",
    "    q_test = pr_auc_score(  y_test, lgbmc.predict_proba(X_test[numerical])[:, 1]  )\n",
    "    quals_train.append(q_train)\n",
    "    quals_test.append(q_test)\n",
    "\n",
    "plt.figure(figsize=(12, 6))\n",
    "plt.xlabel('Learning rate. Loss')\n",
    "plt.ylabel('AUC-PR')\n",
    "    \n",
    "plt.plot(params['learning_rate'], quals_train, marker='.', label='train')\n",
    "plt.plot(params['learning_rate'], quals_test, marker='.', label='test')\n",
    "plt.legend()\n",
    "plt.show()"
   ]
  },
  {
   "cell_type": "code",
   "execution_count": 46,
   "metadata": {},
   "outputs": [
    {
     "data": {
      "text/plain": [
       "0.517947467923121"
      ]
     },
     "execution_count": 46,
     "metadata": {},
     "output_type": "execute_result"
    }
   ],
   "source": [
    "eta = params['learning_rate'][-2]\n",
    "eta"
   ]
  },
  {
   "cell_type": "markdown",
   "metadata": {},
   "source": [
    "Итого: оптимальный темп обучения ```learning_rate=0.517947467923121```."
   ]
  },
  {
   "cell_type": "code",
   "execution_count": 47,
   "metadata": {},
   "outputs": [
    {
     "data": {
      "text/plain": [
       "LGBMClassifier(learning_rate=0.517947467923121, max_depth=5, n_estimators=70)"
      ]
     },
     "execution_count": 47,
     "metadata": {},
     "output_type": "execute_result"
    }
   ],
   "source": [
    "model = LGBMClassifier(n_estimators=70, max_depth=5, learning_rate=0.517947467923121)\n",
    "model.fit(X_train[numerical], y_train)"
   ]
  },
  {
   "cell_type": "code",
   "execution_count": 48,
   "metadata": {},
   "outputs": [],
   "source": [
    "preds_proba = model.predict_proba(X_test[numerical])\n",
    "precision, recall, thresholds = precision_recall_curve(y_test, preds_proba[:,1])"
   ]
  },
  {
   "cell_type": "code",
   "execution_count": 49,
   "metadata": {},
   "outputs": [
    {
     "data": {
      "image/png": "[encoded data removed]",
      "text/plain": [
       "<Figure size 576x576 with 1 Axes>"
      ]
     },
     "metadata": {
      "needs_background": "light"
     },
     "output_type": "display_data"
    }
   ],
   "source": [
    "draw_pr_curve(precision, recall)"
   ]
  },
  {
   "cell_type": "code",
   "execution_count": 50,
   "metadata": {},
   "outputs": [
    {
     "data": {
      "text/plain": [
       "0.20562433820384193"
      ]
     },
     "execution_count": 50,
     "metadata": {},
     "output_type": "execute_result"
    }
   ],
   "source": [
    "auc(recall, precision)"
   ]
  },
  {
   "cell_type": "markdown",
   "metadata": {},
   "source": [
    "Было: 0.23581261749192228\n",
    "<br>У CatBoost после подбора: 0.22578592101886674"
   ]
  },
  {
   "cell_type": "markdown",
   "metadata": {},
   "source": [
    "**Вывод**:\n",
    "<br>*CatBoost* обходится небольшим числом деревьев небольшой глубины, но learning rate достаточно большой, что как раз и компенсирует небольшое количество деревьев.\n",
    "<br>*LightGBM* требует большого числа деревьев и несколько большей глубины, learning rate попрежнему солидный. Каждое отдельное дерево учится быстрее и менее увлекательно, чем в CatBoosst."
   ]
  },
  {
   "cell_type": "markdown",
   "metadata": {},
   "source": [
    "---"
   ]
  },
  {
   "cell_type": "markdown",
   "metadata": {},
   "source": [
    "Добавим категориальные признаки к вещественным следующими способами:\n",
    "\n",
    "* как OHE признаки\n",
    "* как счетчики со сглаживанием"
   ]
  },
  {
   "cell_type": "code",
   "execution_count": 51,
   "metadata": {},
   "outputs": [],
   "source": [
    "from sklearn.pipeline import Pipeline\n",
    "from sklearn.compose import ColumnTransformer\n",
    "from sklearn.preprocessing import OneHotEncoder\n",
    "from sklearn.preprocessing import StandardScaler"
   ]
  },
  {
   "cell_type": "code",
   "execution_count": 52,
   "metadata": {},
   "outputs": [
    {
     "data": {
      "text/plain": [
       "(150679, 289)"
      ]
     },
     "execution_count": 52,
     "metadata": {},
     "output_type": "execute_result"
    }
   ],
   "source": [
    "column_ohe_transformer = ColumnTransformer([\n",
    "                                            ('ohe', OneHotEncoder(handle_unknown=\"ignore\"), categorical),\n",
    "                                            ('scaling', StandardScaler(), numerical)\n",
    "                                        ])\n",
    "\n",
    "X_train_ohe = column_ohe_transformer.fit_transform(X_train)\n",
    "X_test_ohe = column_ohe_transformer.transform(X_test)\n",
    "\n",
    "X_train_ohe.shape"
   ]
  },
  {
   "cell_type": "code",
   "execution_count": 53,
   "metadata": {},
   "outputs": [
    {
     "data": {
      "text/plain": [
       "<catboost.core.CatBoostClassifier at 0x1a34aef4e0>"
      ]
     },
     "execution_count": 53,
     "metadata": {},
     "output_type": "execute_result"
    }
   ],
   "source": [
    "cbc = CatBoostClassifier(loss_function='Logloss',\n",
    "                        n_estimators=15,\n",
    "                        depth=3,\n",
    "                        learning_rate=0.517947467923121,\n",
    "                        verbose=False)\n",
    "cbc.fit(X_train_ohe, y_train)"
   ]
  },
  {
   "cell_type": "code",
   "execution_count": 54,
   "metadata": {},
   "outputs": [
    {
     "name": "stdout",
     "output_type": "stream",
     "text": [
      "0.22557642106419099 0.23219087991304715\n"
     ]
    }
   ],
   "source": [
    "q_train = pr_auc_score(  y_train, cbc.predict_proba(X_train_ohe)[:, 1]  )\n",
    "q_test = pr_auc_score(  y_test, cbc.predict_proba(X_test_ohe)[:, 1]  )\n",
    "\n",
    "print(q_train, q_test)"
   ]
  },
  {
   "cell_type": "code",
   "execution_count": 55,
   "metadata": {},
   "outputs": [
    {
     "data": {
      "text/plain": [
       "<catboost.core.CatBoostClassifier at 0x1a34aeff98>"
      ]
     },
     "execution_count": 55,
     "metadata": {},
     "output_type": "execute_result"
    }
   ],
   "source": [
    "cbc = CatBoostClassifier(verbose=False)\n",
    "cbc.fit(X_train_ohe, y_train)"
   ]
  },
  {
   "cell_type": "code",
   "execution_count": 56,
   "metadata": {},
   "outputs": [
    {
     "name": "stdout",
     "output_type": "stream",
     "text": [
      "0.48411500156762743 0.24042806035691758\n"
     ]
    }
   ],
   "source": [
    "q_train = pr_auc_score(  y_train, cbc.predict_proba(X_train_ohe)[:, 1]  )\n",
    "q_test = pr_auc_score(  y_test, cbc.predict_proba(X_test_ohe)[:, 1]  )\n",
    "\n",
    "print(q_train, q_test)"
   ]
  },
  {
   "cell_type": "markdown",
   "metadata": {},
   "source": [
    "За счет того, что модель стала сама по себе сложнее, мы наблюдаем, что при старых параметрах у нас недообучение, а при стандартных оно обучается и все хорошо."
   ]
  },
  {
   "cell_type": "code",
   "execution_count": 57,
   "metadata": {},
   "outputs": [
    {
     "data": {
      "text/plain": [
       "LGBMClassifier(learning_rate=0.517947467923121, max_depth=5, n_estimators=70)"
      ]
     },
     "execution_count": 57,
     "metadata": {},
     "output_type": "execute_result"
    }
   ],
   "source": [
    "lgbmc = LGBMClassifier(n_estimators=70, max_depth=5, learning_rate=0.517947467923121)\n",
    "lgbmc.fit(X_train_ohe, y_train)"
   ]
  },
  {
   "cell_type": "code",
   "execution_count": 58,
   "metadata": {},
   "outputs": [
    {
     "name": "stdout",
     "output_type": "stream",
     "text": [
      "0.38342578653147985 0.20486737228688984\n"
     ]
    }
   ],
   "source": [
    "q_train = pr_auc_score(y_train, lgbmc.predict_proba(X_train_ohe)[:, 1])\n",
    "q_test = pr_auc_score(y_test, lgbmc.predict_proba(X_test_ohe)[:, 1])\n",
    "\n",
    "print(q_train, q_test)"
   ]
  },
  {
   "cell_type": "code",
   "execution_count": 59,
   "metadata": {},
   "outputs": [
    {
     "data": {
      "text/plain": [
       "LGBMClassifier()"
      ]
     },
     "execution_count": 59,
     "metadata": {},
     "output_type": "execute_result"
    }
   ],
   "source": [
    "lgbmc = LGBMClassifier()\n",
    "lgbmc.fit(X_train_ohe, y_train)"
   ]
  },
  {
   "cell_type": "code",
   "execution_count": 60,
   "metadata": {},
   "outputs": [
    {
     "name": "stdout",
     "output_type": "stream",
     "text": [
      "0.34501355310700166 0.24161524734410256\n"
     ]
    }
   ],
   "source": [
    "q_train = pr_auc_score(y_train, lgbmc.predict_proba(X_train_ohe)[:, 1])\n",
    "q_test = pr_auc_score(y_test, lgbmc.predict_proba(X_test_ohe)[:, 1])\n",
    "\n",
    "print(q_train, q_test)"
   ]
  },
  {
   "cell_type": "markdown",
   "metadata": {},
   "source": [
    "Тоже самое, но уже заметно лучше."
   ]
  },
  {
   "cell_type": "markdown",
   "metadata": {},
   "source": [
    "Теперь попробуем счетчики:"
   ]
  },
  {
   "cell_type": "code",
   "execution_count": 61,
   "metadata": {},
   "outputs": [],
   "source": [
    "from sklearn.base import BaseEstimator, TransformerMixin"
   ]
  },
  {
   "cell_type": "code",
   "execution_count": 62,
   "metadata": {},
   "outputs": [],
   "source": [
    "class SmoothCounterEncoding(BaseEstimator, TransformerMixin):\n",
    "    def __init__(self, sigma, c, prior=None):\n",
    "        self.stats = dict()\n",
    "        self.sigma = sigma\n",
    "        self.c = c\n",
    "        self.prior = prior\n",
    "    \n",
    "    def fit(self, X, y):\n",
    "        if self.prior is None:\n",
    "            self.prior = y.mean()\n",
    "            \n",
    "        for col in X.columns:\n",
    "            cur_stats = (X[col][y == 1].value_counts() + self.c * self.prior) / \\\n",
    "                            (X[col].value_counts() + self.c) + \\\n",
    "                                np.random.normal(0, self.sigma, size=X[col].nunique())\n",
    "            self.stats[col] = cur_stats.to_dict()\n",
    "        \n",
    "        return self\n",
    "        \n",
    "    def columns_transform(self, x, columns):\n",
    "        x_new = np.zeros(x.shape, dtype=float)\n",
    "        it = 0\n",
    "        for col in columns:\n",
    "            x_new[it] = float(self.stats[col].get(x[col], 0))\n",
    "            it += 1\n",
    "            \n",
    "        return x_new\n",
    "\n",
    "    def transform(self, X):\n",
    "        X_copy = X.copy()\n",
    "        X_copy = X_copy.apply(self.columns_transform, axis=1, columns=X.columns, result_type='expand')\n",
    "        \n",
    "        return X_copy"
   ]
  },
  {
   "cell_type": "code",
   "execution_count": 63,
   "metadata": {},
   "outputs": [],
   "source": [
    "column_counter_transformer = ColumnTransformer([\n",
    "                                                ('counter', SmoothCounterEncoding(0.05, 10), categorical),\n",
    "                                                ('scaling', StandardScaler(), numerical)\n",
    "                                            ])"
   ]
  },
  {
   "cell_type": "code",
   "execution_count": 64,
   "metadata": {},
   "outputs": [
    {
     "data": {
      "text/plain": [
       "(150679, 120)"
      ]
     },
     "execution_count": 64,
     "metadata": {},
     "output_type": "execute_result"
    }
   ],
   "source": [
    "X_train_cnt = column_counter_transformer.fit_transform(X_train, y_train)\n",
    "X_test_cnt = column_counter_transformer.transform(X_test)\n",
    "\n",
    "X_train_cnt.shape"
   ]
  },
  {
   "cell_type": "code",
   "execution_count": null,
   "metadata": {},
   "outputs": [],
   "source": []
  },
  {
   "cell_type": "markdown",
   "metadata": {},
   "source": [
    "Наблюдаем разницу в shape'ах между X_train_ohe (почти 300) и X_train_cnt."
   ]
  },
  {
   "cell_type": "code",
   "execution_count": 65,
   "metadata": {},
   "outputs": [
    {
     "data": {
      "text/plain": [
       "<catboost.core.CatBoostClassifier at 0x1a189df4e0>"
      ]
     },
     "execution_count": 65,
     "metadata": {},
     "output_type": "execute_result"
    }
   ],
   "source": [
    "cbc = CatBoostClassifier(loss_function='Logloss',\n",
    "                            n_estimators=15,\n",
    "                            depth=3,\n",
    "                            learning_rate=0.517947467923121,\n",
    "                            verbose=False)\n",
    "cbc.fit(X_train_cnt, y_train)"
   ]
  },
  {
   "cell_type": "code",
   "execution_count": 66,
   "metadata": {},
   "outputs": [
    {
     "name": "stdout",
     "output_type": "stream",
     "text": [
      "0.22684688581011425 0.23037730923709376\n"
     ]
    }
   ],
   "source": [
    "q_train = pr_auc_score(y_train, cbc.predict_proba(X_train_cnt)[:, 1])\n",
    "q_test = pr_auc_score(y_test, cbc.predict_proba(X_test_cnt)[:, 1])\n",
    "\n",
    "print(q_train, q_test)"
   ]
  },
  {
   "cell_type": "code",
   "execution_count": 67,
   "metadata": {},
   "outputs": [
    {
     "data": {
      "text/plain": [
       "<catboost.core.CatBoostClassifier at 0x1a189ca4a8>"
      ]
     },
     "execution_count": 67,
     "metadata": {},
     "output_type": "execute_result"
    }
   ],
   "source": [
    "cbc = CatBoostClassifier(verbose=False)\n",
    "cbc.fit(X_train_ohe, y_train)"
   ]
  },
  {
   "cell_type": "code",
   "execution_count": 68,
   "metadata": {},
   "outputs": [
    {
     "data": {
      "text/plain": [
       "<catboost.core.CatBoostClassifier at 0x1a189df6d8>"
      ]
     },
     "execution_count": 68,
     "metadata": {},
     "output_type": "execute_result"
    }
   ],
   "source": [
    "cbc = CatBoostClassifier(verbose=False)\n",
    "cbc.fit(X_train_cnt, y_train)"
   ]
  },
  {
   "cell_type": "code",
   "execution_count": 69,
   "metadata": {},
   "outputs": [
    {
     "name": "stdout",
     "output_type": "stream",
     "text": [
      "0.4884767885669146 0.24366939374092939\n"
     ]
    }
   ],
   "source": [
    "q_train = pr_auc_score(  y_train, cbc.predict_proba(X_train_cnt)[:, 1]  )\n",
    "q_test = pr_auc_score(  y_test, cbc.predict_proba(X_test_cnt)[:, 1]  )\n",
    "\n",
    "print(q_train, q_test)"
   ]
  },
  {
   "cell_type": "markdown",
   "metadata": {},
   "source": [
    "За счет того, что модель стала сама по себе сложнее, мы наблюдаем, что при старых параметрах у нас недообучение, а при стандартных оно обучается и все хорошо."
   ]
  },
  {
   "cell_type": "markdown",
   "metadata": {},
   "source": [
    "Улучшения как-то не наблюдается."
   ]
  },
  {
   "cell_type": "code",
   "execution_count": 70,
   "metadata": {},
   "outputs": [
    {
     "data": {
      "text/plain": [
       "LGBMClassifier(learning_rate=0.517947467923121, max_depth=5, n_estimators=70)"
      ]
     },
     "execution_count": 70,
     "metadata": {},
     "output_type": "execute_result"
    }
   ],
   "source": [
    "lgbmc = LGBMClassifier(n_estimators=70, max_depth=5, learning_rate=0.517947467923121)\n",
    "lgbmc.fit(X_train_cnt, y_train)"
   ]
  },
  {
   "cell_type": "code",
   "execution_count": 71,
   "metadata": {},
   "outputs": [
    {
     "name": "stdout",
     "output_type": "stream",
     "text": [
      "0.38839180783902694 0.200372784081422\n"
     ]
    }
   ],
   "source": [
    "q_train = pr_auc_score(y_train, lgbmc.predict_proba(X_train_cnt)[:, 1])\n",
    "q_test = pr_auc_score(y_test, lgbmc.predict_proba(X_test_cnt)[:, 1])\n",
    "\n",
    "print(q_train, q_test)"
   ]
  },
  {
   "cell_type": "code",
   "execution_count": 72,
   "metadata": {},
   "outputs": [
    {
     "data": {
      "text/plain": [
       "LGBMClassifier()"
      ]
     },
     "execution_count": 72,
     "metadata": {},
     "output_type": "execute_result"
    }
   ],
   "source": [
    "lgbmc = LGBMClassifier()\n",
    "lgbmc.fit(X_train_cnt, y_train)"
   ]
  },
  {
   "cell_type": "code",
   "execution_count": 73,
   "metadata": {},
   "outputs": [
    {
     "name": "stdout",
     "output_type": "stream",
     "text": [
      "0.3398457286249838 0.24575143426621038\n"
     ]
    }
   ],
   "source": [
    "q_train = pr_auc_score(y_train, lgbmc.predict_proba(X_train_cnt)[:, 1])\n",
    "q_test = pr_auc_score(y_test, lgbmc.predict_proba(X_test_cnt)[:, 1])\n",
    "\n",
    "print(q_train, q_test)"
   ]
  },
  {
   "cell_type": "markdown",
   "metadata": {},
   "source": [
    "И здесь тоже улучшения не наблюдается (скорее, ухудшение). Но зато время обучения заметно сократилось."
   ]
  },
  {
   "cell_type": "markdown",
   "metadata": {},
   "source": [
    "Попробуем встроенные методы обработки категориальных признаков (правда придется использовать только categorical_str, ибо CatBoost не поддерживает float64 категориальные признаки):"
   ]
  },
  {
   "cell_type": "code",
   "execution_count": 74,
   "metadata": {},
   "outputs": [
    {
     "data": {
      "text/plain": [
       "<catboost.core.CatBoostClassifier at 0x1a35536828>"
      ]
     },
     "execution_count": 74,
     "metadata": {},
     "output_type": "execute_result"
    }
   ],
   "source": [
    "cbc = CatBoostClassifier(verbose=False)\n",
    "cbc.fit(X_train, y_train, categorical_str)"
   ]
  },
  {
   "cell_type": "code",
   "execution_count": 75,
   "metadata": {},
   "outputs": [
    {
     "name": "stdout",
     "output_type": "stream",
     "text": [
      "0.43998044434522343 0.24536428431064164\n"
     ]
    }
   ],
   "source": [
    "q_train = pr_auc_score(y_train, cbc.predict_proba(X_train)[:, 1])\n",
    "q_test = pr_auc_score(y_test, cbc.predict_proba(X_test)[:, 1])\n",
    "\n",
    "print(q_train, q_test)"
   ]
  },
  {
   "cell_type": "markdown",
   "metadata": {},
   "source": [
    "Встроенный в LGBM обработчик категориальных признаков может также работать только с преобразованными к int64 признаками. Но здесь мы можем ему помочь:"
   ]
  },
  {
   "cell_type": "code",
   "execution_count": 76,
   "metadata": {},
   "outputs": [],
   "source": [
    "from sklearn.preprocessing import OrdinalEncoder"
   ]
  },
  {
   "cell_type": "code",
   "execution_count": 77,
   "metadata": {},
   "outputs": [],
   "source": [
    "column_transformer = ColumnTransformer([\n",
    "                                        ('ordinal', OrdinalEncoder(), categorical),\n",
    "                                        ('scaling', StandardScaler(), numerical)\n",
    "                                    ])"
   ]
  },
  {
   "cell_type": "code",
   "execution_count": 78,
   "metadata": {},
   "outputs": [
    {
     "data": {
      "text/plain": [
       "(150679, 120)"
      ]
     },
     "execution_count": 78,
     "metadata": {},
     "output_type": "execute_result"
    }
   ],
   "source": [
    "column_transformer.fit(X)\n",
    "\n",
    "X_train_ord = column_transformer.transform(X_train)\n",
    "X_test_ord = column_transformer.transform(X_test)\n",
    "\n",
    "X_train_ord.shape"
   ]
  },
  {
   "cell_type": "code",
   "execution_count": 79,
   "metadata": {},
   "outputs": [
    {
     "data": {
      "text/plain": [
       "array([  0,   1,   2,   3,   9,  10,  11,  12,  13,  20,  21,  22,  23,\n",
       "        24,  25,  26,  28,  29,  30,  32,  33,  34,  35,  36,  37,  38,\n",
       "        84,  85,  87,  88,  94,  95,  96,  97,  98,  99, 100, 101, 102,\n",
       "       103, 104, 105, 106, 107, 108, 109, 110, 111, 112, 113, 114])"
      ]
     },
     "execution_count": 79,
     "metadata": {},
     "output_type": "execute_result"
    }
   ],
   "source": [
    "cat_indecies = []\n",
    "it = 0\n",
    "for col in X.columns:\n",
    "    if col in categorical:\n",
    "        cat_indecies.append(it)\n",
    "    it += 1\n",
    "    \n",
    "np.array(cat_indecies)"
   ]
  },
  {
   "cell_type": "code",
   "execution_count": 80,
   "metadata": {},
   "outputs": [],
   "source": [
    "import warnings\n",
    "warnings.filterwarnings(\"ignore\")"
   ]
  },
  {
   "cell_type": "code",
   "execution_count": 81,
   "metadata": {},
   "outputs": [
    {
     "data": {
      "text/plain": [
       "LGBMClassifier()"
      ]
     },
     "execution_count": 81,
     "metadata": {},
     "output_type": "execute_result"
    }
   ],
   "source": [
    "lgbmc = LGBMClassifier()\n",
    "lgbmc.fit(X_train_ord, y_train, categorical_feature=cat_indecies)"
   ]
  },
  {
   "cell_type": "code",
   "execution_count": 82,
   "metadata": {},
   "outputs": [
    {
     "name": "stdout",
     "output_type": "stream",
     "text": [
      "0.33865772298013586 0.22633270439433367\n"
     ]
    }
   ],
   "source": [
    "q_train = pr_auc_score(  y_train, lgbmc.predict_proba(X_train_ord)[:, 1]  )\n",
    "q_test = pr_auc_score(  y_test, lgbmc.predict_proba(X_test_ord)[:, 1]  )\n",
    "\n",
    "print(q_train, q_test)"
   ]
  },
  {
   "cell_type": "markdown",
   "metadata": {},
   "source": [
    "**Вывод**: Счетчики жгут лучше всего для LGBM, а вот катбуст хорошо себя чувствует со своей собственной кодировкой (хотя с счетчиками чуть лучше жжет)."
   ]
  },
  {
   "cell_type": "markdown",
   "metadata": {},
   "source": [
    "---"
   ]
  },
  {
   "cell_type": "markdown",
   "metadata": {},
   "source": [
    "Реализуем блендинг подобранных в предыдущем пункте моделей (CatBoost со своим собственным отбором и LGBM со счетчиками):"
   ]
  },
  {
   "cell_type": "code",
   "execution_count": 83,
   "metadata": {},
   "outputs": [
    {
     "data": {
      "text/plain": [
       "<catboost.core.CatBoostClassifier at 0x1a34c42c50>"
      ]
     },
     "execution_count": 83,
     "metadata": {},
     "output_type": "execute_result"
    }
   ],
   "source": [
    "cbc = CatBoostClassifier(verbose=False)\n",
    "cbc.fit(X_train, y_train, categorical_str)"
   ]
  },
  {
   "cell_type": "code",
   "execution_count": 84,
   "metadata": {},
   "outputs": [
    {
     "data": {
      "text/plain": [
       "LGBMClassifier()"
      ]
     },
     "execution_count": 84,
     "metadata": {},
     "output_type": "execute_result"
    }
   ],
   "source": [
    "lgbmc = LGBMClassifier()\n",
    "lgbmc.fit(X_train_cnt, y_train)"
   ]
  },
  {
   "cell_type": "code",
   "execution_count": 85,
   "metadata": {},
   "outputs": [],
   "source": [
    "def select_weights(y_true, y_pred_1, y_pred_2):\n",
    "    grid = np.linspace(0, 1, 1000)\n",
    "    metric = []\n",
    "    \n",
    "    for w_0 in grid:\n",
    "        w_1 = 1 - w_0\n",
    "        y_a = w_0 * y_pred_1 + w_1 * y_pred_2\n",
    "        metric.append(  [pr_auc_score(y_true, y_a), w_0, w_1]  )\n",
    "        \n",
    "    return metric"
   ]
  },
  {
   "cell_type": "code",
   "execution_count": 86,
   "metadata": {},
   "outputs": [],
   "source": [
    "auc_pr_blending_train, w0, w1 = max(select_weights(\n",
    "                                                    y_train, \n",
    "                                                    cbc.predict_proba(X_train)[:, 1], \n",
    "                                                    lgbmc.predict_proba(X_train_cnt)[:, 1]\n",
    "                                                ), \n",
    "                                    key=lambda x: x[0])"
   ]
  },
  {
   "cell_type": "code",
   "execution_count": 87,
   "metadata": {},
   "outputs": [
    {
     "data": {
      "text/plain": [
       "0.43998044434522343"
      ]
     },
     "execution_count": 87,
     "metadata": {},
     "output_type": "execute_result"
    }
   ],
   "source": [
    "auc_pr_blending_train"
   ]
  },
  {
   "cell_type": "code",
   "execution_count": 88,
   "metadata": {},
   "outputs": [
    {
     "data": {
      "text/plain": [
       "0.24536428431064164"
      ]
     },
     "execution_count": 88,
     "metadata": {},
     "output_type": "execute_result"
    }
   ],
   "source": [
    "pr_auc_score(\n",
    "            y_test, w0*cbc.predict_proba(X_test)[:, 1] + \\\n",
    "            w1*lgbmc.predict_proba(X_test_cnt)[:, 1]\n",
    "            )"
   ]
  },
  {
   "cell_type": "markdown",
   "metadata": {},
   "source": [
    "**Вывод**: блендинг работает, мы улучшили наш результат."
   ]
  },
  {
   "cell_type": "markdown",
   "metadata": {},
   "source": [
    "---"
   ]
  },
  {
   "cell_type": "markdown",
   "metadata": {},
   "source": [
    "Ранее мы подобрали гиперпараметры для LightGBM и CatBoost на вещественных признаках. Визуализируем важности признаков, посчитанные этими алгоритмами, в виде горизонтального bar-plot:"
   ]
  },
  {
   "cell_type": "code",
   "execution_count": 89,
   "metadata": {},
   "outputs": [
    {
     "data": {
      "text/plain": [
       "<catboost.core.CatBoostClassifier at 0x1a34c4bd30>"
      ]
     },
     "execution_count": 89,
     "metadata": {},
     "output_type": "execute_result"
    }
   ],
   "source": [
    "cbc = CatBoostClassifier(loss_function='Logloss',\n",
    "                        n_estimators=15,\n",
    "                        depth=3,\n",
    "                        learning_rate=0.517947467923121,\n",
    "                        verbose=False)\n",
    "cbc.fit(X_train[numerical], y_train)"
   ]
  },
  {
   "cell_type": "code",
   "execution_count": 90,
   "metadata": {},
   "outputs": [],
   "source": [
    "feature_importance = list(zip(  cbc.get_feature_importance(), numerical  ))"
   ]
  },
  {
   "cell_type": "code",
   "execution_count": 91,
   "metadata": {
    "scrolled": true
   },
   "outputs": [
    {
     "data": {
      "text/plain": [
       "array([['0.0', 'AMT_INCOME_TOTAL'],\n",
       "       ['0.0', 'AMT_REQ_CREDIT_BUREAU_DAY'],\n",
       "       ['0.0', 'AMT_REQ_CREDIT_BUREAU_MON'],\n",
       "       ['0.0', 'AMT_REQ_CREDIT_BUREAU_WEEK'],\n",
       "       ['0.0', 'AMT_REQ_CREDIT_BUREAU_YEAR'],\n",
       "       ['0.0', 'APARTMENTS_MEDI'],\n",
       "       ['0.0', 'APARTMENTS_MODE'],\n",
       "       ['0.0', 'BASEMENTAREA_AVG'],\n",
       "       ['0.0', 'BASEMENTAREA_MEDI'],\n",
       "       ['0.0', 'BASEMENTAREA_MODE'],\n",
       "       ['0.0', 'CNT_CHILDREN'],\n",
       "       ['0.0', 'CNT_FAM_MEMBERS'],\n",
       "       ['0.0', 'COMMONAREA_AVG'],\n",
       "       ['0.0', 'COMMONAREA_MEDI'],\n",
       "       ['0.0', 'DAYS_REGISTRATION'],\n",
       "       ['0.0', 'ELEVATORS_AVG'],\n",
       "       ['0.0', 'ELEVATORS_MEDI'],\n",
       "       ['0.0', 'ELEVATORS_MODE'],\n",
       "       ['0.0', 'ENTRANCES_AVG'],\n",
       "       ['0.0', 'ENTRANCES_MEDI'],\n",
       "       ['0.0', 'ENTRANCES_MODE'],\n",
       "       ['0.0', 'FLOORSMAX_AVG'],\n",
       "       ['0.0', 'FLOORSMAX_MEDI'],\n",
       "       ['0.0', 'FLOORSMIN_AVG'],\n",
       "       ['0.0', 'FLOORSMIN_MEDI'],\n",
       "       ['0.0', 'FLOORSMIN_MODE'],\n",
       "       ['0.0', 'LANDAREA_AVG'],\n",
       "       ['0.0', 'LANDAREA_MEDI'],\n",
       "       ['0.0', 'LANDAREA_MODE'],\n",
       "       ['0.0', 'LIVINGAPARTMENTS_AVG'],\n",
       "       ['0.0', 'LIVINGAPARTMENTS_MEDI'],\n",
       "       ['0.0', 'LIVINGAPARTMENTS_MODE'],\n",
       "       ['0.0', 'LIVINGAREA_AVG'],\n",
       "       ['0.0', 'LIVINGAREA_MODE'],\n",
       "       ['0.0', 'NONLIVINGAPARTMENTS_AVG'],\n",
       "       ['0.0', 'NONLIVINGAPARTMENTS_MEDI'],\n",
       "       ['0.0', 'NONLIVINGAPARTMENTS_MODE'],\n",
       "       ['0.0', 'NONLIVINGAREA_AVG'],\n",
       "       ['0.0', 'NONLIVINGAREA_MEDI'],\n",
       "       ['0.0', 'NONLIVINGAREA_MODE'],\n",
       "       ['0.0', 'OBS_30_CNT_SOCIAL_CIRCLE'],\n",
       "       ['0.0', 'OBS_60_CNT_SOCIAL_CIRCLE'],\n",
       "       ['0.0', 'TOTALAREA_MODE'],\n",
       "       ['0.0', 'YEARS_BEGINEXPLUATATION_AVG'],\n",
       "       ['0.0', 'YEARS_BEGINEXPLUATATION_MEDI'],\n",
       "       ['0.0', 'YEARS_BEGINEXPLUATATION_MODE'],\n",
       "       ['0.0', 'YEARS_BUILD_MODE'],\n",
       "       ['0.03881345304252676', 'YEARS_BUILD_AVG'],\n",
       "       ['0.1331477880244872', 'LIVINGAREA_MEDI'],\n",
       "       ['0.13440615967287942', 'COMMONAREA_MODE'],\n",
       "       ['0.15387499576212402', 'HOUR_APPR_PROCESS_START'],\n",
       "       ['0.18855959002907366', 'DEF_60_CNT_SOCIAL_CIRCLE'],\n",
       "       ['0.2745584886807281', 'FLOORSMAX_MODE'],\n",
       "       ['0.28565468994530363', 'YEARS_BUILD_MEDI'],\n",
       "       ['0.4273980232704148', 'AMT_REQ_CREDIT_BUREAU_QRT'],\n",
       "       ['0.5360948059494745', 'DAYS_LAST_PHONE_CHANGE'],\n",
       "       ['0.8839613284840374', 'APARTMENTS_AVG'],\n",
       "       ['0.896569469464891', 'REGION_POPULATION_RELATIVE'],\n",
       "       ['0.915732949391198', 'DEF_30_CNT_SOCIAL_CIRCLE'],\n",
       "       ['1.002374193413293', 'DAYS_ID_PUBLISH'],\n",
       "       ['1.66195411381091', 'OWN_CAR_AGE'],\n",
       "       ['2.2262780751201534', 'AMT_CREDIT'],\n",
       "       ['2.8335706395689875', 'DAYS_EMPLOYED'],\n",
       "       ['2.9346165011436227', 'AMT_ANNUITY'],\n",
       "       ['5.49666426495964', 'DAYS_BIRTH'],\n",
       "       ['5.683223552219398', 'AMT_GOODS_PRICE'],\n",
       "       ['11.887471701456528', 'EXT_SOURCE_1'],\n",
       "       ['28.96372200988233', 'EXT_SOURCE_2'],\n",
       "       ['32.441353206708', 'EXT_SOURCE_3']], dtype='<U32')"
      ]
     },
     "execution_count": 91,
     "metadata": {},
     "output_type": "execute_result"
    }
   ],
   "source": [
    "feature_importance.sort()\n",
    "feature_importance = np.array([*feature_importance])\n",
    "feature_importance"
   ]
  },
  {
   "cell_type": "code",
   "execution_count": 92,
   "metadata": {},
   "outputs": [
    {
     "data": {
      "image/png": "[encoded data removed]",
      "text/plain": [
       "<Figure size 1440x720 with 1 Axes>"
      ]
     },
     "metadata": {
      "needs_background": "light"
     },
     "output_type": "display_data"
    }
   ],
   "source": [
    "fig, ax = plt.subplots(1,1, figsize=(20,10))\n",
    "plt.xlabel(\"Feature\")\n",
    "plt.ylabel(\"Importance\")\n",
    "plt.title(\"Feature importance for CatBoost\")\n",
    "\n",
    "plt.bar(x=feature_importance[:,1], height=list(map(float, feature_importance[:,0])), color='blue')\n",
    "plt.xticks(rotation=90)\n",
    "plt.show()"
   ]
  },
  {
   "cell_type": "code",
   "execution_count": 93,
   "metadata": {},
   "outputs": [
    {
     "data": {
      "text/plain": [
       "LGBMClassifier(learning_rate=0.517947467923121, max_depth=5, n_estimators=70)"
      ]
     },
     "execution_count": 93,
     "metadata": {},
     "output_type": "execute_result"
    }
   ],
   "source": [
    "lgbmc = LGBMClassifier(n_estimators=70, max_depth=5, learning_rate=0.517947467923121)\n",
    "lgbmc.fit(X_train[numerical], y_train)"
   ]
  },
  {
   "cell_type": "code",
   "execution_count": 94,
   "metadata": {},
   "outputs": [],
   "source": [
    "feature_importance = list(zip(  lgbmc.feature_importances_, numerical  ))"
   ]
  },
  {
   "cell_type": "code",
   "execution_count": 95,
   "metadata": {
    "scrolled": true
   },
   "outputs": [
    {
     "data": {
      "text/plain": [
       "array([['1', 'AMT_REQ_CREDIT_BUREAU_DAY'],\n",
       "       ['2', 'FLOORSMAX_MEDI'],\n",
       "       ['2', 'FLOORSMIN_MEDI'],\n",
       "       ['3', 'CNT_CHILDREN'],\n",
       "       ['3', 'ELEVATORS_MEDI'],\n",
       "       ['3', 'YEARS_BUILD_MEDI'],\n",
       "       ['4', 'ELEVATORS_AVG'],\n",
       "       ['4', 'ELEVATORS_MODE'],\n",
       "       ['4', 'FLOORSMIN_AVG'],\n",
       "       ['4', 'NONLIVINGAPARTMENTS_MODE'],\n",
       "       ['5', 'AMT_REQ_CREDIT_BUREAU_WEEK'],\n",
       "       ['5', 'ENTRANCES_MEDI'],\n",
       "       ['5', 'FLOORSMAX_MODE'],\n",
       "       ['5', 'FLOORSMIN_MODE'],\n",
       "       ['6', 'ENTRANCES_MODE'],\n",
       "       ['7', 'APARTMENTS_MEDI'],\n",
       "       ['7', 'NONLIVINGAPARTMENTS_MEDI'],\n",
       "       ['7', 'YEARS_BEGINEXPLUATATION_MEDI'],\n",
       "       ['8', 'BASEMENTAREA_MEDI'],\n",
       "       ['8', 'DEF_30_CNT_SOCIAL_CIRCLE'],\n",
       "       ['8', 'DEF_60_CNT_SOCIAL_CIRCLE'],\n",
       "       ['8', 'NONLIVINGAPARTMENTS_AVG'],\n",
       "       ['9', 'LIVINGAPARTMENTS_AVG'],\n",
       "       ['9', 'OBS_60_CNT_SOCIAL_CIRCLE'],\n",
       "       ['10', 'AMT_REQ_CREDIT_BUREAU_MON'],\n",
       "       ['10', 'AMT_REQ_CREDIT_BUREAU_QRT'],\n",
       "       ['10', 'LIVINGAPARTMENTS_MEDI'],\n",
       "       ['10', 'LIVINGAREA_MEDI'],\n",
       "       ['10', 'NONLIVINGAREA_MEDI'],\n",
       "       ['11', 'CNT_FAM_MEMBERS'],\n",
       "       ['12', 'COMMONAREA_MODE'],\n",
       "       ['12', 'FLOORSMAX_AVG'],\n",
       "       ['13', 'OBS_30_CNT_SOCIAL_CIRCLE'],\n",
       "       ['15', 'COMMONAREA_AVG'],\n",
       "       ['15', 'LIVINGAREA_MODE'],\n",
       "       ['16', 'APARTMENTS_AVG'],\n",
       "       ['16', 'LANDAREA_MEDI'],\n",
       "       ['16', 'YEARS_BEGINEXPLUATATION_AVG'],\n",
       "       ['16', 'YEARS_BUILD_MODE'],\n",
       "       ['17', 'COMMONAREA_MEDI'],\n",
       "       ['17', 'LANDAREA_MODE'],\n",
       "       ['18', 'LIVINGAPARTMENTS_MODE'],\n",
       "       ['18', 'YEARS_BUILD_AVG'],\n",
       "       ['20', 'APARTMENTS_MODE'],\n",
       "       ['20', 'BASEMENTAREA_MODE'],\n",
       "       ['20', 'LANDAREA_AVG'],\n",
       "       ['21', 'BASEMENTAREA_AVG'],\n",
       "       ['21', 'NONLIVINGAREA_MODE'],\n",
       "       ['22', 'YEARS_BEGINEXPLUATATION_MODE'],\n",
       "       ['23', 'ENTRANCES_AVG'],\n",
       "       ['25', 'LIVINGAREA_AVG'],\n",
       "       ['25', 'TOTALAREA_MODE'],\n",
       "       ['28', 'NONLIVINGAREA_AVG'],\n",
       "       ['31', 'AMT_REQ_CREDIT_BUREAU_YEAR'],\n",
       "       ['31', 'OWN_CAR_AGE'],\n",
       "       ['33', 'HOUR_APPR_PROCESS_START'],\n",
       "       ['43', 'AMT_INCOME_TOTAL'],\n",
       "       ['53', 'REGION_POPULATION_RELATIVE'],\n",
       "       ['60', 'AMT_GOODS_PRICE'],\n",
       "       ['69', 'DAYS_LAST_PHONE_CHANGE'],\n",
       "       ['71', 'AMT_CREDIT'],\n",
       "       ['71', 'DAYS_REGISTRATION'],\n",
       "       ['76', 'DAYS_EMPLOYED'],\n",
       "       ['80', 'AMT_ANNUITY'],\n",
       "       ['85', 'DAYS_ID_PUBLISH'],\n",
       "       ['95', 'EXT_SOURCE_2'],\n",
       "       ['97', 'EXT_SOURCE_1'],\n",
       "       ['99', 'DAYS_BIRTH'],\n",
       "       ['114', 'EXT_SOURCE_3']], dtype='<U28')"
      ]
     },
     "execution_count": 95,
     "metadata": {},
     "output_type": "execute_result"
    }
   ],
   "source": [
    "feature_importance.sort()\n",
    "feature_importance = np.array([*feature_importance])\n",
    "feature_importance"
   ]
  },
  {
   "cell_type": "code",
   "execution_count": 96,
   "metadata": {},
   "outputs": [
    {
     "data": {
      "image/png": "[encoded data removed]",
      "text/plain": [
       "<Figure size 1440x720 with 1 Axes>"
      ]
     },
     "metadata": {
      "needs_background": "light"
     },
     "output_type": "display_data"
    }
   ],
   "source": [
    "fig, ax = plt.subplots(1,1, figsize=(20,10))\n",
    "plt.xlabel(\"Feature\")\n",
    "plt.ylabel(\"Importance\")\n",
    "plt.title(\"Feature importance for LightGBM\")\n",
    "\n",
    "plt.bar(x=feature_importance[:,1], height=list(map(float, feature_importance[:,0])), color='blue')\n",
    "plt.xticks(rotation=90)\n",
    "plt.show()"
   ]
  },
  {
   "cell_type": "markdown",
   "metadata": {},
   "source": [
    "Для каждого из двух алгоритмов удалим неважные признаки (обычно по bar-plot хорошо видно порог, с которого начинается \"хвост\" менее важных признаков) и обучим модель с теми же параметрами на получившихся данных. Посмотрим на результат:"
   ]
  },
  {
   "cell_type": "code",
   "execution_count": 97,
   "metadata": {},
   "outputs": [
    {
     "data": {
      "text/plain": [
       "0.22578592101886674"
      ]
     },
     "execution_count": 97,
     "metadata": {},
     "output_type": "execute_result"
    }
   ],
   "source": [
    "pr_auc_score(y_test, cbc.predict_proba(X_test[numerical])[:, 1])"
   ]
  },
  {
   "cell_type": "code",
   "execution_count": 98,
   "metadata": {},
   "outputs": [],
   "source": [
    "new_features = feature_importance[feature_importance[:,0].astype('float') >= 1][:,1]"
   ]
  },
  {
   "cell_type": "code",
   "execution_count": 99,
   "metadata": {},
   "outputs": [
    {
     "data": {
      "text/plain": [
       "<catboost.core.CatBoostClassifier at 0x1a34fe2128>"
      ]
     },
     "execution_count": 99,
     "metadata": {},
     "output_type": "execute_result"
    }
   ],
   "source": [
    "cbc = CatBoostClassifier(loss_function='Logloss',\n",
    "                        n_estimators=15,\n",
    "                        depth=3,\n",
    "                        learning_rate=0.517947467923121,\n",
    "                        verbose=False)\n",
    "cbc.fit(X_train[new_features], y_train)"
   ]
  },
  {
   "cell_type": "code",
   "execution_count": 100,
   "metadata": {},
   "outputs": [
    {
     "data": {
      "text/plain": [
       "0.2250476685817706"
      ]
     },
     "execution_count": 100,
     "metadata": {},
     "output_type": "execute_result"
    }
   ],
   "source": [
    "pr_auc_score(y_test, cbc.predict_proba(X_test[new_features])[:, 1])"
   ]
  },
  {
   "cell_type": "markdown",
   "metadata": {},
   "source": [
    "Разницы нет. Well played."
   ]
  },
  {
   "cell_type": "code",
   "execution_count": 101,
   "metadata": {},
   "outputs": [
    {
     "data": {
      "text/plain": [
       "0.20562433820384193"
      ]
     },
     "execution_count": 101,
     "metadata": {},
     "output_type": "execute_result"
    }
   ],
   "source": [
    "pr_auc_score(y_test, lgbmc.predict_proba(X_test[numerical])[:, 1])"
   ]
  },
  {
   "cell_type": "code",
   "execution_count": 102,
   "metadata": {},
   "outputs": [],
   "source": [
    "new_features = feature_importance[feature_importance[:,0].astype('int') > 15][:,1]"
   ]
  },
  {
   "cell_type": "code",
   "execution_count": 103,
   "metadata": {},
   "outputs": [
    {
     "data": {
      "text/plain": [
       "LGBMClassifier(learning_rate=0.517947467923121, max_depth=5, n_estimators=70)"
      ]
     },
     "execution_count": 103,
     "metadata": {},
     "output_type": "execute_result"
    }
   ],
   "source": [
    "lgbmc = LGBMClassifier(n_estimators=70, max_depth=5, learning_rate=0.517947467923121)\n",
    "lgbmc.fit(X_train[new_features], y_train)"
   ]
  },
  {
   "cell_type": "code",
   "execution_count": 104,
   "metadata": {},
   "outputs": [
    {
     "data": {
      "text/plain": [
       "0.19631038739100398"
      ]
     },
     "execution_count": 104,
     "metadata": {},
     "output_type": "execute_result"
    }
   ],
   "source": [
    "pr_auc_score(y_test, lgbmc.predict_proba(X_test[new_features])[:, 1])"
   ]
  },
  {
   "cell_type": "markdown",
   "metadata": {},
   "source": [
    "А вот здесь разница заметна в лучшую сторону (чего-то LGBMC() сегодня нас радует больше)."
   ]
  }
 ],
 "metadata": {
  "kernelspec": {
   "display_name": "Python 3",
   "language": "python",
   "name": "python3"
  },
  "language_info": {
   "codemirror_mode": {
    "name": "ipython",
    "version": 3
   },
   "file_extension": ".py",
   "mimetype": "text/x-python",
   "name": "python",
   "nbconvert_exporter": "python",
   "pygments_lexer": "ipython3",
   "version": "3.7.3"
  }
 },
 "nbformat": 4,
 "nbformat_minor": 2
}
