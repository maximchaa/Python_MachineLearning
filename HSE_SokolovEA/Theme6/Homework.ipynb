{
 "cells": [
  {
   "cell_type": "markdown",
   "metadata": {},
   "source": [
    "Нам предстоит воспользоваться возможностями bootstraping для оценки смещения и разброса алгоритмов машинного обучения. Делать мы это будем на данных boston:"
   ]
  },
  {
   "cell_type": "code",
   "execution_count": 1,
   "metadata": {},
   "outputs": [],
   "source": [
    "import numpy as np\n",
    "import pandas as pd\n",
    "from matplotlib import pyplot as plt\n",
    "%matplotlib inline\n",
    "from sklearn.datasets import load_boston"
   ]
  },
  {
   "cell_type": "code",
   "execution_count": 2,
   "metadata": {},
   "outputs": [],
   "source": [
    "boston = load_boston()\n",
    "\n",
    "X = boston[\"data\"]\n",
    "y = boston[\"target\"]"
   ]
  },
  {
   "cell_type": "code",
   "execution_count": 3,
   "metadata": {},
   "outputs": [
    {
     "data": {
      "text/plain": [
       "((506, 13), (506,))"
      ]
     },
     "execution_count": 3,
     "metadata": {},
     "output_type": "execute_result"
    }
   ],
   "source": [
    "X.shape, y.shape"
   ]
  },
  {
   "cell_type": "markdown",
   "metadata": {},
   "source": [
    "Ошибку алгоритма регрессии в виде суммы трех компонент: шум, смещение и разброс $$\n",
    "L(\\mu) = \n",
    "    \\mathbb{E}_{x, y}\\bigl[\\mathbb{E}_{X}\\bigl[ (y - \\mu(X)(x))^2 \\bigr]\\bigr] = \n",
    "$$\n",
    "$$\n",
    "    \\underbrace{\\mathbb{E}_{x, y}\\bigl[(y - \\mathbb{E}[y|x] )^2\\bigr]}_{\\text{шум}} + \\underbrace{\\mathbb{E}_{x}\\bigl[(\\mathbb{E}_{X}[\\mu(X)(x)] - \\mathbb{E}[y|x] )^2\\bigr]}_{\\text{смещение}} +\n",
    "    \\underbrace{\\mathbb{E}_{x}\\bigl[\\mathbb{E}_{X}\\bigl[(\\mu(X)(x) - \\mathbb{E}_{X}[\\mu(X)(x)] )^2\\bigr]\\bigr]}_{\\text{разброс}},\n",
    "$$\n",
    "* $\\mu(X)$ — алгоритм, обученный по выборке $X = \\{(x_1, y_1), \\dots (x_\\ell, y_\\ell)\\}$;\n",
    "* $\\mu(X)(x)$ — ответ алгоритма, обученного по выборке $X$, на объекте $x$;\n",
    "* $\\mathbb{E}_{X}$ — мат. ожидание по всем возможным выборкам;\n",
    "* $\\mathbb{E}_{X}[\\mu(X)(x)]$ — \"средний\" ответ алгоритма, обученного по всем возможным выборкам $X$, на объекте $x$.\n",
    "\n",
    "С помощью этой формулы мы можем анализировать свойства алгоритма обучения модели $\\mu$, если зададим вероятностную модель порождения пар $p(x, y)$.\n",
    "\n",
    "В реальных задачах мы, конечно же, не знаем распределение на парах объект - правильный ответ. Однако у нас есть набор семплов из этого распределения (обучающую выборка), и мы можем использовать его, чтобы оценивать математические ожидания. Для оценки мат. ожиданий по выборкам мы будем пользоваться бутстрэпом - методом генерации \"новых\" выборок из одной с помощью выбора объектов с возвращением. Разберем несколько шагов на пути к оценке смещения и разброса."
   ]
  },
  {
   "cell_type": "markdown",
   "metadata": {},
   "source": [
    "Для большинства моделей данных и алгоритмов обучения аналитически рассчитать математические ожидания в формулах не удастся. Однако мат. ожидания можно оценивать приближенно. Чтобы оценить математическое ожидание $\\mathbb{E}_{\\bar z} f(\\bar z)$ функции от многомерной случайной величины $\\bar z = (z_1, \\dots, z_d)$, $\\bar z \\sim p(\\bar z)$, можно сгенерировать выборку из распределения $p(\\bar z)$ и усреднить значение функции на элементах этой выборки:\n",
    "$$\\mathbb{E}_{\\bar z} f(z) = \\int f(\\bar z) p(\\bar z) d \\bar z \\approx \\frac 1 m \\sum_{i=1}^m f(\\bar z_i), \\, \\bar z_i \\sim p(\\bar z), i = 1, \\dots, m.$$\n",
    "\n",
    "Например, оценим $\\mathbb{E}_z z^2,$ $z \\sim \\mathcal{N}(\\mu=5, \\sigma=3)$ (из теории вероятностей мы знаем, что\n",
    "$\\mathbb{E}_z z^2 = \\sigma^2 + \\mu^2 = 34$):"
   ]
  },
  {
   "cell_type": "code",
   "execution_count": 4,
   "metadata": {},
   "outputs": [
    {
     "data": {
      "text/plain": [
       "34.74701525578927"
      ]
     },
     "execution_count": 4,
     "metadata": {},
     "output_type": "execute_result"
    }
   ],
   "source": [
    "z = np.random.normal(loc=5, scale=3, size=2000)\n",
    "(z**2).mean()"
   ]
  },
  {
   "cell_type": "markdown",
   "metadata": {},
   "source": [
    "Оценить мат. ожидания по $x$ и по $x, y$, встречающиеся во всех трех компонентах разложения, несложно, потому что у нас есть выборка объектов из распределения данных $p(x, y)$:\n",
    "$$ \\mathbb{E}_{x} f(x) \\approx \\frac 1 N \\sum_{i=1}^N f(x_i), \\quad\n",
    "\\mathbb{E}_{x, y} f(x, y) \\approx \\frac 1 N \\sum_{i=1}^N f(x_i, y_i),$$\n",
    "где $N$ - число объектов в выборке, $\\{(x_i, y_i)\\}_{i=1}^N$ - сама выборка. "
   ]
  },
  {
   "cell_type": "markdown",
   "metadata": {},
   "source": [
    "Чтобы оценить мат. ожидание по $X$, нам понадобится выборка из выборок:\n",
    "$$\\mathbb{E}_X f(X) \\approx \\frac 1 s \\sum_{j=1}^s f(X_j),$$\n",
    "где $X_j$ - $j$-я выборка. Чтобы их получить, мы можем воспользоваться бутстрапом - методом генерации выборок на основе выбора объектов с возвращением. Чтобы составить одну выборку, будем $N$ раз выбирать индекс объекта $i \\sim \\text{Uniform}(1 \\dots N)$ и добавлять $i$-ю пару (объект, целевая переменная) в выборку. В результате в каждой выборке могут появиться повторяющиеся объекты, а какие-то объекты могут вовсе не войти в некоторые выборки."
   ]
  },
  {
   "cell_type": "markdown",
   "metadata": {},
   "source": [
    "Итоговый алгоритм оценки смещения и разброса алгоритма $a$:\n",
    "1. Сгенерировать $s$ выборок $X_j$ методом бутстрапа.\n",
    "1. На каждой выборке $X_j$ обучить алгоритм $a_j$.\n",
    "1. Для каждой выборки $X_j$ определить множество объектов $T_j$, не вошедших в нее (out-of-bag). Вычислить предсказания алгоритма $a_j$ на объектах $T_j$. \n",
    "\n",
    "Поскольку у нас есть только один ответ для каждого объекта, мы будем считать шум равным 0, а $\\mathbb{E}[y|x]$ равным имеющемуся правильному ответу для объекта $x$. \n",
    "\n",
    "Итоговые оценки:\n",
    "* Смещение: для одного объекта - квадрат разности среднего предсказания и правильного ответа. Среднее предсказание берется только по тем алгоритмам $a_j$, для которых этот объект входил в out-of-bag выборку $T_j$. Для получения общего смещения выполнить усреденение смещений по объектам.\n",
    "* Разброс: для одного объекта - выборочная дисперсия предсказаний алгоритмов $a_j$, для которых этот объект входил в out-of-bag выборку $T_j$. Для получения общего разброса выполнить усреденение разбросов по объектам.\n",
    "* Ошибка $L$: усреднить квадраты разностей предсказания и правильного ответа по всем выполненным предсказаниям для всех объектов.\n",
    "\n",
    "В результате должно получиться, что ошибка приблизительно равна сумме смещения и разброса."
   ]
  },
  {
   "cell_type": "markdown",
   "metadata": {},
   "source": [
    "---"
   ]
  },
  {
   "cell_type": "markdown",
   "metadata": {},
   "source": [
    "Реализуем описанный алгоритм. Обратим внимание, что если объект не вошел ни в одну из out-of-bag выборок, учитывать его в вычислении итоговых величин не нужно.\n",
    "\n",
    "Для подсчета $S^2$ на лету используем quick math:\n",
    "$$\n",
    "    S^2 = \\frac{1}{n}\\sum_{i=1}^{n} (X_i - \\bar{X})^2 = \\frac{1}{n} \\sum_{i=1}^{n} (X_i^2 - 2 X_i \\bar{X} + \\overline{X}^2) = \\overline{X^2} - \\overline{X}^2 \n",
    "$$\n",
    "Поэтому достаточно поддерживать лишь первый и второй момент для вычисления выборочной дисперсии:"
   ]
  },
  {
   "cell_type": "code",
   "execution_count": 5,
   "metadata": {},
   "outputs": [],
   "source": [
    "def compute_bias_variance(regressor, X, y, num_runs=1000):\n",
    "    \"\"\"\n",
    "    :param regressor: sklearn estimator with fit(...) and predict(...) method\n",
    "    :param X: numpy-array representing training set ob objects, shape [n_obj, n_feat]\n",
    "    :param y: numpy-array representing target for training objects, shape [n_obj]\n",
    "    :param num_runs: int, number of samples (s in the description of the algorithm)\n",
    "    \n",
    "    :returns: bias (float), variance (float), error (float) \n",
    "    each value is computed using bootstrap\n",
    "    \"\"\"\n",
    "\n",
    "    n_obj = X.shape[0]\n",
    "    n_feat = X.shape[1]\n",
    "    N = int(0.5 * n_obj)\n",
    "    \n",
    "    error = np.zeros(n_obj)\n",
    "    numb_predicts = np.zeros(n_obj)\n",
    "    mean_predicts = np.zeros(n_obj)\n",
    "    sqr_predicts = np.zeros(n_obj)\n",
    "    \n",
    "    for run in range(num_runs):\n",
    "        indecies = np.sort(np.random.choice(n_obj, N, replace=True))\n",
    "        test_indecies = np.sort(np.setdiff1d(np.arange(n_obj), indecies))\n",
    "        \n",
    "        X_train, y_train = X[indecies], y[indecies]\n",
    "        X_test, y_test = X[test_indecies], y[test_indecies]\n",
    "        \n",
    "        alg = regressor.fit(X_train, y_train)\n",
    "        y_pred = alg.predict(X_test)\n",
    "            \n",
    "        numb_predicts[test_indecies] += 1\n",
    "        mean_predicts[test_indecies] += y_pred\n",
    "        sqr_predicts[test_indecies] += y_pred**2\n",
    "        error[test_indecies] += (y_test - y_pred)**2\n",
    "        \n",
    "    samples = numb_predicts > 0\n",
    "    error[samples] /= numb_predicts[samples]\n",
    "    mean_predicts[samples] /= numb_predicts[samples]\n",
    "    sqr_predicts[samples] /= numb_predicts[samples]\n",
    "    \n",
    "    \n",
    "    bias = ((mean_predicts[samples] - y[samples])**2).mean()\n",
    "    variance = (sqr_predicts[samples] - mean_predicts[samples]**2).mean()\n",
    "    error = error[samples].mean()\n",
    "    \n",
    "    return bias, variance, error"
   ]
  },
  {
   "cell_type": "markdown",
   "metadata": {},
   "source": [
    "Оценим смещение, разброс и ошибку для трех алгоритмов с гиперпараметрами по умолчанию: линейная регрессия, решающее дерево, случайный лес:"
   ]
  },
  {
   "cell_type": "code",
   "execution_count": 6,
   "metadata": {},
   "outputs": [],
   "source": [
    "from sklearn.linear_model import LinearRegression\n",
    "from sklearn.tree import DecisionTreeRegressor\n",
    "from sklearn.ensemble import RandomForestRegressor"
   ]
  },
  {
   "cell_type": "code",
   "execution_count": 7,
   "metadata": {},
   "outputs": [
    {
     "name": "stdout",
     "output_type": "stream",
     "text": [
      "BVD for LinearRegression: (23.762086765299777, 2.010073984481745, 25.77216074978146)\n",
      "BVD for DecisionTreeRegressor: (11.200194707667027, 15.522854408599153, 26.7230491162667)\n",
      "BVD for RandomForestRegressor: (12.327195399822376, 4.290163017060038, 16.617358416882386)\n"
     ]
    }
   ],
   "source": [
    "print(\"BVD for LinearRegression:\", compute_bias_variance( LinearRegression(), X, y) )\n",
    "print(\"BVD for DecisionTreeRegressor:\", compute_bias_variance( DecisionTreeRegressor(), X, y) )\n",
    "print(\"BVD for RandomForestRegressor:\", compute_bias_variance( RandomForestRegressor(n_estimators=10), X, y) )"
   ]
  },
  {
   "cell_type": "markdown",
   "metadata": {},
   "source": [
    "Линейная модель имеет малое смещение, если в данных действительно линейная зависимость, и большое, если это не так. Как видим, данные у нас совсем не линейны, поэтому смещение ожидаемое, разброс должен был быть мал при малом шуме, шум действительно мал (можно отнять суммарную ошибку от суммы смещения и разброса и увидеть очень маленькие цифры).\n",
    "\n",
    "Решающее дерево - такие модели действительно имеют малое смещение, потому что почти на любом датасете можно обучить дерево, которое абсолютно точно предсказывает ответ, но при этом разброс достаточно большой из-за высокой чувствительности к начальным данным.\n",
    "\n",
    "Случайный лес имеет такое же смещение, что и дерево, но при этом разброс значительно меньше. Композиция алгоритмов работает строго по теории."
   ]
  },
  {
   "cell_type": "markdown",
   "metadata": {},
   "source": [
    "В идеале бэггинг должен уменьшать разброс в N раз, где N - количество базовых моделей, а шум и смещение не изменять, но можно пронаблюдать, что в случае нашего случайного леса (то есть бэггинга над решающими деревьями), при 10 деревьях мы получили понижения  разброса всего в ~4 раза, это связано напрямую с очень сильным предположением для оценки ошибки выше - все алгоритмы должны быть малокоррелированы, а у нас данных очень мало (всего 506 записей) и ожидать некореллированости какой либо не приходится. При этом стоит заметить, что предположение о постоянстве смещения практически выполнено."
   ]
  },
  {
   "cell_type": "markdown",
   "metadata": {},
   "source": [
    "---"
   ]
  },
  {
   "cell_type": "markdown",
   "metadata": {},
   "source": [
    "Реализуем фукнцию plot_predictions. Она должна выполнять следующие действия:\n",
    "1. Случайно выбирать num_test_objects пар объект-целевая переменная из выборки X, y. Получится две выборки: маленькая X_test, y_test (выбранные тестовые объекты) и X_train, y_train (остальные объекты).\n",
    "1. Генерировать num_runs выборок методом бутстарапа из X_train, y_train. На каждой выборке обучить алгоритм regressor и делать предсказания для X_test.\n",
    "1. Рисовать scatter-график. По оси абсцисс - объекты тестовой выборки (номера от 0 до num_test_objects-1), по оси ординат - предсказания. В итоге получится num_test_objects столбиков с точками. Для каждого тестового объекта отмечает одним цветом все предсказания для него, а также черным цветом отмечает правильный ответ.\n",
    "1. Подписывает оси и название графика (аргумент title)."
   ]
  },
  {
   "cell_type": "code",
   "execution_count": 8,
   "metadata": {},
   "outputs": [],
   "source": [
    "from sklearn.model_selection import train_test_split"
   ]
  },
  {
   "cell_type": "code",
   "execution_count": 9,
   "metadata": {},
   "outputs": [],
   "source": [
    "def plot_predictions(regressor, X, y, num_runs=100, num_test_objects=10, title=\"\", ax=None):\n",
    "    predicts = []\n",
    "    X_train, X_test, y_train, y_test = train_test_split(X, y, test_size=num_test_objects, random_state=42)\n",
    "    n_train = X_train.shape[0]\n",
    "    N = int(0.5 * n_train)\n",
    "    \n",
    "    for run in range(num_runs):\n",
    "        indecies = np.sort(np.random.choice(n_train, N, replace=True))\n",
    "        X_boot, y_boot = X_train[indecies], y_train[indecies]\n",
    "        \n",
    "        alg = regressor.fit(X_boot, y_boot)\n",
    "        y_pred = alg.predict(X_test)\n",
    "        predicts.append(y_pred)\n",
    "    predicts = np.array(predicts)\n",
    "\n",
    "    objs = np.arange(num_test_objects)\n",
    "    \n",
    "    if ax is None:\n",
    "        ax = plt.gca()\n",
    "    \n",
    "    ax.set_xticks(objs)\n",
    "    ax.grid(alpha=0.3)\n",
    "    \n",
    "    ax.set_title(title)\n",
    "    ax.set_xlabel('Objects')\n",
    "    ax.set_ylabel('Target')\n",
    "    \n",
    "    ax.scatter(np.tile(objs, num_runs), predicts.flatten(), color='blue')\n",
    "    ax.scatter(objs, y_test, color='black')"
   ]
  },
  {
   "cell_type": "markdown",
   "metadata": {},
   "source": [
    "Нарисуем графики для линейной регрессии, решающего дерева и случайного леса (три графика в строчку с одинаковой осью ординат):"
   ]
  },
  {
   "cell_type": "code",
   "execution_count": 10,
   "metadata": {},
   "outputs": [
    {
     "data": {
      "image/png": "[encoded data removed]",
      "text/plain": [
       "<Figure size 1152x432 with 3 Axes>"
      ]
     },
     "metadata": {
      "needs_background": "light"
     },
     "output_type": "display_data"
    }
   ],
   "source": [
    "fig, axs = plt.subplots(1, 3, sharey=True, figsize=(16, 6))\n",
    "\n",
    "plot_predictions( LinearRegression(), X, y, title=\"Linear regression\", ax=axs[0] )\n",
    "plot_predictions( DecisionTreeRegressor(), X, y, title=\"Decision tree\", ax=axs[1] )\n",
    "plot_predictions( RandomForestRegressor(n_estimators=10), X, y, title=\"Random forest\", ax=axs[2] )"
   ]
  },
  {
   "cell_type": "markdown",
   "metadata": {},
   "source": [
    "В линейной регрессии смещение видно невооруженным взглядом, но разброс достаточно мал (сравнительно с решающим деревом).\n",
    "\n",
    "Решающее дерево в среднем гораздо лучше сконцентировано вокруг истинного значения, но большое число выбросов несколько портит итоговый ответ модели.\n",
    "\n",
    "Случайный лес исправляет главный недостаток решающего дерева и избавляет нас от выбросов, хотя полученный разброс все равно несколько больше, чем у регрессии. Также наследуется лучшее свойство решающего дерева: малая смещенность."
   ]
  },
  {
   "cell_type": "markdown",
   "metadata": {},
   "source": [
    "---"
   ]
  },
  {
   "cell_type": "markdown",
   "metadata": {},
   "source": [
    "Построим графики зависимости смещения и разброса от гиперпараметров решающего дерева max_depth (от 1 до 10) и max_features (от 1 до X.shape[1]):"
   ]
  },
  {
   "cell_type": "code",
   "execution_count": 11,
   "metadata": {},
   "outputs": [],
   "source": [
    "depth_bias = []\n",
    "depth_variance = []\n",
    "depths = np.arange(1, 11)\n",
    "for d in depths:\n",
    "    bias, var, _ = compute_bias_variance(DecisionTreeRegressor(max_depth=d), X, y)\n",
    "    depth_bias.append(bias)\n",
    "    depth_variance.append(var)"
   ]
  },
  {
   "cell_type": "code",
   "execution_count": 12,
   "metadata": {},
   "outputs": [],
   "source": [
    "feat_bias = []\n",
    "feat_variance = []\n",
    "features = np.arange(1, X.shape[1])\n",
    "for f in features:\n",
    "    bias, var, _ = compute_bias_variance(DecisionTreeRegressor(max_features=f), X, y)\n",
    "    feat_bias.append(bias)\n",
    "    feat_variance.append(var)"
   ]
  },
  {
   "cell_type": "code",
   "execution_count": 13,
   "metadata": {},
   "outputs": [
    {
     "data": {
      "image/png": "[encoded data removed]",
      "text/plain": [
       "<Figure size 1152x432 with 2 Axes>"
      ]
     },
     "metadata": {
      "needs_background": "light"
     },
     "output_type": "display_data"
    }
   ],
   "source": [
    "fig, axs = plt.subplots(1, 2, sharey=True, figsize=(16,6))\n",
    "    \n",
    "axs[0].set_xticks(depths)\n",
    "axs[0].grid(alpha=0.3)   \n",
    "axs[0].set_title('Depth tree / error')\n",
    "axs[0].set_xlabel('Depth of tree')\n",
    "axs[0].set_ylabel('Error')\n",
    "    \n",
    "axs[0].plot(depths, depth_bias, label='Bias')\n",
    "axs[0].plot(depths, depth_variance, label='Variance')\n",
    "axs[0].legend()\n",
    "\n",
    "axs[1].set_xticks(features)\n",
    "axs[1].grid(alpha=0.3)  \n",
    "axs[1].set_title('Max features / error')\n",
    "axs[1].set_xlabel('Max features')\n",
    "    \n",
    "axs[1].plot(features, feat_bias, label='Bias')\n",
    "axs[1].plot(features, feat_variance, label='Variance')\n",
    "axs[1].legend()\n",
    "\n",
    "plt.show()"
   ]
  },
  {
   "cell_type": "markdown",
   "metadata": {},
   "source": [
    "Уменьшение глубины дерева ухудшает способности дерева обучаться, оно не может как либо подстроится даже под обучающую выборку, поэтому смещение поначалу большое. С другой стороны, модель проще, поэтому разброс при малой глубине небольшой: вполне однозначно дает ответы и не так значительно подстраиваемся под выборку.\n",
    "\n",
    "Выбирание признака max_features случайным образом резко увеличивает разброс -- наш алгоритм начинает больше полагаться на случайность и от раза к разу восстановить прошлые предсказания и как-то их стабилизировать становится сложнее. Также при этом за счет ухудшения возможности к обучению при малом значении рассматриваемых признаков возрастает и разброс.\n",
    "\n",
    "Оптимальная глубина дерева либо 4, либо 5 (нужно тестировать), а оптимальное число фич, которые рассмтариваются при сплите в дереве, где-то за горизонтом справа."
   ]
  },
  {
   "cell_type": "markdown",
   "metadata": {},
   "source": [
    "Построим графики зависимости смещения и разброса от n_estimators (по сетке 2**np.arange(1, 7)) для случайного леса и градиентного бустинга:"
   ]
  },
  {
   "cell_type": "code",
   "execution_count": 14,
   "metadata": {},
   "outputs": [],
   "source": [
    "from sklearn.ensemble import GradientBoostingRegressor "
   ]
  },
  {
   "cell_type": "code",
   "execution_count": 15,
   "metadata": {},
   "outputs": [],
   "source": [
    "n_estimators = 2**np.arange(1,7)\n",
    "\n",
    "bagging_bias = []\n",
    "bagging_variance = []\n",
    "boosting_bias = []\n",
    "boosting_variance = []\n",
    "\n",
    "for n in n_estimators:\n",
    "    bias, var, _ = compute_bias_variance(RandomForestRegressor(n_estimators=n), X, y)\n",
    "    bagging_bias.append(bias)\n",
    "    bagging_variance.append(var)\n",
    "    \n",
    "    bias, var, _ = compute_bias_variance(GradientBoostingRegressor(n_estimators=n), X, y)\n",
    "    boosting_bias.append(bias)\n",
    "    boosting_variance.append(var)"
   ]
  },
  {
   "cell_type": "code",
   "execution_count": 16,
   "metadata": {},
   "outputs": [
    {
     "data": {
      "image/png": "[encoded data removed]",
      "text/plain": [
       "<Figure size 1152x432 with 2 Axes>"
      ]
     },
     "metadata": {
      "needs_background": "light"
     },
     "output_type": "display_data"
    }
   ],
   "source": [
    "fig, axs = plt.subplots(1, 2, sharey=True, figsize=(16,6))\n",
    "    \n",
    "axs[0].set_xticks(np.arange(1,7))\n",
    "axs[0].grid(alpha=0.3)    \n",
    "axs[0].set_title('Random forest')\n",
    "axs[0].set_xlabel('Log of number of estimator')\n",
    "axs[0].set_ylabel('Error')\n",
    "    \n",
    "axs[0].plot(np.arange(1,7), bagging_bias, label='Bias')\n",
    "axs[0].plot(np.arange(1,7), bagging_variance, label='Variance')\n",
    "axs[0].legend()\n",
    "\n",
    "axs[1].set_xticks(np.arange(1,7))\n",
    "axs[1].grid(alpha=0.3)\n",
    "axs[1].set_title('Gradient boosting')\n",
    "axs[1].set_xlabel('Log of number of estimators')\n",
    "    \n",
    "axs[1].plot(np.arange(1,7), boosting_bias, label='Bias')\n",
    "axs[1].plot(np.arange(1,7), boosting_variance, label='Variance')\n",
    "axs[1].legend()\n",
    "\n",
    "plt.show()"
   ]
  },
  {
   "cell_type": "markdown",
   "metadata": {},
   "source": [
    "У случайного леса смещение константно, как и говорит соответствующая теория, при этом дисперсия падает не линейно в виду высокой корелляции моделей (на 500 сэмплах много принципиально разных деревьев не построишь), но все равно снижается.\n",
    "\n",
    "По классическому построению градиентного бустинга используются деревья небольшой глубины, поэтому в самом начале можно увидеть как раз разброс одного неглубокого дерева, затем количество деревьев нарастает и они начинают исправлять ошибки друг друга, приводя к приличной модели начиная с 64 деревьев. Причина маленькой дисперсии заключена в высокой обобщающей способности неглубоких деревьев, потом все же за счет большого количества алгоритмов их суммарная дисперсия потихоньку набегает и становится немного больше."
   ]
  }
 ],
 "metadata": {
  "kernelspec": {
   "display_name": "Python 3",
   "language": "python",
   "name": "python3"
  },
  "language_info": {
   "codemirror_mode": {
    "name": "ipython",
    "version": 3
   },
   "file_extension": ".py",
   "mimetype": "text/x-python",
   "name": "python",
   "nbconvert_exporter": "python",
   "pygments_lexer": "ipython3",
   "version": "3.7.3"
  }
 },
 "nbformat": 4,
 "nbformat_minor": 2
}
