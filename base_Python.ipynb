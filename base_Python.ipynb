{
 "cells": [
  {
   "cell_type": "code",
   "execution_count": 1,
   "metadata": {},
   "outputs": [
    {
     "name": "stdout",
     "output_type": "stream",
     "text": [
      "Is it greater? True\n"
     ]
    }
   ],
   "source": [
    "print(\"Is it greater?\", 5 > -2)"
   ]
  },
  {
   "cell_type": "code",
   "execution_count": 2,
   "metadata": {},
   "outputs": [
    {
     "name": "stdout",
     "output_type": "stream",
     "text": [
      "Is it greater or equal? True\n"
     ]
    }
   ],
   "source": [
    "print(\"Is it greater or equal?\", 5 >= -2)"
   ]
  },
  {
   "cell_type": "code",
   "execution_count": 3,
   "metadata": {},
   "outputs": [
    {
     "name": "stdout",
     "output_type": "stream",
     "text": [
      "What is 5 - 7? -2\n"
     ]
    }
   ],
   "source": [
    "print(\"What is 5 - 7?\", 5 - 7)"
   ]
  },
  {
   "cell_type": "code",
   "execution_count": 7,
   "metadata": {},
   "outputs": [
    {
     "name": "stdout",
     "output_type": "stream",
     "text": [
      "True\n"
     ]
    }
   ],
   "source": [
    "print(3 + 0 < 15 - 7)"
   ]
  },
  {
   "cell_type": "code",
   "execution_count": 13,
   "metadata": {},
   "outputs": [
    {
     "name": "stdout",
     "output_type": "stream",
     "text": [
      "1\n"
     ]
    }
   ],
   "source": [
    "print(15 % 7)"
   ]
  },
  {
   "cell_type": "code",
   "execution_count": 2,
   "metadata": {},
   "outputs": [],
   "source": [
    "my_name = 'Zed A. Shaw'\n",
    "my_age = 35"
   ]
  },
  {
   "cell_type": "code",
   "execution_count": 6,
   "metadata": {},
   "outputs": [
    {
     "name": "stdout",
     "output_type": "stream",
     "text": [
      "Let's talk about Zed A. Shaw.\n",
      "He's 35 years old.\n"
     ]
    }
   ],
   "source": [
    "print(f\"Let's talk about {my_name}.\")\n",
    "print(f\"He's {my_age} years old.\")"
   ]
  },
  {
   "cell_type": "code",
   "execution_count": 9,
   "metadata": {},
   "outputs": [],
   "source": [
    "# this one is like your scripts with argv\n",
    "def print_two(*args):\n",
    "    arg1, arg2 = args\n",
    "    print(f\"arg1: {arg1}, arg2: {arg2}\")\n",
    "# ok, that *args is actually pointless, we can just do this\n",
    "def print_two_again(arg1, arg2):\n",
    "    print(f\"arg1: {arg1}, arg2: {arg2}\")"
   ]
  },
  {
   "cell_type": "code",
   "execution_count": 10,
   "metadata": {},
   "outputs": [
    {
     "name": "stdout",
     "output_type": "stream",
     "text": [
      "arg1: Zed, arg2: Shaw\n",
      "arg1: Zed, arg2: Shaw\n"
     ]
    }
   ],
   "source": [
    "print_two(\"Zed\",\"Shaw\")\n",
    "print_two_again(\"Zed\",\"Shaw\")"
   ]
  },
  {
   "cell_type": "code",
   "execution_count": 26,
   "metadata": {},
   "outputs": [],
   "source": [
    "def test_addition(a, b):\n",
    "    print(\"I:\", a, b)\n",
    "    a *= 2\n",
    "    b -= 3\n",
    "    print(\"II:\", a, b)\n",
    "    return a+b"
   ]
  },
  {
   "cell_type": "code",
   "execution_count": 27,
   "metadata": {},
   "outputs": [
    {
     "name": "stdout",
     "output_type": "stream",
     "text": [
      "I: 2 3\n",
      "II: 4 0\n",
      "4\n",
      "III: 2 3\n"
     ]
    }
   ],
   "source": [
    "a = 2\n",
    "b = 3\n",
    "print(test_addition(a, b))\n",
    "print(\"III:\", a, b)"
   ]
  },
  {
   "cell_type": "code",
   "execution_count": 7,
   "metadata": {},
   "outputs": [
    {
     "data": {
      "text/plain": [
       "'1.24'"
      ]
     },
     "execution_count": 7,
     "metadata": {},
     "output_type": "execute_result"
    }
   ],
   "source": [
    "x = 1.235\n",
    "format(x, '0.2f')"
   ]
  },
  {
   "cell_type": "code",
   "execution_count": 10,
   "metadata": {},
   "outputs": [
    {
     "name": "stdout",
     "output_type": "stream",
     "text": [
      "0.7647058823529411764705882353\n",
      "0.765\n"
     ]
    }
   ],
   "source": [
    "from decimal import Decimal\n",
    "from decimal import localcontext\n",
    "\n",
    "a = Decimal('1.3')\n",
    "b = Decimal('1.7')\n",
    "print(a / b)\n",
    "\n",
    "with localcontext() as ctx:\n",
    "    ctx.prec = 3\n",
    "    print(a / b)"
   ]
  },
  {
   "cell_type": "code",
   "execution_count": 13,
   "metadata": {},
   "outputs": [
    {
     "name": "stdout",
     "output_type": "stream",
     "text": [
      "6.3\n",
      "True\n"
     ]
    }
   ],
   "source": [
    "a = Decimal('4.2')\n",
    "b = Decimal('2.1')\n",
    "print(a + b)\n",
    "print((a + b) == Decimal('6.3'))"
   ]
  },
  {
   "cell_type": "code",
   "execution_count": 14,
   "metadata": {},
   "outputs": [
    {
     "name": "stdout",
     "output_type": "stream",
     "text": [
      "6.300000000000001\n",
      "False\n"
     ]
    }
   ],
   "source": [
    "a = 4.2\n",
    "b = 2.1\n",
    "print(a + b)\n",
    "print((a + b) == 6.3)"
   ]
  },
  {
   "cell_type": "code",
   "execution_count": 19,
   "metadata": {},
   "outputs": [
    {
     "name": "stdout",
     "output_type": "stream",
     "text": [
      "1234.57\n",
      "    1234.6\n",
      "1234.6    \n",
      "  1234.6  \n",
      "1,234.56789\n",
      "1,234.6\n"
     ]
    }
   ],
   "source": [
    "a=b=c=d=e=f = 1234.56789\n",
    "\n",
    "# Two decimal places of accuracy\n",
    "print(format(a, '0.2f'))\n",
    "# Right justified in 10 chars, one-digit accuracy\n",
    "print(format(b, '>10.1f'))\n",
    "# Left justified\n",
    "print(format(c, '<10.1f'))\n",
    "# Centered\n",
    "print(format(d, '^10.1f'))\n",
    "# Inclusion of thousands separator\n",
    "print(format(e, ','))\n",
    "print(format(f, '0,.1f'))"
   ]
  },
  {
   "cell_type": "code",
   "execution_count": 24,
   "metadata": {},
   "outputs": [
    {
     "name": "stdout",
     "output_type": "stream",
     "text": [
      "[2.+3.j 4.+5.j 6.-7.j 8.+9.j]\n"
     ]
    }
   ],
   "source": [
    "import numpy as np\n",
    "\n",
    "a = np.array([2+3j, 4+5j, 6-7j, 8+9j])\n",
    "print(a)"
   ]
  },
  {
   "cell_type": "code",
   "execution_count": 22,
   "metadata": {},
   "outputs": [
    {
     "name": "stdout",
     "output_type": "stream",
     "text": [
      "1j\n"
     ]
    }
   ],
   "source": [
    "import cmath\n",
    "\n",
    "print(cmath.sqrt(-1))"
   ]
  },
  {
   "cell_type": "code",
   "execution_count": 25,
   "metadata": {},
   "outputs": [
    {
     "name": "stdout",
     "output_type": "stream",
     "text": [
      "27/16\n",
      "35/64\n",
      "35\n",
      "64\n"
     ]
    }
   ],
   "source": [
    "from fractions import Fraction\n",
    "\n",
    "a = Fraction(5, 4)\n",
    "b = Fraction(7, 16)\n",
    "print(a + b)\n",
    "print(a * b)\n",
    "\n",
    "# Getting numerator/denominator\n",
    "c = a * b\n",
    "print(c.numerator)\n",
    "print(c.denominator)"
   ]
  },
  {
   "cell_type": "code",
   "execution_count": 31,
   "metadata": {},
   "outputs": [
    {
     "name": "stdout",
     "output_type": "stream",
     "text": [
      "[1, 2, 3, 4, 1, 2, 3, 4]\n",
      "[1, 2, 3, 4, 5, 6, 7, 8]\n",
      "\n"
     ]
    }
   ],
   "source": [
    "# The major feature of NumPy is that it gives Python an array object that is much more efficient \n",
    "# and better suited for mathematical calculation than a standard Python list.\n",
    "\n",
    "# Python lists\n",
    "x = [1, 2, 3, 4]\n",
    "y = [5, 6, 7, 8]\n",
    "print(x * 2)\n",
    "# print(x + 10)  -  error\n",
    "print(x + y)\n",
    "print()"
   ]
  },
  {
   "cell_type": "code",
   "execution_count": 36,
   "metadata": {},
   "outputs": [
    {
     "name": "stdout",
     "output_type": "stream",
     "text": [
      "[2 4 6 8]\n",
      "[11 12 13 14]\n",
      "[ 6  8 10 12]\n",
      "[ 5 12 21 32]\n",
      "\n",
      "[ 8 15 28 47]\n"
     ]
    }
   ],
   "source": [
    "# Numpy arrays\n",
    "ax = np.array([1, 2, 3, 4])\n",
    "ay = np.array([5, 6, 7, 8])\n",
    "print(ax * 2)\n",
    "print(ax + 10)\n",
    "print(ax + ay)\n",
    "print(ax * ay, end=\"\\n\\n\")\n",
    "\n",
    "def f(x):\n",
    "    return 3*x**2 - 2*x + 7\n",
    "print(f(ax))"
   ]
  },
  {
   "cell_type": "code",
   "execution_count": 41,
   "metadata": {},
   "outputs": [
    {
     "name": "stdout",
     "output_type": "stream",
     "text": [
      "[[0. 0. 0. ... 0. 0. 0.]\n",
      " [0. 0. 0. ... 0. 0. 0.]\n",
      " [0. 0. 0. ... 0. 0. 0.]\n",
      " ...\n",
      " [0. 0. 0. ... 0. 0. 0.]\n",
      " [0. 0. 0. ... 0. 0. 0.]\n",
      " [0. 0. 0. ... 0. 0. 0.]]\n",
      "\n",
      "[[10. 10. 10. ... 10. 10. 10.]\n",
      " [10. 10. 10. ... 10. 10. 10.]\n",
      " [10. 10. 10. ... 10. 10. 10.]\n",
      " ...\n",
      " [10. 10. 10. ... 10. 10. 10.]\n",
      " [10. 10. 10. ... 10. 10. 10.]\n",
      " [10. 10. 10. ... 10. 10. 10.]]\n"
     ]
    }
   ],
   "source": [
    "#if you want to make a two-dimensional grid of 10,000 by 10,000 floats, it’s not an issue:\n",
    "grid = np.zeros(shape=(10000,10000), dtype=float)\n",
    "print(grid, end='\\n\\n')\n",
    "\n",
    "grid += 10\n",
    "print(grid)"
   ]
  },
  {
   "cell_type": "code",
   "execution_count": 56,
   "metadata": {},
   "outputs": [
    {
     "name": "stdout",
     "output_type": "stream",
     "text": [
      "[[ 1  2  3  4]\n",
      " [ 5  6  7  8]\n",
      " [ 9 10 11 12]]\n"
     ]
    }
   ],
   "source": [
    "a = np.array([[1, 2, 3, 4], [5, 6, 7, 8], [9, 10, 11, 12]])\n",
    "print(a)"
   ]
  },
  {
   "cell_type": "code",
   "execution_count": 57,
   "metadata": {},
   "outputs": [
    {
     "name": "stdout",
     "output_type": "stream",
     "text": [
      "[1 2 3 4]\n",
      "[]\n",
      "[[1 2 3 4]]\n",
      "[1 5 9]\n"
     ]
    }
   ],
   "source": [
    "print(a[0])\n",
    "print(a[:0])\n",
    "print(a[:1])\n",
    "print(a[:,0])"
   ]
  },
  {
   "cell_type": "code",
   "execution_count": 58,
   "metadata": {},
   "outputs": [
    {
     "name": "stdout",
     "output_type": "stream",
     "text": [
      "[[ 6  7]\n",
      " [10 11]]\n",
      "\n",
      "[[ 1  2  3  4]\n",
      " [ 5 16 17  8]\n",
      " [ 9 20 21 12]]\n"
     ]
    }
   ],
   "source": [
    "print(a[1:3, 1:3], end='\\n\\n')\n",
    "a[1:3, 1:3] += 10\n",
    "print(a)"
   ]
  },
  {
   "cell_type": "code",
   "execution_count": 60,
   "metadata": {},
   "outputs": [
    {
     "name": "stdout",
     "output_type": "stream",
     "text": [
      "[[  1   2   3   4]\n",
      " [  5 -10 -10   8]\n",
      " [  9 -10 -10 -10]]\n"
     ]
    }
   ],
   "source": [
    "# Conditional assignment on an array\n",
    "print(np.where(a < 10, a, -10))"
   ]
  },
  {
   "cell_type": "code",
   "execution_count": 67,
   "metadata": {},
   "outputs": [
    {
     "name": "stdout",
     "output_type": "stream",
     "text": [
      "[[ 1 -2  3]\n",
      " [ 0  4  5]\n",
      " [ 7  8 -9]]\n",
      "\n",
      "[[ 1  0  7]\n",
      " [-2  4  8]\n",
      " [ 3  5 -9]]\n",
      "\n"
     ]
    }
   ],
   "source": [
    "m = np.matrix([[1,-2,3],[0,4,5],[7,8,-9]])\n",
    "print(m, end='\\n\\n')\n",
    "print(m.T, end='\\n\\n')"
   ]
  },
  {
   "cell_type": "code",
   "execution_count": 85,
   "metadata": {},
   "outputs": [
    {
     "name": "stdout",
     "output_type": "stream",
     "text": [
      "[[ 4  0  0]\n",
      " [ 0  5  0]\n",
      " [ 0  0 -8]]\n",
      "\n",
      "-159.99999999999994\n",
      "\n",
      "[[ 0.25   0.     0.   ]\n",
      " [ 0.     0.2    0.   ]\n",
      " [-0.    -0.    -0.125]]\n",
      "\n",
      "[[ 4  0  0]\n",
      " [ 0  5  0]\n",
      " [ 0  0 -8]]\n"
     ]
    }
   ],
   "source": [
    "mn = np.matrix([[4,0,0],[0,5,0],[0,0,-8]])\n",
    "print(mn, end='\\n\\n')\n",
    "print(np.linalg.det(mn), end='\\n\\n')\n",
    "print(mn.I, end='\\n\\n')\n",
    "print(mn)"
   ]
  },
  {
   "cell_type": "code",
   "execution_count": 88,
   "metadata": {},
   "outputs": [
    {
     "name": "stdout",
     "output_type": "stream",
     "text": [
      "4\n",
      "2\n",
      "\n",
      "[2, 1, 3]\n"
     ]
    }
   ],
   "source": [
    "import random\n",
    "\n",
    "values = [1, 2, 3, 4, 5, 6]\n",
    "print(random.choice(values))\n",
    "print(random.choice(values))\n",
    "print()\n",
    "\n",
    "print(random.sample(values, 3))"
   ]
  },
  {
   "cell_type": "code",
   "execution_count": 100,
   "metadata": {},
   "outputs": [
    {
     "name": "stdout",
     "output_type": "stream",
     "text": [
      "2\n",
      "37800\n",
      "10.5\n",
      "58.5\n"
     ]
    }
   ],
   "source": [
    "from datetime import timedelta\n",
    "\n",
    "a = timedelta(days=2, hours=6)\n",
    "b = timedelta(hours=4.5)\n",
    "c = a + b\n",
    "\n",
    "print(c.days)\n",
    "print(c.seconds)\n",
    "print(c.seconds / 3600)\n",
    "print(c.total_seconds() / 3600)"
   ]
  },
  {
   "cell_type": "code",
   "execution_count": 101,
   "metadata": {},
   "outputs": [
    {
     "name": "stdout",
     "output_type": "stream",
     "text": [
      "2012-10-03 00:00:00\n",
      "\n",
      "2022 days, 0:00:09.000023\n"
     ]
    }
   ],
   "source": [
    "from datetime import datetime\n",
    "\n",
    "a = datetime(2012, 9, 23)\n",
    "print(a + timedelta(days=10))\n",
    "print()\n",
    "b = timedelta(2012, 9, 23)\n",
    "print(b + timedelta(days=10))"
   ]
  },
  {
   "cell_type": "code",
   "execution_count": 1,
   "metadata": {},
   "outputs": [
    {
     "name": "stdout",
     "output_type": "stream",
     "text": [
      "[1, 2, 3, 4, 5]\n"
     ]
    }
   ],
   "source": [
    "l = [1, 3, 2, 5, 4]\n",
    "l.sort()\n",
    "print(l)"
   ]
  },
  {
   "cell_type": "code",
   "execution_count": 2,
   "metadata": {},
   "outputs": [
    {
     "name": "stdout",
     "output_type": "stream",
     "text": [
      "None\n"
     ]
    }
   ],
   "source": [
    "l = l.sort()\n",
    "print(l)"
   ]
  },
  {
   "cell_type": "code",
   "execution_count": 8,
   "metadata": {},
   "outputs": [
    {
     "data": {
      "text/plain": [
       "['', 'dict', 'list', 'one', 'two']"
      ]
     },
     "execution_count": 8,
     "metadata": {},
     "output_type": "execute_result"
    }
   ],
   "source": [
    "l2 = [1, 3, 2, 5, 4]\n",
    "sorted(list_of_words)"
   ]
  },
  {
   "cell_type": "code",
   "execution_count": 4,
   "metadata": {},
   "outputs": [
    {
     "name": "stdout",
     "output_type": "stream",
     "text": [
      "\n",
      "Data type of argument: <class 'dict'>\n",
      "firstName is Sita\n",
      "lastName is Sharma\n",
      "age is 22\n",
      "phone is 103975\n",
      "\n",
      "Data type of argument: <class 'dict'>\n",
      "firstName is John\n",
      "lastName is Wood\n",
      "email is johnwood@mail.mail\n",
      "country is sa\n"
     ]
    }
   ],
   "source": [
    "def intro(**data):\n",
    "    print(\"\\nData type of argument:\", type(data))\n",
    "    \n",
    "    for key, value in data.items():\n",
    "        print(f\"{key} is {value}\")\n",
    "        \n",
    "intro(firstName=\"Sita\", lastName=\"Sharma\", age=22, phone=103975)\n",
    "intro(firstName=\"John\", lastName=\"Wood\", email=\"johnwood@mail.mail\", country=\"sa\")"
   ]
  },
  {
   "cell_type": "code",
   "execution_count": null,
   "metadata": {},
   "outputs": [],
   "source": [
    "def adder(*nums):\n",
    "    sum = 0\n",
    "    for i in nums:\n",
    "        sum += n\n",
    "    print(sum)\n",
    "    \n",
    "adder(3, 5)\n",
    "adder(2, 4, 6)"
   ]
  }
 ],
 "metadata": {
  "kernelspec": {
   "display_name": "Python 3",
   "language": "python",
   "name": "python3"
  },
  "language_info": {
   "codemirror_mode": {
    "name": "ipython",
    "version": 3
   },
   "file_extension": ".py",
   "mimetype": "text/x-python",
   "name": "python",
   "nbconvert_exporter": "python",
   "pygments_lexer": "ipython3",
   "version": "3.7.3"
  }
 },
 "nbformat": 4,
 "nbformat_minor": 4
}
